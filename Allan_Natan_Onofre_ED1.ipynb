{
  "nbformat": 4,
  "nbformat_minor": 0,
  "metadata": {
    "colab": {
      "name": "Allan-Natan-Onofre - ED1.ipynb",
      "provenance": [],
      "collapsed_sections": [],
      "toc_visible": true,
      "include_colab_link": true
    },
    "kernelspec": {
      "name": "python3",
      "display_name": "Python 3"
    }
  },
  "cells": [
    {
      "cell_type": "markdown",
      "metadata": {
        "id": "view-in-github",
        "colab_type": "text"
      },
      "source": [
        "<a href=\"https://colab.research.google.com/github/TsunamiAllan/ED1/blob/main/Allan_Natan_Onofre_ED1.ipynb\" target=\"_parent\"><img src=\"https://colab.research.google.com/assets/colab-badge.svg\" alt=\"Open In Colab\"/></a>"
      ]
    },
    {
      "cell_type": "markdown",
      "metadata": {
        "id": "cqCrcrHkgyPA"
      },
      "source": [
        "**Disciplina:** Estrutura de Dados I.\n",
        "**Professor:** Tales Bogoni\n",
        "\n",
        "\n",
        "**Alunos:**\n",
        "Allan Finger Candido,\n",
        "Natan Rubenich,\n",
        "Onofre André Dall'Oglio,"
      ]
    },
    {
      "cell_type": "markdown",
      "metadata": {
        "id": "MgdedeJShbSe"
      },
      "source": [
        "**Trabalho:**  Base de dados utilizadao: Preço de medicamentos, disponível no GitHub em: ."
      ]
    },
    {
      "cell_type": "markdown",
      "metadata": {
        "id": "vZ7F47AOv6_6"
      },
      "source": [
        "**PROBLEMAS / PERGUNTAS A SEREM RESPONDIDAS:**\n",
        "\n",
        "PREÇO DO REMÉDIO MAIS CARO DENTRE OS LABORATÓRIOS SELECIONADOS?\n",
        "\n",
        "PREÇO MÉDIO DOS MEDICAMENTOS DESSES LABORATÓRIOS?\n",
        "\n",
        "PREÇO DO REMÉDIO MAIS BARATO DENTRE OS LABORATÓRIOS SELECIONADOS?\n"
      ]
    },
    {
      "cell_type": "markdown",
      "metadata": {
        "id": "zozquxpnV3F2"
      },
      "source": [
        "Importação das Bibliotecas"
      ]
    },
    {
      "cell_type": "code",
      "metadata": {
        "id": "fcXs3Fdos31p"
      },
      "source": [
        "import pandas as pd\n",
        "import numpy as np\n",
        "import pprint"
      ],
      "execution_count": null,
      "outputs": []
    },
    {
      "cell_type": "markdown",
      "metadata": {
        "id": "rSpXz60RV7eQ"
      },
      "source": [
        "Leitura do Dataset"
      ]
    },
    {
      "cell_type": "markdown",
      "metadata": {
        "id": "j11JIAJbWaM4"
      },
      "source": [
        ""
      ]
    },
    {
      "cell_type": "code",
      "metadata": {
        "id": "eGu-iuhht8Fi"
      },
      "source": [
        "database = pd.read_csv(\"TA_PRECO_MEDICAMENTO.csv\", delimiter = ';')"
      ],
      "execution_count": null,
      "outputs": []
    },
    {
      "cell_type": "markdown",
      "metadata": {
        "id": "Ii113YJCV9_P"
      },
      "source": [
        "Verificação dos dados do Dataset"
      ]
    },
    {
      "cell_type": "code",
      "metadata": {
        "colab": {
          "base_uri": "https://localhost:8080/",
          "height": 293
        },
        "id": "wsAigM2YuRMI",
        "outputId": "7d2fa9f0-3c6f-4017-e4c2-f2b2c286f81f"
      },
      "source": [
        "database.head()"
      ],
      "execution_count": null,
      "outputs": [
        {
          "output_type": "execute_result",
          "data": {
            "text/html": [
              "<div>\n",
              "<style scoped>\n",
              "    .dataframe tbody tr th:only-of-type {\n",
              "        vertical-align: middle;\n",
              "    }\n",
              "\n",
              "    .dataframe tbody tr th {\n",
              "        vertical-align: top;\n",
              "    }\n",
              "\n",
              "    .dataframe thead th {\n",
              "        text-align: right;\n",
              "    }\n",
              "</style>\n",
              "<table border=\"1\" class=\"dataframe\">\n",
              "  <thead>\n",
              "    <tr style=\"text-align: right;\">\n",
              "      <th></th>\n",
              "      <th>SUBSTANCIA</th>\n",
              "      <th>CNPJ</th>\n",
              "      <th>LABORATORIO</th>\n",
              "      <th>APRESENTACAO</th>\n",
              "      <th>REGIME_DE_PRECO</th>\n",
              "      <th>PRECO_SEM_IMPOSTOS</th>\n",
              "      <th>TARJA</th>\n",
              "    </tr>\n",
              "  </thead>\n",
              "  <tbody>\n",
              "    <tr>\n",
              "      <th>0</th>\n",
              "      <td>ACETATO DE DEXAMETASONA;CLOTRIMAZOL</td>\n",
              "      <td>18.459.628/0001-15</td>\n",
              "      <td>BAYER S.A.</td>\n",
              "      <td>10 MG/G + 0,443 MG/G CREM DERM CT BG AL X 40 G</td>\n",
              "      <td>Regulado</td>\n",
              "      <td>19.74</td>\n",
              "      <td>Tarja Vermelha</td>\n",
              "    </tr>\n",
              "    <tr>\n",
              "      <th>1</th>\n",
              "      <td>ABATACEPTE</td>\n",
              "      <td>56.998.982/0001-07</td>\n",
              "      <td>BRISTOL-MYERS SQUIBB FARMAC_UTICA LTDA</td>\n",
              "      <td>125 MG/ML SOL INJ CT 1 SER PREENCHIDA</td>\n",
              "      <td>Regulado</td>\n",
              "      <td>1228.49</td>\n",
              "      <td>Tarja Vermelha</td>\n",
              "    </tr>\n",
              "    <tr>\n",
              "      <th>2</th>\n",
              "      <td>ABATACEPTE</td>\n",
              "      <td>56.998.982/0001-07</td>\n",
              "      <td>BRISTOL-MYERS SQUIBB FARMAC_UTICA LTDA</td>\n",
              "      <td>125 MG/ML SOL INJ CT 4 SER PREENC VD TRANS + D...</td>\n",
              "      <td>Regulado</td>\n",
              "      <td>4914.04</td>\n",
              "      <td>Tarja Vermelha (*)</td>\n",
              "    </tr>\n",
              "    <tr>\n",
              "      <th>3</th>\n",
              "      <td>ABATACEPTE</td>\n",
              "      <td>56.998.982/0001-07</td>\n",
              "      <td>BRISTOL-MYERS SQUIBB FARMAC_UTICA LTDA</td>\n",
              "      <td>250 MG PO LIOF INJ 1 CT 1 FA + SER DESCART_VEL</td>\n",
              "      <td>Regulado</td>\n",
              "      <td>1547.45</td>\n",
              "      <td>Tarja Vermelha</td>\n",
              "    </tr>\n",
              "    <tr>\n",
              "      <th>4</th>\n",
              "      <td>ABCIXIMABE</td>\n",
              "      <td>51.780.468/0001-87</td>\n",
              "      <td>JANSSEN-CILAG FARMAC_UTICA LTDA</td>\n",
              "      <td>2 MG/ML SOL INJ CT FA VD INC X 5 ML</td>\n",
              "      <td>Regulado</td>\n",
              "      <td>2003.06</td>\n",
              "      <td>Tarja Vermelha (*)</td>\n",
              "    </tr>\n",
              "  </tbody>\n",
              "</table>\n",
              "</div>"
            ],
            "text/plain": [
              "                            SUBSTANCIA  ...               TARJA\n",
              "0  ACETATO DE DEXAMETASONA;CLOTRIMAZOL  ...      Tarja Vermelha\n",
              "1                           ABATACEPTE  ...      Tarja Vermelha\n",
              "2                           ABATACEPTE  ...  Tarja Vermelha (*)\n",
              "3                           ABATACEPTE  ...      Tarja Vermelha\n",
              "4                           ABCIXIMABE  ...  Tarja Vermelha (*)\n",
              "\n",
              "[5 rows x 7 columns]"
            ]
          },
          "metadata": {
            "tags": []
          },
          "execution_count": 5
        }
      ]
    },
    {
      "cell_type": "code",
      "metadata": {
        "colab": {
          "base_uri": "https://localhost:8080/"
        },
        "id": "T9lsTasUuc3N",
        "outputId": "29c8acff-63ba-430a-cb85-1d724585f151"
      },
      "source": [
        "database.info()"
      ],
      "execution_count": null,
      "outputs": [
        {
          "output_type": "stream",
          "text": [
            "<class 'pandas.core.frame.DataFrame'>\n",
            "RangeIndex: 25321 entries, 0 to 25320\n",
            "Data columns (total 7 columns):\n",
            " #   Column              Non-Null Count  Dtype  \n",
            "---  ------              --------------  -----  \n",
            " 0   SUBSTANCIA          25321 non-null  object \n",
            " 1   CNPJ                25321 non-null  object \n",
            " 2   LABORATORIO         25321 non-null  object \n",
            " 3   APRESENTACAO        25321 non-null  object \n",
            " 4   REGIME_DE_PRECO     25321 non-null  object \n",
            " 5   PRECO_SEM_IMPOSTOS  25321 non-null  float64\n",
            " 6   TARJA               25321 non-null  object \n",
            "dtypes: float64(1), object(6)\n",
            "memory usage: 1.4+ MB\n"
          ],
          "name": "stdout"
        }
      ]
    },
    {
      "cell_type": "markdown",
      "metadata": {
        "id": "8Z8HhJ_XWCeS"
      },
      "source": [
        "Identificação dos laboratórios existentes na tabela"
      ]
    },
    {
      "cell_type": "code",
      "metadata": {
        "colab": {
          "base_uri": "https://localhost:8080/"
        },
        "id": "ZN1ccoQM1lqf",
        "outputId": "97affe7a-2164-4670-8f2d-41fa884e4f70"
      },
      "source": [
        "database['LABORATORIO'].unique()"
      ],
      "execution_count": null,
      "outputs": [
        {
          "output_type": "execute_result",
          "data": {
            "text/plain": [
              "array(['BAYER S.A.', 'BRISTOL-MYERS SQUIBB FARMAC_UTICA LTDA',\n",
              "       'JANSSEN-CILAG FARMAC_UTICA LTDA', 'ELI LILLY DO BRASIL LTDA',\n",
              "       'ASTRAZENECA DO BRASIL LTDA', 'EMS SIGMA PHARMA LTDA', 'EMS S/A',\n",
              "       'LABORAT_RIO FARMAC_UTICO ELOFAR LTDA',\n",
              "       'EUROFARMA LABORAT_RIOS S.A.',\n",
              "       'UNI_O QU_MICA FARMAC_UTICA NACIONAL S/A',\n",
              "       'CIMED IND_STRIA DE MEDICAMENTOS LTDA',\n",
              "       'LABORAT_RIO TEUTO BRASILEIRO S/A', 'GERMED FARMACEUTICA LTDA',\n",
              "       'BIOSINT_TICA FARMAC_UTICA LTDA',\n",
              "       'BRAINFARMA IND_STRIA QU_MICA E FARMAC_UTICA S.A',\n",
              "       'LABORAT_RIO GLOBO LTDA',\n",
              "       'MEDQUIMICA INDUSTRIA FARMACEUTICA LTDA.',\n",
              "       'MYLAN LABORATORIOS LTDA',\n",
              "       'LEGRAND PHARMA IND_STRIA FARMAC_UTICA LTDA',\n",
              "       'ACH_ LABORAT_RIOS FARMAC_UTICOS S.A',\n",
              "       'LABORAT_RIO NEO QU_MICA COM_RCIO E IND_STRIA LTDA',\n",
              "       'PRATI DONADUZZI & CIA LTDA', 'NOVA QUIMICA FARMAC_UTICA S/A',\n",
              "       'GEOLAB IND_STRIA FARMAC_UTICA S/A',\n",
              "       'SANOFI MEDLEY FARMAC_UTICA LTDA.', 'RANBAXY FARMAC_UTICA LTDA',\n",
              "       'VITAMEDIC INDUSTRIA FARMACEUTICA LTDA',\n",
              "       'ZYDUS NIKKHO FARMAC_UTICA LTDA',\n",
              "       'UNICHEM FARMAC_UTICA DO BRASIL LTDA',\n",
              "       'DR. REDDYS FARMAC_UTICA DO BRASIL LTDA',\n",
              "       'SUN FARMAC_UTICA DO BRASIL LTDA', 'LIBBS FARMAC_UTICA LTDA',\n",
              "       'SANDOZ DO BRASIL IND_STRIA FARMAC_UTICA LTDA',\n",
              "       'TEVA FARMAC_UTICA LTDA.', 'ACCORD FARMAC_UTICA LTDA',\n",
              "       'LABORAT_RIOS FERRING LTDA', 'WYETH IND_STRIA FARMAC_UTICA LTDA',\n",
              "       'SANOFI-AVENTIS FARMAC_UTICA LTDA',\n",
              "       'MERCK SHARP & DOHME FARMACEUTICA LTDA', 'MERCK S/A',\n",
              "       'LABORAT_RIO QU_MICO FARMAC_UTICO BERGAMO LTDA',\n",
              "       'IND_STRIA FARMAC_UTICA MELCON DO BRASIL S.A.',\n",
              "       'CIFARMA CIENT_FICA FARMAC_UTICA LTDA', 'MABRA FARMAC_UTICA LTDA.',\n",
              "       'BIOLAB SANUS FARMAC_UTICA LTDA',\n",
              "       'ALTHAIA S.A IND_STRIA FARMAC_UTICA',\n",
              "       'GR_NENTHAL DO BRASIL FARMAC_UTICA LTDA.',\n",
              "       'ZODIAC PRODUTOS FARMAC_UTICOS S/A',\n",
              "       'EXELTIS LABORATORIO FARMACEUTICO LTDA',\n",
              "       'FUNDA__O PARA O REM_DIO POPULAR - FURP',\n",
              "       'MULTILAB IND_STRIA E COM_RCIO DE PRODUTOS FARMAC_UTICOS LTDA',\n",
              "       'SANVAL COM_RCIO E IND_STRIA LTDA', 'BELFAR LTDA',\n",
              "       'GREENPHARMA QU_MICA E FARMAC_UTICA LTDA',\n",
              "       'LABORAT_RIOS OS_RIO DE MORAES LTDA',\n",
              "       'ASPEN PHARMA IND_STRIA FARMAC_UTICA LTDA',\n",
              "       'NOVARTIS BIOCIENCIAS S.A',\n",
              "       'LATINOFARMA INDUSTRIAS FARMACEUTICAS LTDA',\n",
              "       'CRIST_LIA PRODUTOS QU_MICOS FARMAC_UTICOS LTDA.',\n",
              "       'SCHERING-PLOUGH IND_STRIA FARMAC_UTICA LTDA',\n",
              "       'SHIRE FARMAC_UTICA BRASIL LTDA.',\n",
              "       'BEAUFOUR IPSEN FARMAC_UTICA LTDA', 'ABBVIE FARMAC_UTICA LTDA.',\n",
              "       'LABORAT_RIOS PFIZER LTDA', 'PRODUTOS FARMAC_UTICOS MILLET ROUX',\n",
              "       'ALLERGAN PRODUTOS FARMAC_UTICOS LTDA',\n",
              "       'MOMENTA FARMAC_UTICA LTDA.', 'NATULAB LABORAT_RIO S.A',\n",
              "       'MARJAN IND_STRIA E COM_RCIO LTDA', 'LABORAT_RIO GROSS S. A.',\n",
              "       'LABORAT_RIO FARMAC_UTICO VITAMED LTDA', 'TAKEDA PHARMA LTDA.',\n",
              "       'CASULA & VASCONCELOS IND_STRIA FARMAC_UTICA E COM_RCIO LTDA',\n",
              "       'HALEX ISTAR IND_STRIA FARMAC_UTICA SA',\n",
              "       'LABORAT_RIOS B. BRAUN S/A', 'BAXTER HOSPITALAR LTDA',\n",
              "       'HISAMITSU FARMAC_UTICA DO BRASIL LTDA',\n",
              "       'CAZI QUIMICA FARMACEUTICA INDUSTRIA E COMERCIO LTDA',\n",
              "       'BLAU FARMAC_UTICA S.A.',\n",
              "       'ZAMBON LABORAT_RIOS FARMAC_UTICOS LTDA.',\n",
              "       'LABORAT_RIO FARMAC_UTICO DA MARINHA',\n",
              "       'PHARLAB IND_STRIA FARMAC_UTICA S.A.',\n",
              "       '1FARMA INDUSTRIA FARMACEUTICA LTDA',\n",
              "       'GLAXOSMITHKLINE BRASIL LTDA', 'KLEY HERTZ FARMACEUTICA S.A',\n",
              "       'NOVAFARMA IND_STRIA FARMAC_UTICA LTDA',\n",
              "       'THEODORO F SOBRAL & CIA LTDA',\n",
              "       'COSMED INDUSTRIA DE COSMETICOS E MEDICAMENTOS S.A.',\n",
              "       'LABORAT_RIO SA_DE LTDA',\n",
              "       'BRASTERAPICA IND_STRIA FARMAC_UTICA LTDA',\n",
              "       'IMEC - IND_STRIA DE MEDICAMENTOS CUST_DIA LTDA',\n",
              "       'PHARMASCIENCE IND_STRIA FARMAC_UTICA EIRELI',\n",
              "       'PROCTER & GAMBLE DO BRASIL LTDA',\n",
              "       'HYPOFARMA - INSTITUTO DE HYPODERMIA E FARM_CIA LTDA',\n",
              "       'SANTISA LABORAT_RIO FARMAC_UTICO S/A',\n",
              "       'FARMACE IND_STRIA QU_MICO-FARMAC_UTICA CEARENSE LTDA',\n",
              "       'BIOWELL AMERICA LTDA', 'AIRELA IND_STRIA FARMAC_UTICA LTDA.',\n",
              "       'THERASKIN FARMACEUTICA LTDA.', 'MEGALABS FARMACEUTICA S.A.',\n",
              "       'RECORDATI RARE DISEASES COM_RCIO DE MEDICAMENTOS LTDA - ME',\n",
              "       'NUNESFARMA DISTRIBUIDORA DE PRODUTOS FARMAC_UTICOS LTDA',\n",
              "       'ARESE PHARMA LTDA', 'FARMOQU_MICA S/A',\n",
              "       'HIPOLABOR FARMACEUTICA LTDA', 'ATIVUS FARMAC_UTICA LTDA',\n",
              "       'DROXTER INDUSTRIA, COM_RCIO E PARTICIPA__ES LTDA',\n",
              "       'GEYER MEDICAMENTOS S/A', 'MYRALIS IND_STRIA FARMAC_UTICA LTDA',\n",
              "       'LEO PHARMA LTDA', 'GUERBET PRODUTOS RADIOL_GICOS LTDA',\n",
              "       'VALEANT FARMAC_UTICA DO BRASIL LTDA',\n",
              "       'TRB PHARMA IND_STRIA QU_MICA E FARMAC_UTICA LTDA',\n",
              "       'PRODUTOS ROCHE QU_MICOS E FARMAC_UTICOS S.A.',\n",
              "       'LABORAT_RIOS STIEFEL LTDA', 'CELLERA FARMAC_UTICA S.A.',\n",
              "       'CASA GRANADO LABORAT_RIOS, FARM_CIAS E DROGARIAS S/A',\n",
              "       'ABBOTT LABORAT_RIOS DO BRASIL LTDA', 'TORRENT DO BRASIL LTDA',\n",
              "       'ANTIBI_TICOS DO BRASIL LTDA', 'GLENMARK FARMAC_UTICA LTDA',\n",
              "       'HERBARIUM LABORATORIO BOTANICO LTDA', 'LABORATORIO VITALAB LTDA',\n",
              "       'AMGEN BIOTECNOLOGIA DO BRASIL LTDA.', 'GALDERMA BRASIL LTDA',\n",
              "       'BIONATUS LABORAT_RIO BOT_NICO LTDA',\n",
              "       'VIDFARMA IND_STRIA DE MEDICAMENTOS LTDA',\n",
              "       'AS ERVAS CURAM INDUSTRIA FARMACEUTICA LTDA',\n",
              "       'LABORATORIO CATARINENSE LTDA',\n",
              "       'FARMABRAZ BETA ATALAIA FARMACEUTICA LTDA',\n",
              "       'LABORAT_RIOS SERVIER DO BRASIL LTDA',\n",
              "       'EQUIPLEX IND_STRIA FARMAC_UTICA LTDA',\n",
              "       'FRESENIUS KABI BRASIL LTDA', 'JP INDUSTRIA FARMACEUTICA S/A',\n",
              "       'BEKER PRODUTOS F_RMACO HOSPITALARES LTDA',\n",
              "       'ISOFARMA INDUSTRIAL FARMAC_UTICA LTDA',\n",
              "       'LABORAT_RIO SANOBIOL LTDA', 'SAMTEC BIOTECNOLOGIA LIMITADA',\n",
              "       'FARMARIN INDUSTRIA E COMERCIO LTDA', 'INPHARMA LABORATORIOS LTDA',\n",
              "       'BIOTEST FARMAC_UTICA LTDA',\n",
              "       'KEDRION BRASIL DISTRIBUIDORA DE PRODUTOS HOSPITALARES LTDA',\n",
              "       'BAXALTA BRASIL BIOCI_NCIA LTDA',\n",
              "       'CSL BEHRING COM_RCIO DE PRODUTOS FARMAC_UTICOS LTDA',\n",
              "       'GRIFOLS BRASIL LTDA', 'OCTAPHARMA BRASIL LTDA',\n",
              "       'LFB - HEMODERIVADOS E BIOTECNOLOGIA LTDA',\n",
              "       'UCI - FARMA IND_STRIA FARMAC_UTICA LTDA',\n",
              "       'GENZYME DO BRASIL LTDA',\n",
              "       'PANAMERICAN MEDICAL SUPPLY SUPRIMENTOS M_DICOS LTDA',\n",
              "       'ALEXION FARMACEUTICA BRASIL IMPORTACAO E DISTRIBUICAO DE PRODUTOS E SERVICOS DE ADMINISTRACAO',\n",
              "       'BIOMARIN BRASIL FARMAC_UTICA LTDA',\n",
              "       'BIOGEN BRASIL PRODUTOS FARMAC_UTICOS LTDA',\n",
              "       'FUNDA__O OSWALDO CRUZ', 'CHRON EPIGEN IND_STRIA E COM_RCIO LTDA',\n",
              "       'NOVO NORDISK FARMAC_UTICA DO BRASIL LTDA',\n",
              "       'CHIESI FARMAC_UTICA LTDA',\n",
              "       'UNO HEALTHCARE COM_RCIO DE MEDICAMENTOS LTDA.',\n",
              "       'LABORAT_RIOS BAG_ DO BRASIL S/A',\n",
              "       'AUROBINDO PHARMA IND_STRIA FARMAC_UTICA LIMITADA',\n",
              "       'BOEHRINGER INGELHEIM DO BRASIL QU_MICA E FARMAC_UTICA LTDA.',\n",
              "       'LABORAT_RIOS BALDACCI LTDA',\n",
              "       'IND_STRIA QU_MICA DO ESTADO DE GOI_S S/A - IQUEGO', 'HYPERA S.A.',\n",
              "       'INSTITUTO BUTANTAN', 'UNITED MEDICAL LTDA',\n",
              "       'CELGENE BRASIL PRODUTOS FARMAC_UTICOS LTDA.',\n",
              "       'PTC FARMACEUTICA DO BRASIL LTDA.',\n",
              "       'SUPERA FARMA LABORAT_RIOS S.A',\n",
              "       'IFAL INDUSTRIA E COMERCIO DE PRODUTOS FARMAC LTDA',\n",
              "       'LAPON INDUSTRIA FARMACEUTICA LTDA - EPP', 'QUIMICA HALLER LTDA',\n",
              "       'INSTITUTO BIOCHIMICO IND_STRIA FARMAC_UTICA LTDA',\n",
              "       'LABORATORIO FARMACEUTICO DO ESTADO DE PERNAMBUCO GOVERNADOR MIGUEL ARRAES S/A - LAFEPE',\n",
              "       'DFL IND_STRIA E COM_RCIO S/A',\n",
              "       'DIFFUCAP - CHEMOBR_S QU_MICA E FARMAC_UTICA LTDA',\n",
              "       'BIOLAB FARMA GENERICOS LTDA',\n",
              "       'DAIICHI SANKYO BRASIL FARMAC_UTICA LTDA',\n",
              "       'VOLPHARMA DISTRIBUIDORA DE PRODUTOS HOSPITALARES E FARMAC_UTICOS LTDA',\n",
              "       'AVERT LABORAT_RIOS LTDA', 'HEMAFARMA COM. E IND. FARM. LTDA',\n",
              "       'APSEN FARMACEUTICA S/A', 'RECKITT BENCKISER (BRASIL) LTDA',\n",
              "       'FRESENIUS MEDICAL CARE LTDA',\n",
              "       'SALBEGO LABORAT_RIO FARMAC_UTICO LTDA',\n",
              "       'ACTELION PHARMACEUTICALS DO BRASIL LTDA', 'LUNDBECK BRASIL LTDA',\n",
              "       'UCB BIOPHARMA LTDA.', 'BLANVER FARMOQUIMICA E FARMAC_UTICA S.A.',\n",
              "       'NATIVITA IND. COM. LTDA.', 'WASSER FARMA LTDA',\n",
              "       'MARIOL INDUSTRIAL LTDA',\n",
              "       'MUNDIPHARMA BRASIL PRODUTOS M_DICOS E FARMAC_UTICOS LTDA',\n",
              "       'LABORAT_RIOS PIERRE FABRE DO BRASIL LTDA',\n",
              "       'LABORATIL FARMACEUTICA LTDA',\n",
              "       'FUNDA__O BAIANA DE PESQ. CIENTIFICA E DESENV.  TECNOLOGICO, FORNECIMENTO E DISTRIBUI__O DE MEDICAMENTOS-BAHIAFARMA',\n",
              "       'OPHTHALMOS S/A', 'BL IND_STRIA OTICA LTDA',\n",
              "       'EISAI LABORAT_RIOS LTDA',\n",
              "       'MOKSHA 8 BRASIL DISTRIBUIDORA E REPRESENTA__O DE MEDICAMENTOS LTDA.',\n",
              "       'MIDFARMA PRODUTOS FARMACEUTICOS LTDA',\n",
              "       'MANTECORP IND_STRIA QU_MICA E FARMAC_UTICA S.A.',\n",
              "       'LABORATORIO QUIMICO FARMACEUTICO DA AERONAUTICA',\n",
              "       'LABORAT_RIOS LIBRA DO BRASIL LTDA',\n",
              "       'MR LABORAT_RIOS FARMAC_UTICOS LTDA',\n",
              "       'MEDLEY IND_STRIA FARMAC_UTICA LTDA',\n",
              "       'JOHNSON & JOHNSON INDUSTRIAL LTDA.', 'MIN_NCORA & CIA LTDA',\n",
              "       'LABORATORIO INDUSTRIAL FARMAC_UTICO LIFAR LTDA',\n",
              "       'JOHNSON  & JOHNSON DO BRASIL IND_STRIA E COM_RCIO DE PRODUTOS PARA SA_DE LTDA',\n",
              "       'INDUSTRIA FARMACEUTICA BASA LTDA',\n",
              "       'CLARIS PRODUTOS FARMAC_UTICOS DO BRASIL LTDA',\n",
              "       'HOSPIRA PRODUTOS HOSPITALARES LTDA',\n",
              "       'UNIVERSIDADE FEDERAL DO RIO GRANDE DO NORTE',\n",
              "       'BLISFARMA IND_STRIA FARMAC_UTICA LTDA - ME',\n",
              "       'FARMA VISION IMPORTA__O E EXPORTA__O DE MEDICAMENTOS LTDA',\n",
              "       'CAMBER FARMACEUTICA LTDA',\n",
              "       'CHEMICALTECH IMPORTA__O, EXPORTA__O E COM_RCIO DE PRODUTOS M_DICOS, FARMAC_UTICOS E HOSPITALARES LTDA',\n",
              "       'SS WHITE ARTIGOS DENTARIOS LTDA', 'COMANDO DO EX_RCITO',\n",
              "       'MULTICARE PHARMACEUTICALS LTDA', 'LABORAT_RIO REGIUS LTDA.',\n",
              "       'PINT PHARMA PRODUTOS MEDICO-HOSPITALARES E FARMACEUTICOS LTDA',\n",
              "       'ASTELLAS FARMA BRASIL IMPORTA__O E DISTRIBUI__O DE MEDICAMENTOS LTDA.',\n",
              "       'COLBR_S IND_STRIA E COM_RCIO LTDA', 'VIDORA FARMAC_UTICA LTDA',\n",
              "       'BRACCO IMAGING DO BRASIL IMPORTA__O E DISTRIBUI__O DE MEDICAMENTOS LTDA',\n",
              "       'COLLECT IMPORTA__O E COM_RCIO LTDA',\n",
              "       'SCHERING DO BRASIL QU_MICA E FARMAC_UTICA LTDA',\n",
              "       'FUNDA__O EZEQUIEL DIAS - FUNED',\n",
              "       'BESINS HEALTHCARE BRASIL COMERCIAL E DISTRIBUIDORA DE MEDICAMENTOS LTDA',\n",
              "       'SAMSUNG BIOEPIS BR PHARMACEUTICAL LTDA.',\n",
              "       'APIS FLORA INDUSTRIAL  E COMERCIAL LTDA',\n",
              "       'NATCOFARMA DO BRASIL LTDA', 'LABORAT_RIO WESP LTDA',\n",
              "       'LABORAT_RIO DE EXTRATOS ALERG_NICOS LTDA',\n",
              "       'EMPRESA BRASILEIRA DE HEMODERIVADOS E BIOTECNOLOGIA',\n",
              "       'TOMMASI IMPORTA__O E EXPORTA__O LTDA',\n",
              "       'GILEAD SCIENCES FARMACEUTICA DO BRASIL LTDA',\n",
              "       'BLANVER FARMOQUIMICA E FARMACEUTICA S.A.',\n",
              "       'GE HEALTHCARE DO BRASIL COM_RCIO E SERVI_OS PARA EQUIPAMENTOS MEDICO-HOSPITALARES LTDA',\n",
              "       'ALKO DO BRASIL INDUSTRIA E COMERCIO LTDA',\n",
              "       'GUERBET IMAGEM DO BRASIL LTDA',\n",
              "       'LABORATORIO QUIMICO FARMACEUTICO TIARAJU LTDA.',\n",
              "       'FBM IND_STRIA FARMAC_UTICA LTDA', 'INSTITUTO VITAL BRAZIL S/A',\n",
              "       'CATALENT BRASIL LTDA.',\n",
              "       'CELLTRION HEALTHCARE DISTRIBUICAO DE PRODUTOS FARMACEUTICOS DOS BRASIL LTDA',\n",
              "       'BIOMM SA',\n",
              "       'GERAIS, COM_RCIO E IMPORTA__O DE MATERIAIS E EQUIPAMENTOS MEDICOS LTDA',\n",
              "       'VERTEX FARMACEUTICA DO BRASIL LTDA.',\n",
              "       'PROCTER & GAMBLE HIGIENE E COSM_TICOS LTDA',\n",
              "       'GEDEON RICHTER DO BRASIL IMPORTADORA, EXPORTADORA E DISTRIBUIDORA S.A.',\n",
              "       'INFAN INDUSTRIA QUIMICA FARMACEUTICA NACIONAL S/A',\n",
              "       'OPEM REPRESENTA__O IMPORTADORA EXPORTADORA E DISTRIBUIDORA LTDA',\n",
              "       'MAPPEL IND_STRIA DE EMBALAGENS S.A.',\n",
              "       'PHARMEDIC PHARMACEUTICALS IMPORTA__O, DISTRIBUI__O, COM_RCIO E REPRESENTA__ES LTDA',\n",
              "       'SILVESTRE LABS QU_MICA E FARMAC_UTICA LTDA',\n",
              "       'GADOR DO BRASIL - COM_RCIO DE PRODUTOS FARMAC_UTICOS LTDA',\n",
              "       'LABORATORIO SIMOES LTDA.',\n",
              "       'FARMACIA E LABORATORIO HOMEOPATICO ALMEIDA PRADO LTDA',\n",
              "       'MEDA PHARMA IMPORTA__O E EXPORTA__O DE PRODUTOS FARMAC_UTICOS LTDA.',\n",
              "       'MERZ FARMAC_UTICA COMERCIAL LTDA', 'FUNDACAO ATAULPHO DE PAIVA',\n",
              "       'MEDSTAR IMPORTA__O E EXPORTA__O EIRELI'], dtype=object)"
            ]
          },
          "metadata": {
            "tags": []
          },
          "execution_count": 7
        }
      ]
    },
    {
      "cell_type": "markdown",
      "metadata": {
        "id": "cjibv4xzP78S"
      },
      "source": [
        "Ordenando os dados de valor do DataSet"
      ]
    },
    {
      "cell_type": "code",
      "metadata": {
        "id": "xWTwq48-U6Jw"
      },
      "source": [
        "lista1 = database['PRECO_SEM_IMPOSTOS'].tolist()"
      ],
      "execution_count": null,
      "outputs": []
    },
    {
      "cell_type": "code",
      "metadata": {
        "id": "-lSoIFB6Q37D"
      },
      "source": [
        "def quickSort(lista):\n",
        "   quickSortHelper(lista,0,len(lista)-1)\n",
        "\n",
        "def quickSortHelper(lista,primeiro,ultimo):\n",
        "   if primeiro<ultimo:\n",
        "    splitpoint = partition(lista,primeiro,ultimo)\n",
        "    quickSortHelper(lista,primeiro,splitpoint-1)\n",
        "    quickSortHelper(lista,splitpoint+1,ultimo)\n",
        "\n",
        "\n",
        "def partition(lista,primeiro,ultimo):\n",
        "   pivotvalue = lista[primeiro]\n",
        "\n",
        "   leftmark = primeiro+1\n",
        "   rightmark = ultimo\n",
        "\n",
        "   done = False\n",
        "   while not done:\n",
        "\n",
        "       while leftmark <= rightmark and lista[leftmark] <= pivotvalue:\n",
        "           leftmark = leftmark + 1\n",
        "\n",
        "       while lista[rightmark] >= pivotvalue and rightmark >= leftmark:\n",
        "           rightmark = rightmark -1\n",
        "\n",
        "       if rightmark < leftmark:\n",
        "           done = True\n",
        "       else:\n",
        "           temp = lista[leftmark]\n",
        "           lista[leftmark] = lista[rightmark]\n",
        "           lista[rightmark] = temp\n",
        "\n",
        "   temp = lista[primeiro]\n",
        "   lista[primeiro] = lista[rightmark]\n",
        "   lista[rightmark] = temp\n",
        "\n",
        "   return rightmark"
      ],
      "execution_count": null,
      "outputs": []
    },
    {
      "cell_type": "code",
      "metadata": {
        "id": "NSfkrrPmUXsO"
      },
      "source": [
        "import sys\n",
        "sys.setrecursionlimit(10000000)"
      ],
      "execution_count": null,
      "outputs": []
    },
    {
      "cell_type": "code",
      "metadata": {
        "id": "4JRywDEsTBaC"
      },
      "source": [
        "quickSort(lista1)"
      ],
      "execution_count": null,
      "outputs": []
    },
    {
      "cell_type": "code",
      "metadata": {
        "colab": {
          "base_uri": "https://localhost:8080/"
        },
        "id": "k9A5P6IoTLgS",
        "outputId": "4047c0f5-66af-46cf-e356-95b97d8b8fca"
      },
      "source": [
        "print(lista1)"
      ],
      "execution_count": null,
      "outputs": [
        {
          "output_type": "stream",
          "text": [
            "[0.01, 0.37, 0.37, 0.58, 0.58, 0.74, 0.75, 0.79, 0.79, 0.88, 1.04, 1.07, 1.19, 1.19, 1.24, 1.25, 1.35, 1.38, 1.38, 1.5, 1.54, 1.6, 1.65, 1.71, 1.71, 1.71, 1.72, 1.73, 1.73, 1.73, 1.73, 1.73, 1.74, 1.76, 1.81, 1.84, 1.88, 1.91, 1.91, 1.92, 2.0, 2.02, 2.03, 2.06, 2.07, 2.09, 2.09, 2.13, 2.18, 2.18, 2.26, 2.26, 2.3, 2.31, 2.34, 2.36, 2.37, 2.37, 2.38, 2.44, 2.44, 2.46, 2.47, 2.47, 2.49, 2.52, 2.58, 2.58, 2.59, 2.61, 2.62, 2.65, 2.69, 2.7, 2.73, 2.73, 2.73, 2.74, 2.78, 2.79, 2.82, 2.83, 2.84, 2.85, 2.87, 2.88, 2.91, 2.91, 2.92, 2.92, 2.94, 2.94, 2.95, 2.96, 2.97, 2.97, 2.97, 2.97, 2.98, 2.98, 2.99, 3.0, 3.0, 3.01, 3.01, 3.01, 3.01, 3.02, 3.03, 3.03, 3.03, 3.03, 3.04, 3.04, 3.06, 3.09, 3.09, 3.11, 3.11, 3.11, 3.12, 3.14, 3.19, 3.21, 3.22, 3.22, 3.22, 3.23, 3.23, 3.25, 3.25, 3.25, 3.25, 3.26, 3.27, 3.27, 3.27, 3.28, 3.29, 3.29, 3.3, 3.32, 3.32, 3.34, 3.34, 3.35, 3.35, 3.37, 3.37, 3.37, 3.37, 3.38, 3.44, 3.46, 3.46, 3.46, 3.46, 3.46, 3.46, 3.46, 3.47, 3.48, 3.51, 3.52, 3.52, 3.52, 3.54, 3.54, 3.54, 3.54, 3.54, 3.54, 3.55, 3.55, 3.56, 3.57, 3.57, 3.58, 3.6, 3.61, 3.62, 3.63, 3.64, 3.65, 3.66, 3.69, 3.69, 3.69, 3.69, 3.69, 3.69, 3.7, 3.71, 3.71, 3.72, 3.72, 3.73, 3.73, 3.73, 3.75, 3.76, 3.77, 3.77, 3.77, 3.78, 3.78, 3.78, 3.82, 3.83, 3.84, 3.84, 3.84, 3.85, 3.85, 3.85, 3.85, 3.85, 3.85, 3.87, 3.88, 3.88, 3.89, 3.9, 3.91, 3.91, 3.92, 3.93, 3.93, 3.95, 3.96, 3.96, 3.96, 3.98, 3.98, 3.98, 4.0, 4.01, 4.01, 4.02, 4.03, 4.04, 4.04, 4.04, 4.06, 4.07, 4.07, 4.08, 4.09, 4.1, 4.11, 4.11, 4.12, 4.12, 4.13, 4.15, 4.15, 4.15, 4.15, 4.16, 4.16, 4.16, 4.17, 4.17, 4.17, 4.17, 4.19, 4.19, 4.19, 4.2, 4.2, 4.2, 4.21, 4.21, 4.22, 4.22, 4.22, 4.23, 4.23, 4.23, 4.23, 4.24, 4.24, 4.24, 4.24, 4.25, 4.25, 4.26, 4.26, 4.26, 4.27, 4.27, 4.27, 4.28, 4.28, 4.28, 4.29, 4.29, 4.29, 4.3, 4.3, 4.31, 4.31, 4.31, 4.31, 4.32, 4.32, 4.32, 4.32, 4.32, 4.33, 4.33, 4.33, 4.33, 4.33, 4.34, 4.34, 4.35, 4.35, 4.35, 4.35, 4.35, 4.35, 4.35, 4.36, 4.37, 4.37, 4.38, 4.38, 4.39, 4.39, 4.39, 4.39, 4.39, 4.41, 4.41, 4.42, 4.42, 4.44, 4.44, 4.44, 4.44, 4.44, 4.45, 4.46, 4.46, 4.46, 4.46, 4.46, 4.46, 4.47, 4.48, 4.48, 4.48, 4.48, 4.48, 4.48, 4.49, 4.49, 4.49, 4.49, 4.49, 4.52, 4.52, 4.54, 4.54, 4.55, 4.55, 4.55, 4.55, 4.55, 4.56, 4.57, 4.57, 4.58, 4.59, 4.61, 4.61, 4.62, 4.62, 4.62, 4.62, 4.62, 4.62, 4.63, 4.64, 4.64, 4.64, 4.64, 4.65, 4.65, 4.65, 4.65, 4.66, 4.67, 4.67, 4.67, 4.67, 4.67, 4.67, 4.68, 4.68, 4.69, 4.69, 4.7, 4.71, 4.71, 4.72, 4.72, 4.73, 4.73, 4.73, 4.73, 4.73, 4.74, 4.74, 4.74, 4.75, 4.75, 4.76, 4.77, 4.77, 4.77, 4.77, 4.78, 4.78, 4.79, 4.79, 4.79, 4.79, 4.79, 4.8, 4.81, 4.82, 4.82, 4.83, 4.83, 4.83, 4.84, 4.84, 4.84, 4.85, 4.85, 4.85, 4.86, 4.87, 4.87, 4.87, 4.87, 4.87, 4.87, 4.88, 4.88, 4.88, 4.88, 4.88, 4.88, 4.89, 4.9, 4.9, 4.9, 4.91, 4.91, 4.91, 4.92, 4.92, 4.93, 4.93, 4.94, 4.94, 4.94, 4.95, 4.96, 4.96, 4.96, 4.96, 4.97, 4.98, 4.98, 4.98, 4.98, 4.98, 4.99, 4.99, 4.99, 5.0, 5.0, 5.0, 5.01, 5.01, 5.02, 5.02, 5.02, 5.02, 5.03, 5.03, 5.03, 5.04, 5.04, 5.04, 5.05, 5.05, 5.06, 5.06, 5.06, 5.06, 5.07, 5.07, 5.07, 5.08, 5.08, 5.08, 5.09, 5.09, 5.09, 5.09, 5.1, 5.1, 5.1, 5.1, 5.1, 5.11, 5.11, 5.12, 5.12, 5.12, 5.12, 5.12, 5.13, 5.13, 5.14, 5.16, 5.16, 5.16, 5.16, 5.16, 5.16, 5.16, 5.17, 5.17, 5.18, 5.18, 5.19, 5.2, 5.2, 5.2, 5.2, 5.2, 5.21, 5.21, 5.21, 5.21, 5.22, 5.22, 5.22, 5.22, 5.23, 5.23, 5.23, 5.23, 5.23, 5.24, 5.24, 5.25, 5.26, 5.26, 5.28, 5.28, 5.29, 5.29, 5.29, 5.29, 5.29, 5.29, 5.29, 5.29, 5.29, 5.3, 5.3, 5.31, 5.31, 5.31, 5.31, 5.31, 5.31, 5.32, 5.32, 5.32, 5.32, 5.33, 5.33, 5.33, 5.33, 5.33, 5.33, 5.34, 5.34, 5.34, 5.34, 5.34, 5.34, 5.35, 5.35, 5.35, 5.36, 5.36, 5.36, 5.36, 5.36, 5.37, 5.37, 5.37, 5.37, 5.37, 5.38, 5.38, 5.39, 5.39, 5.39, 5.39, 5.39, 5.4, 5.4, 5.4, 5.4, 5.4, 5.4, 5.41, 5.41, 5.41, 5.41, 5.42, 5.42, 5.43, 5.43, 5.44, 5.44, 5.44, 5.44, 5.44, 5.45, 5.45, 5.45, 5.45, 5.45, 5.45, 5.45, 5.45, 5.45, 5.45, 5.45, 5.46, 5.47, 5.47, 5.47, 5.48, 5.48, 5.48, 5.49, 5.49, 5.49, 5.49, 5.49, 5.49, 5.5, 5.5, 5.5, 5.5, 5.5, 5.5, 5.51, 5.51, 5.51, 5.52, 5.52, 5.52, 5.52, 5.52, 5.53, 5.53, 5.53, 5.54, 5.54, 5.54, 5.54, 5.54, 5.54, 5.55, 5.55, 5.55, 5.55, 5.55, 5.55, 5.56, 5.56, 5.56, 5.56, 5.56, 5.56, 5.56, 5.57, 5.57, 5.57, 5.57, 5.58, 5.58, 5.58, 5.59, 5.59, 5.59, 5.59, 5.59, 5.59, 5.6, 5.6, 5.6, 5.6, 5.61, 5.61, 5.62, 5.62, 5.62, 5.62, 5.62, 5.62, 5.62, 5.63, 5.63, 5.64, 5.64, 5.64, 5.64, 5.65, 5.65, 5.65, 5.65, 5.65, 5.66, 5.67, 5.67, 5.68, 5.68, 5.68, 5.68, 5.68, 5.69, 5.69, 5.69, 5.69, 5.69, 5.7, 5.7, 5.7, 5.71, 5.71, 5.71, 5.72, 5.72, 5.72, 5.73, 5.73, 5.73, 5.73, 5.74, 5.74, 5.74, 5.76, 5.76, 5.76, 5.77, 5.77, 5.77, 5.78, 5.79, 5.79, 5.79, 5.8, 5.8, 5.81, 5.81, 5.82, 5.83, 5.83, 5.83, 5.83, 5.83, 5.84, 5.84, 5.85, 5.86, 5.87, 5.87, 5.87, 5.87, 5.87, 5.87, 5.88, 5.88, 5.88, 5.88, 5.88, 5.88, 5.88, 5.88, 5.88, 5.89, 5.89, 5.9, 5.9, 5.9, 5.9, 5.9, 5.9, 5.9, 5.9, 5.9, 5.9, 5.91, 5.91, 5.91, 5.91, 5.92, 5.92, 5.92, 5.92, 5.92, 5.92, 5.92, 5.93, 5.93, 5.93, 5.94, 5.95, 5.95, 5.95, 5.95, 5.96, 5.96, 5.96, 5.97, 5.97, 5.97, 5.98, 5.98, 5.98, 5.99, 5.99, 5.99, 5.99, 5.99, 6.0, 6.0, 6.0, 6.0, 6.01, 6.01, 6.02, 6.02, 6.02, 6.02, 6.02, 6.02, 6.03, 6.03, 6.03, 6.03, 6.03, 6.03, 6.04, 6.04, 6.04, 6.04, 6.04, 6.04, 6.04, 6.07, 6.07, 6.07, 6.07, 6.08, 6.08, 6.08, 6.08, 6.09, 6.09, 6.09, 6.09, 6.1, 6.1, 6.11, 6.11, 6.11, 6.11, 6.11, 6.11, 6.12, 6.12, 6.12, 6.12, 6.12, 6.12, 6.12, 6.12, 6.12, 6.13, 6.13, 6.13, 6.13, 6.14, 6.14, 6.14, 6.14, 6.14, 6.15, 6.15, 6.15, 6.17, 6.17, 6.18, 6.19, 6.2, 6.2, 6.2, 6.21, 6.21, 6.21, 6.21, 6.21, 6.22, 6.22, 6.22, 6.22, 6.23, 6.23, 6.25, 6.25, 6.25, 6.26, 6.26, 6.27, 6.27, 6.27, 6.27, 6.27, 6.27, 6.28, 6.29, 6.29, 6.29, 6.29, 6.29, 6.29, 6.29, 6.3, 6.3, 6.3, 6.31, 6.31, 6.32, 6.32, 6.32, 6.33, 6.33, 6.33, 6.33, 6.34, 6.34, 6.34, 6.34, 6.34, 6.34, 6.34, 6.35, 6.35, 6.35, 6.35, 6.35, 6.36, 6.36, 6.37, 6.37, 6.37, 6.37, 6.37, 6.37, 6.37, 6.37, 6.37, 6.37, 6.38, 6.38, 6.38, 6.39, 6.39, 6.39, 6.39, 6.39, 6.4, 6.4, 6.4, 6.4, 6.4, 6.41, 6.41, 6.41, 6.42, 6.42, 6.42, 6.42, 6.43, 6.43, 6.44, 6.44, 6.44, 6.44, 6.44, 6.44, 6.44, 6.45, 6.46, 6.46, 6.46, 6.46, 6.46, 6.46, 6.46, 6.46, 6.46, 6.47, 6.49, 6.49, 6.5, 6.5, 6.51, 6.51, 6.51, 6.51, 6.51, 6.51, 6.51, 6.52, 6.52, 6.52, 6.52, 6.52, 6.53, 6.53, 6.53, 6.53, 6.53, 6.53, 6.53, 6.54, 6.54, 6.54, 6.54, 6.54, 6.54, 6.54, 6.54, 6.54, 6.55, 6.55, 6.55, 6.55, 6.55, 6.56, 6.56, 6.56, 6.56, 6.56, 6.56, 6.57, 6.57, 6.57, 6.57, 6.57, 6.57, 6.57, 6.58, 6.58, 6.58, 6.58, 6.58, 6.58, 6.58, 6.59, 6.59, 6.59, 6.59, 6.59, 6.59, 6.59, 6.6, 6.6, 6.6, 6.6, 6.6, 6.6, 6.6, 6.6, 6.6, 6.61, 6.61, 6.61, 6.61, 6.61, 6.61, 6.61, 6.61, 6.61, 6.62, 6.62, 6.62, 6.63, 6.63, 6.64, 6.64, 6.64, 6.65, 6.65, 6.66, 6.66, 6.67, 6.67, 6.67, 6.68, 6.68, 6.68, 6.68, 6.68, 6.68, 6.69, 6.69, 6.69, 6.7, 6.7, 6.7, 6.7, 6.7, 6.7, 6.7, 6.71, 6.72, 6.72, 6.72, 6.72, 6.72, 6.72, 6.72, 6.72, 6.73, 6.73, 6.73, 6.73, 6.73, 6.73, 6.73, 6.73, 6.74, 6.74, 6.74, 6.75, 6.75, 6.75, 6.75, 6.76, 6.76, 6.76, 6.76, 6.76, 6.77, 6.77, 6.77, 6.77, 6.77, 6.77, 6.77, 6.78, 6.78, 6.78, 6.78, 6.79, 6.79, 6.79, 6.79, 6.8, 6.8, 6.8, 6.8, 6.81, 6.81, 6.81, 6.81, 6.82, 6.82, 6.82, 6.82, 6.83, 6.83, 6.84, 6.84, 6.84, 6.84, 6.84, 6.84, 6.84, 6.85, 6.85, 6.86, 6.87, 6.87, 6.87, 6.87, 6.88, 6.88, 6.88, 6.88, 6.88, 6.89, 6.89, 6.89, 6.89, 6.89, 6.89, 6.89, 6.89, 6.89, 6.89, 6.89, 6.89, 6.9, 6.9, 6.9, 6.91, 6.91, 6.92, 6.92, 6.92, 6.92, 6.93, 6.93, 6.94, 6.94, 6.94, 6.95, 6.95, 6.95, 6.96, 6.96, 6.97, 6.97, 6.97, 6.97, 6.97, 6.98, 6.98, 6.99, 6.99, 6.99, 6.99, 6.99, 6.99, 7.0, 7.0, 7.0, 7.01, 7.02, 7.02, 7.02, 7.02, 7.02, 7.02, 7.02, 7.02, 7.02, 7.03, 7.03, 7.04, 7.04, 7.04, 7.04, 7.04, 7.04, 7.04, 7.05, 7.05, 7.05, 7.05, 7.05, 7.06, 7.06, 7.06, 7.06, 7.06, 7.06, 7.07, 7.07, 7.07, 7.07, 7.07, 7.08, 7.08, 7.09, 7.09, 7.09, 7.09, 7.1, 7.1, 7.1, 7.1, 7.1, 7.1, 7.11, 7.11, 7.11, 7.11, 7.11, 7.12, 7.12, 7.12, 7.12, 7.12, 7.12, 7.12, 7.12, 7.12, 7.12, 7.13, 7.13, 7.14, 7.14, 7.14, 7.14, 7.15, 7.15, 7.15, 7.15, 7.15, 7.15, 7.16, 7.16, 7.16, 7.16, 7.17, 7.17, 7.17, 7.17, 7.17, 7.17, 7.17, 7.17, 7.18, 7.18, 7.18, 7.18, 7.18, 7.18, 7.18, 7.18, 7.19, 7.2, 7.2, 7.2, 7.21, 7.21, 7.21, 7.21, 7.21, 7.21, 7.21, 7.21, 7.21, 7.21, 7.21, 7.21, 7.21, 7.22, 7.22, 7.22, 7.23, 7.23, 7.24, 7.24, 7.24, 7.24, 7.24, 7.24, 7.25, 7.26, 7.26, 7.26, 7.26, 7.26, 7.26, 7.26, 7.26, 7.26, 7.26, 7.27, 7.27, 7.27, 7.27, 7.27, 7.27, 7.27, 7.27, 7.27, 7.27, 7.27, 7.28, 7.28, 7.28, 7.28, 7.28, 7.28, 7.29, 7.29, 7.29, 7.29, 7.29, 7.29, 7.29, 7.29, 7.3, 7.3, 7.3, 7.3, 7.3, 7.3, 7.31, 7.31, 7.32, 7.32, 7.32, 7.32, 7.32, 7.33, 7.33, 7.33, 7.34, 7.35, 7.35, 7.35, 7.35, 7.35, 7.36, 7.36, 7.36, 7.36, 7.36, 7.36, 7.36, 7.37, 7.37, 7.37, 7.37, 7.37, 7.37, 7.37, 7.37, 7.37, 7.39, 7.39, 7.39, 7.4, 7.4, 7.4, 7.4, 7.4, 7.4, 7.41, 7.42, 7.43, 7.43, 7.43, 7.43, 7.43, 7.43, 7.44, 7.44, 7.44, 7.45, 7.45, 7.45, 7.45, 7.45, 7.46, 7.46, 7.46, 7.46, 7.46, 7.46, 7.46, 7.46, 7.46, 7.46, 7.46, 7.47, 7.47, 7.47, 7.47, 7.47, 7.48, 7.49, 7.49, 7.49, 7.49, 7.49, 7.49, 7.5, 7.5, 7.5, 7.51, 7.51, 7.52, 7.52, 7.52, 7.53, 7.53, 7.53, 7.53, 7.53, 7.54, 7.54, 7.54, 7.54, 7.55, 7.55, 7.55, 7.56, 7.56, 7.56, 7.57, 7.57, 7.57, 7.57, 7.57, 7.58, 7.58, 7.58, 7.58, 7.59, 7.59, 7.59, 7.59, 7.59, 7.59, 7.59, 7.59, 7.6, 7.6, 7.6, 7.6, 7.6, 7.6, 7.6, 7.6, 7.6, 7.6, 7.6, 7.6, 7.6, 7.61, 7.61, 7.62, 7.62, 7.62, 7.62, 7.62, 7.62, 7.62, 7.62, 7.62, 7.63, 7.63, 7.63, 7.64, 7.64, 7.65, 7.65, 7.65, 7.65, 7.65, 7.66, 7.66, 7.66, 7.66, 7.66, 7.66, 7.66, 7.67, 7.67, 7.67, 7.67, 7.67, 7.67, 7.67, 7.68, 7.68, 7.68, 7.68, 7.68, 7.68, 7.69, 7.69, 7.69, 7.69, 7.69, 7.69, 7.69, 7.69, 7.69, 7.7, 7.7, 7.71, 7.71, 7.71, 7.71, 7.71, 7.72, 7.72, 7.72, 7.72, 7.72, 7.72, 7.72, 7.72, 7.72, 7.73, 7.73, 7.73, 7.73, 7.74, 7.74, 7.74, 7.74, 7.74, 7.74, 7.75, 7.75, 7.75, 7.76, 7.76, 7.76, 7.76, 7.76, 7.76, 7.76, 7.77, 7.77, 7.77, 7.77, 7.78, 7.78, 7.79, 7.79, 7.79, 7.79, 7.79, 7.8, 7.8, 7.8, 7.8, 7.8, 7.81, 7.81, 7.81, 7.81, 7.81, 7.82, 7.82, 7.82, 7.82, 7.82, 7.82, 7.82, 7.82, 7.83, 7.83, 7.84, 7.85, 7.86, 7.86, 7.86, 7.87, 7.87, 7.87, 7.87, 7.87, 7.88, 7.88, 7.89, 7.89, 7.89, 7.89, 7.9, 7.9, 7.9, 7.91, 7.91, 7.91, 7.91, 7.92, 7.92, 7.92, 7.92, 7.92, 7.92, 7.92, 7.93, 7.93, 7.93, 7.94, 7.94, 7.95, 7.95, 7.95, 7.96, 7.96, 7.96, 7.96, 7.96, 7.96, 7.96, 7.96, 7.97, 7.97, 7.97, 7.97, 7.98, 7.98, 7.98, 7.99, 7.99, 7.99, 7.99, 7.99, 8.0, 8.0, 8.0, 8.0, 8.0, 8.01, 8.01, 8.01, 8.02, 8.03, 8.03, 8.03, 8.03, 8.03, 8.04, 8.04, 8.04, 8.04, 8.04, 8.04, 8.04, 8.04, 8.04, 8.05, 8.05, 8.06, 8.06, 8.06, 8.06, 8.06, 8.06, 8.06, 8.06, 8.07, 8.07, 8.07, 8.07, 8.08, 8.08, 8.08, 8.08, 8.09, 8.09, 8.1, 8.1, 8.1, 8.1, 8.1, 8.11, 8.11, 8.11, 8.12, 8.12, 8.12, 8.12, 8.12, 8.12, 8.13, 8.14, 8.14, 8.14, 8.14, 8.15, 8.16, 8.16, 8.16, 8.16, 8.16, 8.16, 8.16, 8.16, 8.17, 8.17, 8.17, 8.17, 8.17, 8.18, 8.18, 8.19, 8.19, 8.19, 8.2, 8.2, 8.2, 8.2, 8.2, 8.2, 8.2, 8.21, 8.21, 8.21, 8.21, 8.21, 8.21, 8.21, 8.21, 8.21, 8.21, 8.21, 8.21, 8.22, 8.22, 8.22, 8.22, 8.22, 8.23, 8.23, 8.24, 8.24, 8.24, 8.24, 8.24, 8.24, 8.24, 8.25, 8.25, 8.25, 8.25, 8.26, 8.26, 8.26, 8.26, 8.27, 8.27, 8.27, 8.27, 8.27, 8.27, 8.27, 8.27, 8.27, 8.28, 8.28, 8.29, 8.29, 8.29, 8.29, 8.29, 8.29, 8.3, 8.3, 8.3, 8.31, 8.31, 8.31, 8.31, 8.31, 8.31, 8.31, 8.31, 8.31, 8.32, 8.32, 8.33, 8.33, 8.33, 8.34, 8.34, 8.34, 8.34, 8.34, 8.34, 8.34, 8.34, 8.34, 8.35, 8.35, 8.36, 8.36, 8.36, 8.36, 8.37, 8.37, 8.38, 8.39, 8.39, 8.39, 8.39, 8.39, 8.39, 8.39, 8.39, 8.4, 8.41, 8.41, 8.42, 8.42, 8.42, 8.42, 8.42, 8.42, 8.42, 8.42, 8.42, 8.42, 8.42, 8.43, 8.43, 8.43, 8.43, 8.44, 8.44, 8.44, 8.44, 8.44, 8.44, 8.44, 8.45, 8.45, 8.45, 8.45, 8.45, 8.45, 8.46, 8.46, 8.46, 8.46, 8.46, 8.47, 8.47, 8.47, 8.47, 8.47, 8.47, 8.47, 8.47, 8.48, 8.48, 8.48, 8.48, 8.49, 8.49, 8.49, 8.49, 8.49, 8.49, 8.5, 8.5, 8.5, 8.5, 8.5, 8.5, 8.51, 8.51, 8.51, 8.51, 8.51, 8.52, 8.52, 8.52, 8.52, 8.52, 8.52, 8.52, 8.52, 8.53, 8.53, 8.53, 8.53, 8.53, 8.53, 8.53, 8.53, 8.53, 8.53, 8.53, 8.53, 8.53, 8.53, 8.54, 8.54, 8.54, 8.54, 8.54, 8.54, 8.54, 8.55, 8.55, 8.55, 8.55, 8.55, 8.55, 8.55, 8.56, 8.57, 8.57, 8.57, 8.57, 8.58, 8.59, 8.59, 8.59, 8.59, 8.6, 8.6, 8.6, 8.6, 8.6, 8.6, 8.6, 8.6, 8.6, 8.6, 8.6, 8.61, 8.61, 8.61, 8.61, 8.62, 8.62, 8.62, 8.63, 8.63, 8.63, 8.63, 8.64, 8.64, 8.64, 8.64, 8.64, 8.64, 8.65, 8.65, 8.65, 8.65, 8.65, 8.65, 8.66, 8.66, 8.66, 8.66, 8.66, 8.67, 8.67, 8.67, 8.67, 8.67, 8.67, 8.68, 8.68, 8.68, 8.68, 8.68, 8.69, 8.69, 8.7, 8.7, 8.7, 8.7, 8.7, 8.7, 8.7, 8.7, 8.7, 8.7, 8.7, 8.7, 8.71, 8.71, 8.71, 8.71, 8.72, 8.72, 8.72, 8.72, 8.72, 8.72, 8.73, 8.73, 8.73, 8.73, 8.74, 8.74, 8.74, 8.74, 8.75, 8.75, 8.76, 8.76, 8.76, 8.78, 8.78, 8.78, 8.78, 8.78, 8.78, 8.78, 8.78, 8.78, 8.79, 8.79, 8.79, 8.79, 8.79, 8.79, 8.79, 8.8, 8.8, 8.81, 8.81, 8.81, 8.81, 8.81, 8.81, 8.82, 8.82, 8.82, 8.83, 8.83, 8.83, 8.83, 8.83, 8.84, 8.84, 8.84, 8.84, 8.84, 8.84, 8.84, 8.84, 8.85, 8.85, 8.85, 8.85, 8.85, 8.85, 8.85, 8.85, 8.85, 8.86, 8.86, 8.87, 8.87, 8.87, 8.87, 8.87, 8.87, 8.87, 8.87, 8.88, 8.88, 8.88, 8.88, 8.88, 8.88, 8.88, 8.89, 8.89, 8.89, 8.89, 8.89, 8.89, 8.89, 8.89, 8.9, 8.9, 8.9, 8.9, 8.91, 8.91, 8.92, 8.92, 8.93, 8.93, 8.93, 8.94, 8.94, 8.94, 8.95, 8.95, 8.95, 8.95, 8.95, 8.95, 8.96, 8.96, 8.96, 8.97, 8.97, 8.97, 8.97, 8.97, 8.98, 8.98, 8.98, 8.98, 8.98, 8.98, 8.98, 8.98, 8.99, 8.99, 8.99, 8.99, 9.0, 9.0, 9.0, 9.0, 9.0, 9.01, 9.01, 9.01, 9.01, 9.01, 9.02, 9.02, 9.02, 9.02, 9.02, 9.02, 9.03, 9.03, 9.03, 9.03, 9.04, 9.04, 9.04, 9.04, 9.04, 9.04, 9.04, 9.04, 9.04, 9.05, 9.05, 9.06, 9.06, 9.07, 9.07, 9.07, 9.07, 9.08, 9.08, 9.08, 9.08, 9.08, 9.09, 9.09, 9.09, 9.09, 9.1, 9.1, 9.1, 9.1, 9.1, 9.1, 9.11, 9.11, 9.11, 9.12, 9.12, 9.12, 9.12, 9.12, 9.12, 9.12, 9.12, 9.13, 9.13, 9.13, 9.13, 9.13, 9.13, 9.13, 9.13, 9.13, 9.14, 9.14, 9.14, 9.14, 9.14, 9.14, 9.15, 9.15, 9.15, 9.15, 9.16, 9.16, 9.16, 9.16, 9.16, 9.16, 9.16, 9.16, 9.17, 9.17, 9.17, 9.17, 9.18, 9.18, 9.18, 9.18, 9.18, 9.18, 9.19, 9.19, 9.19, 9.19, 9.2, 9.2, 9.2, 9.21, 9.21, 9.21, 9.21, 9.21, 9.21, 9.21, 9.21, 9.21, 9.22, 9.22, 9.22, 9.22, 9.22, 9.22, 9.22, 9.22, 9.22, 9.23, 9.23, 9.23, 9.23, 9.23, 9.24, 9.24, 9.24, 9.24, 9.25, 9.25, 9.25, 9.25, 9.26, 9.26, 9.26, 9.26, 9.26, 9.26, 9.26, 9.27, 9.27, 9.27, 9.27, 9.28, 9.28, 9.28, 9.28, 9.28, 9.28, 9.29, 9.29, 9.29, 9.29, 9.29, 9.29, 9.29, 9.29, 9.29, 9.29, 9.29, 9.29, 9.29, 9.3, 9.3, 9.3, 9.3, 9.3, 9.31, 9.31, 9.31, 9.32, 9.32, 9.32, 9.32, 9.32, 9.33, 9.33, 9.33, 9.33, 9.34, 9.34, 9.34, 9.35, 9.35, 9.35, 9.35, 9.36, 9.36, 9.36, 9.36, 9.36, 9.37, 9.37, 9.37, 9.37, 9.37, 9.37, 9.37, 9.37, 9.37, 9.37, 9.37, 9.38, 9.38, 9.38, 9.38, 9.38, 9.38, 9.38, 9.39, 9.39, 9.39, 9.4, 9.4, 9.4, 9.41, 9.41, 9.41, 9.41, 9.41, 9.42, 9.42, 9.42, 9.42, 9.43, 9.43, 9.43, 9.44, 9.44, 9.44, 9.44, 9.44, 9.44, 9.45, 9.46, 9.46, 9.46, 9.46, 9.47, 9.47, 9.47, 9.47, 9.48, 9.48, 9.48, 9.48, 9.48, 9.48, 9.48, 9.48, 9.48, 9.49, 9.49, 9.49, 9.5, 9.5, 9.5, 9.5, 9.5, 9.5, 9.5, 9.5, 9.51, 9.51, 9.51, 9.51, 9.51, 9.51, 9.51, 9.51, 9.51, 9.51, 9.52, 9.52, 9.52, 9.53, 9.53, 9.53, 9.54, 9.55, 9.55, 9.55, 9.56, 9.56, 9.56, 9.56, 9.57, 9.57, 9.57, 9.57, 9.58, 9.58, 9.58, 9.58, 9.58, 9.58, 9.58, 9.58, 9.58, 9.59, 9.6, 9.6, 9.6, 9.6, 9.6, 9.61, 9.61, 9.61, 9.62, 9.62, 9.62, 9.62, 9.62, 9.63, 9.63, 9.63, 9.63, 9.64, 9.65, 9.65, 9.65, 9.65, 9.65, 9.65, 9.65, 9.65, 9.65, 9.65, 9.67, 9.67, 9.67, 9.67, 9.67, 9.68, 9.68, 9.68, 9.68, 9.69, 9.69, 9.69, 9.69, 9.69, 9.69, 9.69, 9.69, 9.69, 9.69, 9.69, 9.7, 9.7, 9.7, 9.7, 9.7, 9.7, 9.7, 9.7, 9.71, 9.71, 9.71, 9.71, 9.71, 9.71, 9.71, 9.71, 9.71, 9.71, 9.71, 9.71, 9.72, 9.72, 9.73, 9.73, 9.73, 9.73, 9.74, 9.74, 9.74, 9.74, 9.74, 9.75, 9.75, 9.75, 9.75, 9.76, 9.76, 9.76, 9.76, 9.76, 9.76, 9.78, 9.78, 9.78, 9.78, 9.78, 9.78, 9.78, 9.78, 9.78, 9.78, 9.78, 9.78, 9.79, 9.79, 9.79, 9.79, 9.79, 9.79, 9.79, 9.8, 9.8, 9.81, 9.81, 9.81, 9.81, 9.81, 9.81, 9.82, 9.83, 9.83, 9.83, 9.84, 9.85, 9.85, 9.85, 9.85, 9.85, 9.85, 9.85, 9.86, 9.86, 9.86, 9.86, 9.87, 9.87, 9.87, 9.87, 9.87, 9.87, 9.87, 9.87, 9.88, 9.88, 9.88, 9.89, 9.89, 9.89, 9.89, 9.9, 9.9, 9.9, 9.9, 9.9, 9.9, 9.9, 9.9, 9.9, 9.9, 9.9, 9.9, 9.91, 9.91, 9.91, 9.91, 9.91, 9.91, 9.92, 9.92, 9.92, 9.92, 9.92, 9.93, 9.93, 9.93, 9.93, 9.94, 9.94, 9.94, 9.94, 9.95, 9.95, 9.95, 9.95, 9.96, 9.96, 9.96, 9.96, 9.97, 9.97, 9.98, 9.98, 9.99, 9.99, 9.99, 9.99, 9.99, 10.0, 10.0, 10.0, 10.0, 10.0, 10.0, 10.0, 10.01, 10.01, 10.01, 10.01, 10.02, 10.02, 10.02, 10.03, 10.03, 10.03, 10.03, 10.03, 10.03, 10.04, 10.04, 10.04, 10.04, 10.04, 10.04, 10.04, 10.04, 10.04, 10.04, 10.04, 10.05, 10.05, 10.06, 10.06, 10.06, 10.06, 10.06, 10.06, 10.07, 10.07, 10.08, 10.08, 10.09, 10.09, 10.09, 10.1, 10.11, 10.11, 10.11, 10.12, 10.13, 10.13, 10.13, 10.14, 10.14, 10.14, 10.14, 10.14, 10.14, 10.14, 10.14, 10.15, 10.15, 10.15, 10.15, 10.15, 10.15, 10.15, 10.15, 10.16, 10.16, 10.16, 10.16, 10.18, 10.18, 10.18, 10.18, 10.18, 10.18, 10.18, 10.18, 10.18, 10.18, 10.18, 10.19, 10.19, 10.19, 10.19, 10.19, 10.19, 10.19, 10.19, 10.19, 10.2, 10.2, 10.2, 10.21, 10.21, 10.21, 10.21, 10.21, 10.21, 10.22, 10.22, 10.22, 10.22, 10.22, 10.22, 10.23, 10.23, 10.23, 10.24, 10.24, 10.24, 10.24, 10.25, 10.25, 10.26, 10.26, 10.26, 10.26, 10.27, 10.27, 10.27, 10.27, 10.27, 10.27, 10.27, 10.27, 10.27, 10.27, 10.28, 10.28, 10.28, 10.28, 10.28, 10.28, 10.28, 10.29, 10.29, 10.29, 10.29, 10.29, 10.29, 10.29, 10.29, 10.29, 10.3, 10.3, 10.3, 10.3, 10.3, 10.31, 10.31, 10.31, 10.31, 10.32, 10.32, 10.32, 10.32, 10.32, 10.32, 10.32, 10.33, 10.33, 10.33, 10.33, 10.33, 10.33, 10.33, 10.33, 10.34, 10.34, 10.34, 10.34, 10.34, 10.35, 10.35, 10.35, 10.35, 10.35, 10.35, 10.35, 10.35, 10.35, 10.35, 10.36, 10.36, 10.37, 10.37, 10.37, 10.37, 10.37, 10.38, 10.38, 10.38, 10.38, 10.39, 10.4, 10.4, 10.4, 10.4, 10.4, 10.4, 10.41, 10.41, 10.42, 10.42, 10.42, 10.42, 10.42, 10.43, 10.43, 10.43, 10.43, 10.43, 10.44, 10.44, 10.44, 10.44, 10.44, 10.44, 10.44, 10.44, 10.45, 10.45, 10.45, 10.45, 10.45, 10.45, 10.46, 10.46, 10.46, 10.46, 10.47, 10.47, 10.47, 10.47, 10.47, 10.48, 10.48, 10.48, 10.49, 10.49, 10.49, 10.49, 10.49, 10.49, 10.49, 10.5, 10.51, 10.51, 10.51, 10.52, 10.52, 10.52, 10.52, 10.52, 10.52, 10.52, 10.53, 10.53, 10.53, 10.53, 10.53, 10.54, 10.54, 10.54, 10.54, 10.54, 10.54, 10.55, 10.55, 10.55, 10.55, 10.55, 10.55, 10.56, 10.56, 10.56, 10.56, 10.56, 10.57, 10.57, 10.58, 10.58, 10.58, 10.58, 10.59, 10.59, 10.59, 10.59, 10.59, 10.59, 10.59, 10.6, 10.6, 10.6, 10.6, 10.6, 10.6, 10.6, 10.61, 10.62, 10.62, 10.62, 10.62, 10.62, 10.62, 10.62, 10.62, 10.63, 10.63, 10.63, 10.64, 10.64, 10.64, 10.64, 10.64, 10.64, 10.64, 10.64, 10.65, 10.65, 10.66, 10.66, 10.66, 10.66, 10.66, 10.66, 10.67, 10.67, 10.67, 10.67, 10.67, 10.67, 10.68, 10.68, 10.68, 10.68, 10.69, 10.69, 10.69, 10.69, 10.69, 10.69, 10.69, 10.69, 10.69, 10.7, 10.7, 10.7, 10.7, 10.7, 10.71, 10.71, 10.71, 10.71, 10.71, 10.71, 10.71, 10.72, 10.72, 10.73, 10.73, 10.73, 10.74, 10.74, 10.74, 10.74, 10.75, 10.75, 10.75, 10.76, 10.76, 10.76, 10.76, 10.77, 10.77, 10.78, 10.78, 10.78, 10.79, 10.79, 10.79, 10.79, 10.79, 10.79, 10.79, 10.79, 10.79, 10.79, 10.79, 10.8, 10.8, 10.8, 10.8, 10.8, 10.8, 10.81, 10.81, 10.81, 10.81, 10.81, 10.81, 10.81, 10.82, 10.82, 10.82, 10.82, 10.82, 10.82, 10.82, 10.82, 10.83, 10.83, 10.83, 10.83, 10.84, 10.84, 10.84, 10.84, 10.84, 10.84, 10.84, 10.85, 10.85, 10.85, 10.85, 10.85, 10.85, 10.86, 10.86, 10.86, 10.87, 10.87, 10.87, 10.87, 10.87, 10.88, 10.89, 10.89, 10.89, 10.89, 10.9, 10.91, 10.91, 10.92, 10.92, 10.92, 10.93, 10.93, 10.93, 10.93, 10.94, 10.94, 10.95, 10.95, 10.95, 10.95, 10.95, 10.95, 10.96, 10.96, 10.96, 10.96, 10.96, 10.96, 10.96, 10.97, 10.97, 10.97, 10.97, 10.97, 10.98, 10.98, 10.98, 10.99, 10.99, 10.99, 10.99, 11.0, 11.0, 11.0, 11.0, 11.0, 11.01, 11.02, 11.02, 11.02, 11.02, 11.02, 11.02, 11.02, 11.02, 11.02, 11.03, 11.03, 11.03, 11.04, 11.04, 11.04, 11.04, 11.04, 11.04, 11.04, 11.04, 11.04, 11.04, 11.04, 11.05, 11.05, 11.05, 11.05, 11.05, 11.05, 11.05, 11.05, 11.05, 11.05, 11.06, 11.06, 11.06, 11.06, 11.06, 11.06, 11.06, 11.06, 11.07, 11.07, 11.07, 11.07, 11.07, 11.07, 11.07, 11.07, 11.07, 11.08, 11.08, 11.08, 11.08, 11.08, 11.09, 11.1, 11.11, 11.11, 11.11, 11.11, 11.12, 11.12, 11.12, 11.12, 11.12, 11.13, 11.13, 11.14, 11.14, 11.14, 11.14, 11.15, 11.15, 11.15, 11.15, 11.15, 11.15, 11.16, 11.16, 11.16, 11.16, 11.16, 11.16, 11.16, 11.17, 11.17, 11.17, 11.17, 11.17, 11.17, 11.18, 11.18, 11.18, 11.18, 11.18, 11.18, 11.18, 11.18, 11.19, 11.19, 11.19, 11.19, 11.19, 11.19, 11.2, 11.2, 11.21, 11.21, 11.21, 11.21, 11.21, 11.21, 11.21, 11.21, 11.21, 11.21, 11.21, 11.21, 11.22, 11.22, 11.22, 11.22, 11.22, 11.22, 11.23, 11.23, 11.23, 11.23, 11.23, 11.23, 11.23, 11.23, 11.23, 11.24, 11.24, 11.24, 11.24, 11.25, 11.25, 11.25, 11.25, 11.25, 11.25, 11.26, 11.26, 11.26, 11.26, 11.26, 11.26, 11.27, 11.27, 11.27, 11.27, 11.27, 11.27, 11.27, 11.27, 11.28, 11.28, 11.28, 11.28, 11.28, 11.28, 11.29, 11.29, 11.29, 11.29, 11.29, 11.3, 11.3, 11.3, 11.31, 11.31, 11.31, 11.31, 11.31, 11.32, 11.32, 11.33, 11.33, 11.33, 11.33, 11.34, 11.34, 11.34, 11.34, 11.34, 11.34, 11.35, 11.35, 11.36, 11.36, 11.36, 11.36, 11.36, 11.37, 11.37, 11.37, 11.37, 11.37, 11.37, 11.37, 11.37, 11.37, 11.37, 11.37, 11.38, 11.38, 11.38, 11.38, 11.38, 11.38, 11.38, 11.38, 11.39, 11.39, 11.39, 11.39, 11.4, 11.4, 11.4, 11.4, 11.4, 11.4, 11.4, 11.4, 11.4, 11.4, 11.4, 11.4, 11.4, 11.41, 11.41, 11.41, 11.42, 11.42, 11.42, 11.42, 11.42, 11.43, 11.43, 11.43, 11.44, 11.44, 11.44, 11.44, 11.45, 11.45, 11.45, 11.46, 11.46, 11.46, 11.46, 11.46, 11.46, 11.46, 11.46, 11.46, 11.46, 11.46, 11.46, 11.47, 11.47, 11.47, 11.47, 11.47, 11.47, 11.48, 11.48, 11.48, 11.48, 11.48, 11.48, 11.48, 11.48, 11.48, 11.48, 11.48, 11.48, 11.49, 11.49, 11.5, 11.5, 11.5, 11.5, 11.5, 11.5, 11.51, 11.51, 11.52, 11.52, 11.52, 11.53, 11.53, 11.53, 11.54, 11.54, 11.54, 11.54, 11.54, 11.54, 11.54, 11.54, 11.55, 11.55, 11.55, 11.55, 11.55, 11.55, 11.55, 11.56, 11.56, 11.56, 11.56, 11.56, 11.57, 11.57, 11.57, 11.57, 11.57, 11.57, 11.57, 11.57, 11.57, 11.57, 11.58, 11.58, 11.58, 11.59, 11.59, 11.6, 11.6, 11.6, 11.61, 11.61, 11.61, 11.61, 11.62, 11.63, 11.63, 11.63, 11.64, 11.64, 11.64, 11.64, 11.64, 11.65, 11.65, 11.65, 11.66, 11.66, 11.66, 11.67, 11.67, 11.68, 11.68, 11.68, 11.69, 11.7, 11.7, 11.71, 11.71, 11.71, 11.72, 11.72, 11.72, 11.72, 11.72, 11.72, 11.72, 11.72, 11.73, 11.74, 11.74, 11.74, 11.74, 11.74, 11.74, 11.75, 11.75, 11.75, 11.75, 11.76, 11.76, 11.76, 11.76, 11.76, 11.76, 11.76, 11.76, 11.76, 11.76, 11.76, 11.76, 11.76, 11.77, 11.77, 11.77, 11.78, 11.78, 11.78, 11.78, 11.78, 11.78, 11.78, 11.79, 11.79, 11.79, 11.79, 11.79, 11.79, 11.79, 11.79, 11.8, 11.8, 11.81, 11.81, 11.81, 11.82, 11.82, 11.82, 11.82, 11.82, 11.83, 11.84, 11.84, 11.84, 11.84, 11.84, 11.84, 11.84, 11.85, 11.85, 11.86, 11.86, 11.86, 11.86, 11.86, 11.86, 11.86, 11.86, 11.86, 11.86, 11.87, 11.87, 11.87, 11.87, 11.88, 11.88, 11.88, 11.88, 11.89, 11.89, 11.89, 11.89, 11.89, 11.89, 11.89, 11.89, 11.89, 11.89, 11.9, 11.9, 11.91, 11.91, 11.92, 11.92, 11.92, 11.92, 11.92, 11.92, 11.93, 11.93, 11.94, 11.94, 11.94, 11.94, 11.94, 11.95, 11.95, 11.95, 11.95, 11.95, 11.96, 11.96, 11.96, 11.96, 11.96, 11.96, 11.98, 11.98, 11.98, 11.98, 11.98, 11.99, 11.99, 12.0, 12.0, 12.0, 12.0, 12.0, 12.01, 12.01, 12.01, 12.01, 12.01, 12.01, 12.01, 12.01, 12.02, 12.02, 12.02, 12.02, 12.02, 12.03, 12.03, 12.03, 12.03, 12.04, 12.04, 12.04, 12.04, 12.04, 12.04, 12.04, 12.04, 12.04, 12.04, 12.04, 12.04, 12.05, 12.05, 12.05, 12.05, 12.06, 12.06, 12.06, 12.06, 12.06, 12.07, 12.07, 12.07, 12.07, 12.07, 12.07, 12.07, 12.07, 12.08, 12.08, 12.08, 12.08, 12.08, 12.08, 12.1, 12.1, 12.1, 12.11, 12.11, 12.11, 12.11, 12.11, 12.11, 12.11, 12.11, 12.11, 12.11, 12.11, 12.12, 12.12, 12.12, 12.12, 12.13, 12.13, 12.13, 12.13, 12.13, 12.14, 12.14, 12.14, 12.14, 12.14, 12.15, 12.15, 12.15, 12.15, 12.15, 12.15, 12.15, 12.15, 12.15, 12.16, 12.16, 12.16, 12.16, 12.17, 12.17, 12.18, 12.18, 12.19, 12.19, 12.2, 12.2, 12.2, 12.21, 12.21, 12.21, 12.21, 12.21, 12.21, 12.21, 12.21, 12.22, 12.22, 12.22, 12.23, 12.23, 12.23, 12.23, 12.23, 12.24, 12.24, 12.25, 12.25, 12.25, 12.25, 12.25, 12.25, 12.25, 12.26, 12.26, 12.27, 12.27, 12.28, 12.28, 12.28, 12.29, 12.29, 12.29, 12.29, 12.29, 12.3, 12.3, 12.3, 12.3, 12.3, 12.3, 12.3, 12.31, 12.31, 12.32, 12.32, 12.32, 12.33, 12.33, 12.33, 12.33, 12.34, 12.34, 12.34, 12.34, 12.35, 12.36, 12.36, 12.36, 12.37, 12.37, 12.37, 12.37, 12.37, 12.38, 12.38, 12.38, 12.39, 12.39, 12.39, 12.39, 12.39, 12.39, 12.39, 12.39, 12.4, 12.4, 12.4, 12.4, 12.4, 12.41, 12.41, 12.41, 12.41, 12.41, 12.41, 12.42, 12.42, 12.43, 12.43, 12.43, 12.43, 12.43, 12.43, 12.44, 12.44, 12.44, 12.44, 12.44, 12.44, 12.44, 12.44, 12.44, 12.45, 12.45, 12.45, 12.45, 12.45, 12.46, 12.46, 12.46, 12.46, 12.46, 12.47, 12.47, 12.47, 12.47, 12.47, 12.48, 12.48, 12.48, 12.48, 12.48, 12.49, 12.49, 12.5, 12.5, 12.5, 12.5, 12.51, 12.52, 12.53, 12.53, 12.54, 12.54, 12.55, 12.55, 12.55, 12.55, 12.55, 12.55, 12.56, 12.56, 12.56, 12.56, 12.56, 12.56, 12.58, 12.58, 12.58, 12.59, 12.59, 12.61, 12.61, 12.62, 12.62, 12.62, 12.62, 12.62, 12.63, 12.63, 12.64, 12.64, 12.64, 12.64, 12.64, 12.64, 12.65, 12.65, 12.65, 12.65, 12.66, 12.66, 12.66, 12.66, 12.66, 12.66, 12.66, 12.66, 12.66, 12.66, 12.66, 12.67, 12.67, 12.67, 12.67, 12.67, 12.68, 12.68, 12.68, 12.68, 12.68, 12.68, 12.68, 12.68, 12.68, 12.69, 12.69, 12.69, 12.7, 12.7, 12.7, 12.7, 12.7, 12.7, 12.7, 12.71, 12.71, 12.71, 12.71, 12.71, 12.71, 12.71, 12.73, 12.73, 12.74, 12.74, 12.74, 12.74, 12.75, 12.75, 12.75, 12.75, 12.75, 12.75, 12.75, 12.76, 12.76, 12.76, 12.77, 12.77, 12.77, 12.77, 12.79, 12.79, 12.79, 12.79, 12.79, 12.79, 12.79, 12.79, 12.79, 12.79, 12.8, 12.8, 12.8, 12.8, 12.8, 12.8, 12.8, 12.8, 12.81, 12.81, 12.81, 12.81, 12.81, 12.81, 12.82, 12.82, 12.82, 12.83, 12.83, 12.83, 12.83, 12.83, 12.83, 12.84, 12.84, 12.85, 12.85, 12.85, 12.85, 12.86, 12.86, 12.86, 12.86, 12.86, 12.87, 12.87, 12.87, 12.87, 12.87, 12.87, 12.88, 12.88, 12.88, 12.88, 12.88, 12.88, 12.88, 12.89, 12.89, 12.89, 12.89, 12.89, 12.89, 12.89, 12.89, 12.9, 12.9, 12.9, 12.9, 12.9, 12.9, 12.9, 12.91, 12.91, 12.91, 12.91, 12.92, 12.93, 12.94, 12.95, 12.95, 12.95, 12.95, 12.96, 12.96, 12.96, 12.96, 12.96, 12.97, 12.97, 12.98, 12.98, 12.98, 12.98, 12.99, 12.99, 12.99, 13.0, 13.0, 13.01, 13.01, 13.01, 13.01, 13.01, 13.01, 13.02, 13.02, 13.02, 13.02, 13.03, 13.04, 13.04, 13.04, 13.04, 13.05, 13.05, 13.05, 13.05, 13.06, 13.06, 13.06, 13.08, 13.08, 13.09, 13.09, 13.09, 13.09, 13.11, 13.11, 13.11, 13.11, 13.11, 13.12, 13.12, 13.12, 13.12, 13.12, 13.13, 13.13, 13.13, 13.13, 13.13, 13.14, 13.14, 13.14, 13.14, 13.15, 13.15, 13.15, 13.15, 13.15, 13.15, 13.15, 13.16, 13.16, 13.16, 13.16, 13.16, 13.16, 13.17, 13.18, 13.18, 13.18, 13.19, 13.19, 13.19, 13.19, 13.19, 13.2, 13.2, 13.21, 13.21, 13.21, 13.21, 13.21, 13.22, 13.22, 13.22, 13.22, 13.22, 13.23, 13.23, 13.23, 13.23, 13.23, 13.24, 13.24, 13.24, 13.24, 13.24, 13.25, 13.25, 13.25, 13.25, 13.25, 13.25, 13.25, 13.25, 13.25, 13.25, 13.25, 13.25, 13.25, 13.26, 13.27, 13.27, 13.27, 13.27, 13.27, 13.27, 13.27, 13.27, 13.27, 13.28, 13.28, 13.28, 13.28, 13.29, 13.29, 13.29, 13.29, 13.29, 13.29, 13.29, 13.29, 13.29, 13.3, 13.3, 13.3, 13.3, 13.3, 13.31, 13.31, 13.31, 13.31, 13.31, 13.31, 13.31, 13.32, 13.32, 13.32, 13.32, 13.32, 13.32, 13.32, 13.32, 13.32, 13.32, 13.33, 13.33, 13.33, 13.33, 13.33, 13.33, 13.33, 13.33, 13.35, 13.35, 13.35, 13.35, 13.35, 13.37, 13.37, 13.37, 13.37, 13.37, 13.37, 13.37, 13.37, 13.37, 13.37, 13.37, 13.37, 13.38, 13.38, 13.38, 13.38, 13.38, 13.38, 13.38, 13.38, 13.38, 13.39, 13.4, 13.41, 13.41, 13.41, 13.41, 13.41, 13.41, 13.41, 13.41, 13.41, 13.42, 13.42, 13.42, 13.42, 13.43, 13.43, 13.44, 13.44, 13.44, 13.44, 13.44, 13.45, 13.45, 13.45, 13.45, 13.45, 13.45, 13.46, 13.46, 13.46, 13.46, 13.47, 13.47, 13.48, 13.48, 13.48, 13.48, 13.48, 13.48, 13.49, 13.49, 13.49, 13.49, 13.49, 13.49, 13.5, 13.5, 13.5, 13.5, 13.5, 13.52, 13.52, 13.52, 13.53, 13.54, 13.54, 13.54, 13.54, 13.55, 13.55, 13.56, 13.56, 13.56, 13.57, 13.58, 13.58, 13.58, 13.58, 13.59, 13.59, 13.59, 13.59, 13.59, 13.59, 13.59, 13.6, 13.6, 13.61, 13.62, 13.62, 13.62, 13.62, 13.63, 13.63, 13.63, 13.64, 13.64, 13.64, 13.64, 13.64, 13.64, 13.64, 13.65, 13.65, 13.65, 13.65, 13.65, 13.65, 13.66, 13.66, 13.67, 13.67, 13.67, 13.67, 13.67, 13.67, 13.67, 13.68, 13.68, 13.68, 13.69, 13.69, 13.69, 13.69, 13.69, 13.69, 13.7, 13.71, 13.71, 13.71, 13.71, 13.71, 13.71, 13.71, 13.71, 13.72, 13.72, 13.73, 13.74, 13.74, 13.74, 13.74, 13.74, 13.74, 13.75, 13.75, 13.75, 13.76, 13.76, 13.76, 13.76, 13.76, 13.77, 13.77, 13.77, 13.78, 13.78, 13.78, 13.78, 13.79, 13.79, 13.79, 13.79, 13.79, 13.79, 13.8, 13.8, 13.8, 13.8, 13.8, 13.8, 13.8, 13.81, 13.81, 13.82, 13.82, 13.82, 13.82, 13.82, 13.83, 13.83, 13.83, 13.83, 13.84, 13.84, 13.84, 13.85, 13.85, 13.86, 13.86, 13.86, 13.86, 13.87, 13.87, 13.87, 13.87, 13.87, 13.87, 13.87, 13.87, 13.87, 13.87, 13.88, 13.88, 13.88, 13.89, 13.89, 13.89, 13.89, 13.89, 13.89, 13.89, 13.89, 13.89, 13.89, 13.91, 13.91, 13.92, 13.92, 13.92, 13.92, 13.93, 13.93, 13.93, 13.94, 13.94, 13.94, 13.94, 13.94, 13.94, 13.94, 13.94, 13.94, 13.94, 13.94, 13.95, 13.96, 13.96, 13.96, 13.96, 13.96, 13.96, 13.96, 13.96, 13.96, 13.96, 13.96, 13.96, 13.97, 13.97, 13.98, 13.98, 13.98, 13.98, 13.98, 13.98, 13.99, 14.0, 14.0, 14.0, 14.0, 14.01, 14.01, 14.01, 14.01, 14.02, 14.02, 14.02, 14.02, 14.03, 14.03, 14.04, 14.04, 14.04, 14.04, 14.04, 14.05, 14.05, 14.05, 14.06, 14.06, 14.06, 14.07, 14.07, 14.07, 14.07, 14.07, 14.07, 14.07, 14.07, 14.07, 14.07, 14.08, 14.08, 14.08, 14.08, 14.08, 14.08, 14.08, 14.08, 14.08, 14.08, 14.08, 14.09, 14.09, 14.09, 14.1, 14.1, 14.11, 14.11, 14.11, 14.11, 14.11, 14.11, 14.12, 14.12, 14.12, 14.12, 14.12, 14.12, 14.12, 14.12, 14.13, 14.13, 14.14, 14.15, 14.15, 14.15, 14.15, 14.15, 14.15, 14.16, 14.16, 14.16, 14.16, 14.16, 14.16, 14.17, 14.17, 14.18, 14.18, 14.18, 14.18, 14.18, 14.18, 14.19, 14.19, 14.19, 14.2, 14.2, 14.2, 14.2, 14.2, 14.2, 14.21, 14.21, 14.21, 14.21, 14.23, 14.23, 14.23, 14.23, 14.24, 14.24, 14.24, 14.25, 14.25, 14.25, 14.25, 14.25, 14.25, 14.26, 14.26, 14.26, 14.27, 14.27, 14.27, 14.27, 14.27, 14.27, 14.27, 14.28, 14.29, 14.29, 14.29, 14.29, 14.29, 14.29, 14.29, 14.29, 14.29, 14.29, 14.3, 14.3, 14.3, 14.3, 14.3, 14.3, 14.3, 14.3, 14.3, 14.31, 14.31, 14.32, 14.32, 14.32, 14.33, 14.34, 14.34, 14.34, 14.34, 14.35, 14.35, 14.35, 14.35, 14.35, 14.36, 14.36, 14.36, 14.36, 14.36, 14.37, 14.37, 14.37, 14.37, 14.37, 14.37, 14.37, 14.37, 14.37, 14.37, 14.38, 14.38, 14.38, 14.38, 14.38, 14.38, 14.38, 14.38, 14.38, 14.38, 14.39, 14.4, 14.4, 14.4, 14.4, 14.4, 14.4, 14.41, 14.41, 14.41, 14.41, 14.42, 14.42, 14.42, 14.42, 14.43, 14.43, 14.44, 14.44, 14.44, 14.44, 14.45, 14.45, 14.46, 14.46, 14.46, 14.46, 14.47, 14.47, 14.47, 14.47, 14.49, 14.49, 14.49, 14.49, 14.5, 14.5, 14.5, 14.5, 14.5, 14.51, 14.51, 14.51, 14.51, 14.51, 14.51, 14.51, 14.51, 14.51, 14.52, 14.52, 14.52, 14.53, 14.53, 14.53, 14.53, 14.54, 14.54, 14.54, 14.54, 14.55, 14.55, 14.55, 14.55, 14.55, 14.56, 14.56, 14.56, 14.58, 14.58, 14.58, 14.59, 14.59, 14.59, 14.6, 14.6, 14.6, 14.61, 14.61, 14.61, 14.61, 14.61, 14.64, 14.64, 14.65, 14.65, 14.65, 14.65, 14.65, 14.65, 14.66, 14.66, 14.66, 14.67, 14.67, 14.67, 14.68, 14.68, 14.68, 14.68, 14.68, 14.68, 14.68, 14.68, 14.69, 14.69, 14.69, 14.69, 14.69, 14.69, 14.69, 14.7, 14.7, 14.7, 14.71, 14.71, 14.71, 14.71, 14.71, 14.71, 14.72, 14.72, 14.72, 14.73, 14.73, 14.73, 14.73, 14.74, 14.74, 14.74, 14.75, 14.75, 14.75, 14.75, 14.76, 14.76, 14.76, 14.76, 14.76, 14.76, 14.76, 14.77, 14.77, 14.77, 14.77, 14.77, 14.78, 14.78, 14.78, 14.78, 14.78, 14.78, 14.79, 14.79, 14.79, 14.79, 14.79, 14.79, 14.79, 14.79, 14.79, 14.8, 14.8, 14.8, 14.8, 14.81, 14.81, 14.81, 14.81, 14.82, 14.82, 14.82, 14.82, 14.82, 14.82, 14.82, 14.82, 14.83, 14.83, 14.83, 14.83, 14.83, 14.84, 14.84, 14.84, 14.85, 14.85, 14.85, 14.85, 14.85, 14.85, 14.85, 14.85, 14.85, 14.87, 14.88, 14.89, 14.89, 14.89, 14.89, 14.89, 14.9, 14.9, 14.9, 14.91, 14.91, 14.91, 14.91, 14.91, 14.91, 14.91, 14.92, 14.92, 14.92, 14.93, 14.94, 14.94, 14.95, 14.95, 14.95, 14.95, 14.95, 14.95, 14.95, 14.95, 14.95, 14.95, 14.96, 14.96, 14.96, 14.97, 14.97, 14.97, 14.97, 14.97, 14.97, 14.97, 14.97, 14.97, 14.98, 14.98, 14.98, 14.98, 14.99, 15.0, 15.0, 15.0, 15.0, 15.0, 15.01, 15.01, 15.01, 15.01, 15.01, 15.01, 15.01, 15.01, 15.02, 15.03, 15.03, 15.03, 15.03, 15.03, 15.03, 15.03, 15.03, 15.04, 15.04, 15.04, 15.05, 15.05, 15.05, 15.06, 15.06, 15.06, 15.06, 15.07, 15.08, 15.08, 15.09, 15.09, 15.09, 15.09, 15.09, 15.09, 15.09, 15.09, 15.09, 15.09, 15.09, 15.1, 15.1, 15.1, 15.1, 15.1, 15.1, 15.1, 15.1, 15.11, 15.11, 15.11, 15.11, 15.11, 15.11, 15.12, 15.12, 15.12, 15.12, 15.12, 15.12, 15.13, 15.14, 15.15, 15.15, 15.15, 15.15, 15.15, 15.15, 15.16, 15.17, 15.17, 15.17, 15.18, 15.18, 15.18, 15.19, 15.19, 15.2, 15.2, 15.2, 15.2, 15.2, 15.21, 15.21, 15.21, 15.21, 15.21, 15.22, 15.22, 15.22, 15.22, 15.22, 15.23, 15.23, 15.23, 15.23, 15.23, 15.23, 15.24, 15.24, 15.24, 15.24, 15.24, 15.24, 15.24, 15.25, 15.25, 15.26, 15.26, 15.26, 15.26, 15.26, 15.26, 15.26, 15.26, 15.27, 15.27, 15.27, 15.27, 15.27, 15.27, 15.28, 15.28, 15.28, 15.28, 15.29, 15.29, 15.29, 15.29, 15.29, 15.29, 15.29, 15.29, 15.29, 15.3, 15.3, 15.3, 15.31, 15.31, 15.31, 15.32, 15.32, 15.32, 15.32, 15.32, 15.32, 15.32, 15.33, 15.34, 15.34, 15.34, 15.34, 15.35, 15.35, 15.35, 15.35, 15.36, 15.36, 15.36, 15.36, 15.36, 15.36, 15.37, 15.37, 15.37, 15.37, 15.38, 15.38, 15.38, 15.38, 15.38, 15.38, 15.39, 15.39, 15.4, 15.4, 15.4, 15.41, 15.41, 15.42, 15.42, 15.42, 15.42, 15.42, 15.42, 15.42, 15.43, 15.43, 15.43, 15.43, 15.43, 15.43, 15.43, 15.43, 15.43, 15.43, 15.43, 15.43, 15.43, 15.44, 15.44, 15.44, 15.44, 15.45, 15.45, 15.45, 15.46, 15.46, 15.46, 15.46, 15.46, 15.46, 15.46, 15.47, 15.47, 15.47, 15.47, 15.47, 15.47, 15.47, 15.47, 15.48, 15.48, 15.48, 15.48, 15.49, 15.49, 15.49, 15.49, 15.49, 15.49, 15.5, 15.51, 15.51, 15.51, 15.52, 15.52, 15.53, 15.53, 15.53, 15.53, 15.53, 15.53, 15.54, 15.54, 15.54, 15.54, 15.54, 15.54, 15.55, 15.55, 15.55, 15.56, 15.56, 15.57, 15.57, 15.57, 15.58, 15.59, 15.59, 15.6, 15.6, 15.6, 15.6, 15.6, 15.6, 15.6, 15.6, 15.61, 15.61, 15.61, 15.61, 15.61, 15.61, 15.61, 15.61, 15.62, 15.62, 15.62, 15.62, 15.62, 15.62, 15.62, 15.63, 15.63, 15.63, 15.63, 15.63, 15.63, 15.64, 15.64, 15.64, 15.64, 15.64, 15.64, 15.64, 15.65, 15.65, 15.65, 15.65, 15.65, 15.66, 15.66, 15.66, 15.67, 15.67, 15.67, 15.67, 15.67, 15.68, 15.68, 15.68, 15.68, 15.68, 15.68, 15.68, 15.69, 15.69, 15.69, 15.69, 15.69, 15.69, 15.69, 15.7, 15.7, 15.7, 15.7, 15.7, 15.71, 15.71, 15.71, 15.71, 15.72, 15.72, 15.72, 15.72, 15.72, 15.72, 15.72, 15.73, 15.73, 15.73, 15.73, 15.74, 15.74, 15.74, 15.74, 15.75, 15.75, 15.76, 15.76, 15.76, 15.76, 15.76, 15.77, 15.78, 15.79, 15.79, 15.79, 15.79, 15.79, 15.79, 15.8, 15.8, 15.8, 15.82, 15.82, 15.83, 15.83, 15.83, 15.83, 15.84, 15.84, 15.84, 15.84, 15.84, 15.84, 15.85, 15.85, 15.85, 15.86, 15.86, 15.86, 15.86, 15.87, 15.87, 15.87, 15.87, 15.87, 15.87, 15.87, 15.88, 15.88, 15.88, 15.88, 15.89, 15.89, 15.9, 15.9, 15.9, 15.91, 15.91, 15.92, 15.92, 15.92, 15.92, 15.93, 15.93, 15.93, 15.93, 15.94, 15.94, 15.94, 15.94, 15.94, 15.94, 15.96, 15.96, 15.96, 15.96, 15.97, 15.97, 15.97, 15.98, 15.98, 15.98, 15.98, 15.98, 15.98, 15.99, 15.99, 16.0, 16.01, 16.01, 16.02, 16.02, 16.03, 16.03, 16.03, 16.03, 16.03, 16.03, 16.03, 16.03, 16.03, 16.03, 16.04, 16.04, 16.04, 16.04, 16.05, 16.05, 16.05, 16.05, 16.05, 16.06, 16.06, 16.06, 16.06, 16.06, 16.06, 16.06, 16.06, 16.06, 16.07, 16.07, 16.07, 16.07, 16.07, 16.07, 16.07, 16.07, 16.07, 16.08, 16.09, 16.09, 16.09, 16.09, 16.1, 16.1, 16.1, 16.11, 16.11, 16.11, 16.12, 16.12, 16.12, 16.13, 16.13, 16.13, 16.14, 16.16, 16.16, 16.16, 16.17, 16.17, 16.18, 16.18, 16.18, 16.18, 16.19, 16.19, 16.2, 16.2, 16.2, 16.2, 16.21, 16.21, 16.21, 16.22, 16.22, 16.22, 16.22, 16.22, 16.22, 16.22, 16.22, 16.22, 16.22, 16.23, 16.23, 16.24, 16.24, 16.24, 16.24, 16.24, 16.25, 16.25, 16.25, 16.25, 16.25, 16.25, 16.25, 16.26, 16.26, 16.26, 16.26, 16.26, 16.27, 16.27, 16.27, 16.27, 16.27, 16.28, 16.28, 16.29, 16.29, 16.29, 16.3, 16.3, 16.31, 16.31, 16.31, 16.31, 16.31, 16.31, 16.31, 16.31, 16.31, 16.31, 16.32, 16.32, 16.32, 16.32, 16.32, 16.32, 16.32, 16.33, 16.34, 16.34, 16.35, 16.35, 16.35, 16.35, 16.35, 16.36, 16.36, 16.36, 16.36, 16.36, 16.36, 16.36, 16.36, 16.37, 16.37, 16.37, 16.37, 16.37, 16.37, 16.37, 16.37, 16.37, 16.38, 16.38, 16.38, 16.38, 16.39, 16.39, 16.39, 16.4, 16.4, 16.4, 16.4, 16.4, 16.41, 16.41, 16.42, 16.42, 16.42, 16.42, 16.43, 16.44, 16.44, 16.44, 16.45, 16.46, 16.46, 16.46, 16.47, 16.47, 16.47, 16.47, 16.47, 16.47, 16.47, 16.48, 16.48, 16.48, 16.49, 16.49, 16.49, 16.49, 16.5, 16.5, 16.5, 16.51, 16.51, 16.51, 16.51, 16.51, 16.51, 16.51, 16.51, 16.51, 16.52, 16.52, 16.52, 16.52, 16.52, 16.52, 16.52, 16.52, 16.52, 16.52, 16.52, 16.52, 16.53, 16.53, 16.53, 16.53, 16.53, 16.53, 16.53, 16.53, 16.53, 16.54, 16.54, 16.54, 16.54, 16.54, 16.54, 16.54, 16.54, 16.55, 16.55, 16.55, 16.55, 16.55, 16.55, 16.56, 16.56, 16.58, 16.58, 16.58, 16.58, 16.58, 16.58, 16.59, 16.59, 16.59, 16.59, 16.61, 16.61, 16.61, 16.61, 16.61, 16.61, 16.61, 16.61, 16.62, 16.62, 16.62, 16.63, 16.63, 16.63, 16.64, 16.64, 16.64, 16.64, 16.64, 16.64, 16.64, 16.64, 16.64, 16.64, 16.65, 16.65, 16.65, 16.65, 16.65, 16.65, 16.66, 16.66, 16.66, 16.66, 16.66, 16.66, 16.67, 16.67, 16.68, 16.68, 16.69, 16.69, 16.69, 16.69, 16.69, 16.69, 16.69, 16.69, 16.7, 16.7, 16.7, 16.7, 16.71, 16.71, 16.71, 16.71, 16.72, 16.72, 16.73, 16.74, 16.74, 16.74, 16.74, 16.74, 16.75, 16.75, 16.75, 16.75, 16.75, 16.75, 16.75, 16.76, 16.76, 16.76, 16.76, 16.76, 16.76, 16.77, 16.77, 16.77, 16.77, 16.78, 16.78, 16.78, 16.78, 16.78, 16.79, 16.79, 16.79, 16.79, 16.79, 16.79, 16.79, 16.79, 16.8, 16.8, 16.8, 16.8, 16.8, 16.8, 16.81, 16.82, 16.83, 16.83, 16.83, 16.83, 16.83, 16.83, 16.84, 16.85, 16.85, 16.85, 16.86, 16.86, 16.86, 16.87, 16.87, 16.87, 16.88, 16.88, 16.89, 16.89, 16.89, 16.89, 16.91, 16.91, 16.91, 16.91, 16.91, 16.91, 16.91, 16.91, 16.91, 16.92, 16.92, 16.92, 16.92, 16.93, 16.93, 16.93, 16.93, 16.93, 16.93, 16.93, 16.94, 16.94, 16.94, 16.94, 16.94, 16.95, 16.95, 16.95, 16.95, 16.95, 16.95, 16.96, 16.96, 16.96, 16.96, 16.96, 16.97, 16.97, 16.98, 16.99, 16.99, 16.99, 16.99, 16.99, 16.99, 16.99, 16.99, 16.99, 17.0, 17.01, 17.02, 17.02, 17.02, 17.02, 17.02, 17.02, 17.03, 17.03, 17.04, 17.05, 17.05, 17.05, 17.05, 17.06, 17.06, 17.06, 17.06, 17.07, 17.07, 17.07, 17.08, 17.08, 17.09, 17.09, 17.09, 17.09, 17.09, 17.1, 17.1, 17.11, 17.11, 17.11, 17.11, 17.11, 17.11, 17.11, 17.11, 17.12, 17.12, 17.12, 17.12, 17.13, 17.13, 17.13, 17.13, 17.13, 17.13, 17.13, 17.13, 17.14, 17.14, 17.15, 17.15, 17.15, 17.15, 17.16, 17.16, 17.16, 17.16, 17.16, 17.17, 17.17, 17.17, 17.18, 17.18, 17.18, 17.18, 17.18, 17.18, 17.19, 17.19, 17.19, 17.2, 17.2, 17.2, 17.2, 17.2, 17.2, 17.2, 17.21, 17.21, 17.21, 17.22, 17.22, 17.22, 17.22, 17.22, 17.23, 17.23, 17.23, 17.24, 17.24, 17.24, 17.24, 17.24, 17.24, 17.24, 17.24, 17.25, 17.25, 17.26, 17.26, 17.26, 17.26, 17.26, 17.27, 17.27, 17.28, 17.28, 17.28, 17.28, 17.28, 17.28, 17.28, 17.29, 17.29, 17.29, 17.29, 17.29, 17.29, 17.29, 17.29, 17.29, 17.29, 17.29, 17.29, 17.29, 17.29, 17.29, 17.3, 17.3, 17.3, 17.3, 17.31, 17.31, 17.32, 17.32, 17.32, 17.33, 17.34, 17.34, 17.34, 17.34, 17.34, 17.35, 17.35, 17.35, 17.35, 17.36, 17.36, 17.36, 17.37, 17.37, 17.37, 17.37, 17.37, 17.37, 17.38, 17.39, 17.39, 17.39, 17.39, 17.39, 17.4, 17.4, 17.4, 17.41, 17.41, 17.42, 17.42, 17.42, 17.43, 17.43, 17.43, 17.44, 17.45, 17.46, 17.46, 17.46, 17.47, 17.47, 17.48, 17.48, 17.5, 17.5, 17.5, 17.5, 17.51, 17.51, 17.52, 17.52, 17.52, 17.52, 17.53, 17.53, 17.53, 17.53, 17.54, 17.54, 17.54, 17.54, 17.54, 17.54, 17.55, 17.55, 17.55, 17.55, 17.55, 17.57, 17.57, 17.57, 17.57, 17.57, 17.57, 17.57, 17.58, 17.59, 17.59, 17.59, 17.6, 17.6, 17.61, 17.61, 17.61, 17.61, 17.62, 17.62, 17.62, 17.62, 17.63, 17.63, 17.63, 17.64, 17.64, 17.64, 17.65, 17.65, 17.65, 17.65, 17.66, 17.66, 17.66, 17.66, 17.66, 17.68, 17.68, 17.68, 17.68, 17.68, 17.69, 17.69, 17.69, 17.69, 17.7, 17.7, 17.7, 17.7, 17.7, 17.71, 17.71, 17.71, 17.71, 17.71, 17.71, 17.71, 17.72, 17.72, 17.72, 17.72, 17.72, 17.73, 17.73, 17.74, 17.74, 17.74, 17.75, 17.76, 17.76, 17.76, 17.76, 17.76, 17.77, 17.77, 17.77, 17.78, 17.78, 17.78, 17.78, 17.78, 17.79, 17.79, 17.79, 17.8, 17.8, 17.8, 17.81, 17.82, 17.82, 17.82, 17.82, 17.82, 17.83, 17.83, 17.83, 17.83, 17.84, 17.84, 17.84, 17.85, 17.85, 17.85, 17.85, 17.85, 17.86, 17.87, 17.87, 17.87, 17.87, 17.87, 17.87, 17.87, 17.89, 17.89, 17.9, 17.9, 17.9, 17.91, 17.91, 17.91, 17.91, 17.91, 17.91, 17.91, 17.92, 17.92, 17.92, 17.92, 17.93, 17.93, 17.93, 17.93, 17.93, 17.93, 17.93, 17.94, 17.94, 17.94, 17.95, 17.95, 17.95, 17.95, 17.96, 17.96, 17.96, 17.96, 17.96, 17.97, 17.97, 17.97, 17.97, 17.98, 17.98, 17.98, 17.98, 17.99, 17.99, 17.99, 17.99, 18.0, 18.0, 18.0, 18.0, 18.01, 18.01, 18.01, 18.02, 18.02, 18.02, 18.02, 18.02, 18.02, 18.03, 18.03, 18.03, 18.03, 18.03, 18.04, 18.04, 18.04, 18.04, 18.05, 18.05, 18.05, 18.05, 18.05, 18.05, 18.06, 18.06, 18.06, 18.07, 18.07, 18.07, 18.08, 18.08, 18.09, 18.09, 18.09, 18.09, 18.09, 18.1, 18.1, 18.1, 18.11, 18.12, 18.12, 18.12, 18.12, 18.12, 18.12, 18.12, 18.12, 18.12, 18.12, 18.12, 18.13, 18.13, 18.13, 18.13, 18.14, 18.14, 18.15, 18.15, 18.15, 18.15, 18.15, 18.16, 18.16, 18.16, 18.16, 18.17, 18.17, 18.17, 18.18, 18.18, 18.18, 18.18, 18.18, 18.18, 18.18, 18.18, 18.19, 18.19, 18.19, 18.19, 18.19, 18.19, 18.2, 18.21, 18.21, 18.21, 18.21, 18.21, 18.22, 18.22, 18.22, 18.23, 18.23, 18.23, 18.24, 18.24, 18.24, 18.25, 18.25, 18.25, 18.25, 18.26, 18.26, 18.26, 18.27, 18.27, 18.27, 18.27, 18.27, 18.27, 18.27, 18.27, 18.27, 18.27, 18.27, 18.28, 18.29, 18.29, 18.29, 18.29, 18.3, 18.3, 18.3, 18.3, 18.3, 18.31, 18.31, 18.32, 18.32, 18.32, 18.32, 18.33, 18.33, 18.33, 18.33, 18.33, 18.33, 18.33, 18.34, 18.34, 18.35, 18.35, 18.35, 18.35, 18.36, 18.36, 18.36, 18.36, 18.37, 18.37, 18.37, 18.37, 18.37, 18.37, 18.38, 18.38, 18.38, 18.39, 18.39, 18.39, 18.4, 18.4, 18.4, 18.4, 18.41, 18.41, 18.41, 18.41, 18.41, 18.41, 18.41, 18.42, 18.42, 18.43, 18.43, 18.43, 18.43, 18.44, 18.44, 18.44, 18.45, 18.45, 18.45, 18.46, 18.46, 18.46, 18.46, 18.47, 18.47, 18.47, 18.47, 18.47, 18.47, 18.47, 18.48, 18.48, 18.48, 18.48, 18.49, 18.49, 18.49, 18.5, 18.5, 18.5, 18.5, 18.5, 18.52, 18.53, 18.53, 18.54, 18.54, 18.54, 18.54, 18.54, 18.54, 18.55, 18.56, 18.57, 18.57, 18.57, 18.57, 18.58, 18.58, 18.58, 18.59, 18.59, 18.59, 18.59, 18.59, 18.6, 18.6, 18.6, 18.6, 18.6, 18.6, 18.61, 18.61, 18.61, 18.61, 18.61, 18.62, 18.62, 18.62, 18.63, 18.63, 18.63, 18.63, 18.63, 18.64, 18.64, 18.64, 18.64, 18.64, 18.64, 18.64, 18.64, 18.64, 18.65, 18.66, 18.66, 18.66, 18.66, 18.66, 18.66, 18.66, 18.66, 18.67, 18.67, 18.67, 18.68, 18.69, 18.69, 18.69, 18.69, 18.69, 18.7, 18.7, 18.7, 18.71, 18.71, 18.71, 18.71, 18.71, 18.71, 18.72, 18.72, 18.72, 18.72, 18.72, 18.73, 18.74, 18.74, 18.74, 18.75, 18.75, 18.75, 18.76, 18.76, 18.76, 18.76, 18.76, 18.77, 18.77, 18.77, 18.77, 18.78, 18.78, 18.78, 18.78, 18.79, 18.79, 18.79, 18.79, 18.79, 18.8, 18.8, 18.81, 18.81, 18.81, 18.81, 18.81, 18.81, 18.81, 18.81, 18.81, 18.82, 18.83, 18.83, 18.84, 18.84, 18.85, 18.86, 18.86, 18.86, 18.87, 18.87, 18.87, 18.87, 18.87, 18.87, 18.87, 18.87, 18.87, 18.88, 18.89, 18.89, 18.9, 18.9, 18.9, 18.9, 18.9, 18.9, 18.91, 18.91, 18.91, 18.91, 18.91, 18.92, 18.92, 18.92, 18.93, 18.93, 18.94, 18.95, 18.95, 18.95, 18.96, 18.96, 18.96, 18.97, 18.97, 18.97, 18.99, 18.99, 18.99, 18.99, 18.99, 18.99, 18.99, 18.99, 18.99, 19.0, 19.0, 19.0, 19.0, 19.0, 19.0, 19.0, 19.01, 19.01, 19.01, 19.01, 19.01, 19.01, 19.02, 19.02, 19.02, 19.02, 19.03, 19.03, 19.04, 19.04, 19.04, 19.05, 19.06, 19.07, 19.08, 19.08, 19.09, 19.09, 19.09, 19.1, 19.1, 19.1, 19.1, 19.1, 19.11, 19.11, 19.11, 19.11, 19.12, 19.12, 19.13, 19.13, 19.13, 19.13, 19.13, 19.13, 19.14, 19.14, 19.14, 19.14, 19.14, 19.14, 19.14, 19.14, 19.16, 19.16, 19.16, 19.16, 19.17, 19.17, 19.17, 19.18, 19.18, 19.18, 19.18, 19.18, 19.18, 19.19, 19.19, 19.19, 19.2, 19.21, 19.21, 19.21, 19.21, 19.21, 19.21, 19.22, 19.23, 19.23, 19.24, 19.24, 19.24, 19.24, 19.25, 19.26, 19.26, 19.26, 19.26, 19.26, 19.26, 19.26, 19.26, 19.27, 19.27, 19.27, 19.28, 19.29, 19.29, 19.29, 19.3, 19.3, 19.3, 19.3, 19.3, 19.31, 19.31, 19.31, 19.31, 19.32, 19.32, 19.32, 19.32, 19.33, 19.33, 19.34, 19.34, 19.34, 19.34, 19.34, 19.35, 19.35, 19.37, 19.37, 19.37, 19.37, 19.37, 19.37, 19.38, 19.38, 19.38, 19.38, 19.38, 19.39, 19.39, 19.39, 19.39, 19.4, 19.4, 19.4, 19.4, 19.41, 19.41, 19.41, 19.41, 19.42, 19.42, 19.42, 19.42, 19.42, 19.42, 19.42, 19.43, 19.43, 19.43, 19.44, 19.44, 19.44, 19.45, 19.45, 19.45, 19.45, 19.45, 19.45, 19.45, 19.46, 19.46, 19.46, 19.46, 19.47, 19.47, 19.48, 19.48, 19.49, 19.5, 19.5, 19.5, 19.5, 19.5, 19.5, 19.5, 19.51, 19.51, 19.51, 19.51, 19.52, 19.53, 19.53, 19.53, 19.53, 19.53, 19.54, 19.54, 19.54, 19.54, 19.54, 19.55, 19.55, 19.55, 19.56, 19.56, 19.56, 19.57, 19.57, 19.57, 19.57, 19.58, 19.58, 19.58, 19.58, 19.58, 19.59, 19.59, 19.59, 19.6, 19.6, 19.6, 19.6, 19.61, 19.61, 19.62, 19.62, 19.62, 19.63, 19.63, 19.63, 19.63, 19.63, 19.63, 19.63, 19.64, 19.64, 19.65, 19.65, 19.65, 19.65, 19.66, 19.67, 19.67, 19.67, 19.67, 19.67, 19.67, 19.68, 19.68, 19.68, 19.69, 19.69, 19.7, 19.71, 19.71, 19.71, 19.71, 19.71, 19.72, 19.72, 19.72, 19.72, 19.72, 19.72, 19.74, 19.74, 19.74, 19.74, 19.75, 19.75, 19.77, 19.77, 19.77, 19.77, 19.77, 19.78, 19.79, 19.79, 19.79, 19.79, 19.79, 19.79, 19.79, 19.8, 19.8, 19.82, 19.82, 19.82, 19.84, 19.84, 19.84, 19.84, 19.84, 19.84, 19.84, 19.84, 19.84, 19.84, 19.84, 19.85, 19.86, 19.86, 19.86, 19.87, 19.87, 19.87, 19.87, 19.87, 19.87, 19.88, 19.88, 19.89, 19.89, 19.9, 19.9, 19.9, 19.9, 19.9, 19.9, 19.9, 19.91, 19.91, 19.91, 19.91, 19.92, 19.92, 19.92, 19.92, 19.92, 19.92, 19.92, 19.92, 19.92, 19.92, 19.93, 19.93, 19.94, 19.94, 19.94, 19.94, 19.94, 19.94, 19.94, 19.94, 19.95, 19.95, 19.96, 19.96, 19.96, 19.96, 19.96, 19.96, 19.96, 19.96, 19.97, 19.97, 19.97, 19.97, 19.97, 19.98, 19.98, 19.98, 19.98, 19.99, 19.99, 19.99, 20.0, 20.0, 20.0, 20.0, 20.01, 20.01, 20.01, 20.02, 20.02, 20.02, 20.03, 20.03, 20.03, 20.03, 20.04, 20.04, 20.04, 20.04, 20.06, 20.06, 20.06, 20.06, 20.06, 20.06, 20.07, 20.07, 20.07, 20.08, 20.08, 20.1, 20.11, 20.11, 20.12, 20.12, 20.12, 20.12, 20.12, 20.12, 20.14, 20.14, 20.14, 20.15, 20.15, 20.15, 20.16, 20.16, 20.16, 20.16, 20.16, 20.17, 20.18, 20.19, 20.2, 20.2, 20.2, 20.2, 20.2, 20.2, 20.2, 20.2, 20.2, 20.2, 20.21, 20.21, 20.22, 20.22, 20.22, 20.22, 20.23, 20.23, 20.23, 20.23, 20.23, 20.23, 20.23, 20.24, 20.24, 20.24, 20.25, 20.25, 20.25, 20.25, 20.25, 20.25, 20.25, 20.26, 20.27, 20.27, 20.27, 20.27, 20.28, 20.28, 20.29, 20.3, 20.3, 20.3, 20.3, 20.3, 20.31, 20.31, 20.31, 20.31, 20.32, 20.32, 20.32, 20.32, 20.32, 20.33, 20.33, 20.34, 20.34, 20.34, 20.34, 20.34, 20.34, 20.35, 20.36, 20.36, 20.37, 20.37, 20.38, 20.38, 20.39, 20.39, 20.39, 20.39, 20.39, 20.4, 20.4, 20.4, 20.4, 20.4, 20.4, 20.41, 20.41, 20.43, 20.43, 20.43, 20.44, 20.44, 20.45, 20.45, 20.45, 20.46, 20.46, 20.47, 20.48, 20.48, 20.48, 20.48, 20.49, 20.49, 20.49, 20.5, 20.51, 20.51, 20.51, 20.52, 20.52, 20.52, 20.52, 20.54, 20.54, 20.55, 20.56, 20.56, 20.57, 20.57, 20.59, 20.59, 20.59, 20.59, 20.6, 20.6, 20.6, 20.6, 20.61, 20.62, 20.62, 20.62, 20.63, 20.63, 20.63, 20.64, 20.64, 20.64, 20.64, 20.64, 20.64, 20.65, 20.66, 20.66, 20.66, 20.68, 20.71, 20.71, 20.71, 20.72, 20.72, 20.72, 20.72, 20.73, 20.74, 20.74, 20.74, 20.74, 20.75, 20.75, 20.75, 20.75, 20.75, 20.75, 20.75, 20.76, 20.76, 20.76, 20.76, 20.76, 20.76, 20.76, 20.76, 20.76, 20.76, 20.76, 20.77, 20.77, 20.78, 20.78, 20.78, 20.78, 20.78, 20.79, 20.79, 20.79, 20.79, 20.79, 20.79, 20.8, 20.8, 20.8, 20.8, 20.81, 20.81, 20.82, 20.82, 20.82, 20.83, 20.83, 20.84, 20.85, 20.85, 20.85, 20.85, 20.85, 20.85, 20.86, 20.86, 20.86, 20.86, 20.86, 20.87, 20.87, 20.87, 20.87, 20.87, 20.87, 20.88, 20.88, 20.88, 20.88, 20.88, 20.89, 20.89, 20.89, 20.89, 20.91, 20.91, 20.91, 20.92, 20.92, 20.92, 20.92, 20.92, 20.92, 20.93, 20.93, 20.93, 20.94, 20.94, 20.94, 20.94, 20.94, 20.95, 20.95, 20.95, 20.96, 20.96, 20.97, 20.97, 20.97, 20.97, 20.98, 20.98, 20.98, 20.98, 21.0, 21.0, 21.0, 21.0, 21.01, 21.01, 21.01, 21.01, 21.01, 21.01, 21.01, 21.02, 21.02, 21.02, 21.03, 21.03, 21.03, 21.04, 21.04, 21.04, 21.04, 21.04, 21.05, 21.06, 21.06, 21.06, 21.06, 21.06, 21.07, 21.07, 21.07, 21.07, 21.08, 21.08, 21.08, 21.08, 21.08, 21.09, 21.09, 21.1, 21.11, 21.12, 21.12, 21.12, 21.12, 21.12, 21.12, 21.12, 21.12, 21.12, 21.12, 21.12, 21.13, 21.13, 21.13, 21.13, 21.14, 21.14, 21.14, 21.14, 21.14, 21.14, 21.15, 21.15, 21.15, 21.15, 21.16, 21.16, 21.16, 21.16, 21.16, 21.16, 21.16, 21.16, 21.17, 21.18, 21.18, 21.18, 21.19, 21.2, 21.21, 21.21, 21.21, 21.21, 21.21, 21.21, 21.21, 21.21, 21.21, 21.21, 21.21, 21.21, 21.22, 21.22, 21.22, 21.23, 21.23, 21.23, 21.24, 21.25, 21.25, 21.25, 21.25, 21.25, 21.25, 21.25, 21.25, 21.25, 21.26, 21.26, 21.29, 21.29, 21.29, 21.29, 21.29, 21.29, 21.3, 21.3, 21.3, 21.3, 21.3, 21.3, 21.31, 21.32, 21.33, 21.33, 21.33, 21.33, 21.33, 21.34, 21.34, 21.35, 21.35, 21.35, 21.35, 21.35, 21.35, 21.36, 21.36, 21.36, 21.36, 21.36, 21.36, 21.37, 21.37, 21.37, 21.37, 21.37, 21.37, 21.37, 21.37, 21.37, 21.37, 21.37, 21.38, 21.38, 21.38, 21.38, 21.38, 21.39, 21.39, 21.39, 21.4, 21.4, 21.4, 21.4, 21.4, 21.41, 21.41, 21.41, 21.42, 21.42, 21.43, 21.43, 21.43, 21.43, 21.44, 21.44, 21.44, 21.44, 21.45, 21.45, 21.45, 21.46, 21.46, 21.46, 21.46, 21.47, 21.47, 21.48, 21.48, 21.48, 21.48, 21.49, 21.49, 21.49, 21.49, 21.49, 21.49, 21.5, 21.5, 21.5, 21.5, 21.5, 21.5, 21.5, 21.51, 21.52, 21.52, 21.52, 21.53, 21.54, 21.54, 21.54, 21.54, 21.54, 21.54, 21.54, 21.54, 21.54, 21.55, 21.55, 21.55, 21.56, 21.56, 21.56, 21.56, 21.56, 21.56, 21.56, 21.56, 21.57, 21.58, 21.58, 21.58, 21.58, 21.59, 21.59, 21.6, 21.6, 21.61, 21.61, 21.61, 21.61, 21.61, 21.61, 21.62, 21.62, 21.62, 21.62, 21.62, 21.62, 21.62, 21.63, 21.63, 21.63, 21.63, 21.64, 21.64, 21.64, 21.64, 21.64, 21.65, 21.65, 21.65, 21.66, 21.66, 21.66, 21.66, 21.66, 21.67, 21.67, 21.67, 21.68, 21.68, 21.68, 21.69, 21.69, 21.7, 21.71, 21.71, 21.72, 21.72, 21.72, 21.73, 21.74, 21.74, 21.75, 21.75, 21.75, 21.75, 21.77, 21.77, 21.77, 21.78, 21.79, 21.79, 21.79, 21.79, 21.8, 21.8, 21.8, 21.8, 21.81, 21.81, 21.82, 21.82, 21.82, 21.82, 21.82, 21.82, 21.84, 21.85, 21.86, 21.86, 21.86, 21.86, 21.87, 21.87, 21.87, 21.87, 21.87, 21.87, 21.89, 21.89, 21.9, 21.9, 21.91, 21.91, 21.91, 21.91, 21.91, 21.92, 21.93, 21.93, 21.94, 21.94, 21.94, 21.94, 21.95, 21.95, 21.95, 21.95, 21.95, 21.95, 21.95, 21.96, 21.96, 21.96, 21.96, 21.96, 21.96, 21.97, 21.98, 21.98, 21.98, 21.98, 21.99, 21.99, 21.99, 22.0, 22.0, 22.0, 22.0, 22.0, 22.0, 22.01, 22.01, 22.01, 22.02, 22.02, 22.02, 22.02, 22.02, 22.02, 22.02, 22.03, 22.03, 22.05, 22.06, 22.06, 22.06, 22.06, 22.06, 22.06, 22.07, 22.07, 22.07, 22.07, 22.07, 22.07, 22.08, 22.08, 22.08, 22.08, 22.08, 22.08, 22.08, 22.09, 22.09, 22.09, 22.09, 22.1, 22.12, 22.12, 22.12, 22.12, 22.14, 22.14, 22.14, 22.14, 22.14, 22.14, 22.15, 22.15, 22.15, 22.16, 22.17, 22.17, 22.17, 22.18, 22.18, 22.18, 22.19, 22.19, 22.2, 22.2, 22.2, 22.22, 22.22, 22.22, 22.22, 22.22, 22.22, 22.22, 22.22, 22.22, 22.22, 22.23, 22.23, 22.24, 22.24, 22.24, 22.24, 22.24, 22.24, 22.24, 22.25, 22.25, 22.26, 22.26, 22.27, 22.27, 22.27, 22.27, 22.27, 22.27, 22.27, 22.27, 22.28, 22.28, 22.29, 22.29, 22.29, 22.29, 22.29, 22.29, 22.29, 22.29, 22.29, 22.29, 22.3, 22.31, 22.31, 22.31, 22.31, 22.31, 22.32, 22.32, 22.32, 22.32, 22.32, 22.33, 22.33, 22.33, 22.34, 22.34, 22.34, 22.35, 22.35, 22.36, 22.36, 22.36, 22.36, 22.37, 22.37, 22.39, 22.39, 22.39, 22.39, 22.39, 22.41, 22.41, 22.41, 22.41, 22.42, 22.42, 22.42, 22.42, 22.42, 22.43, 22.43, 22.43, 22.46, 22.46, 22.46, 22.47, 22.47, 22.48, 22.49, 22.5, 22.5, 22.5, 22.51, 22.52, 22.53, 22.53, 22.53, 22.53, 22.54, 22.54, 22.54, 22.54, 22.54, 22.54, 22.54, 22.54, 22.54, 22.54, 22.54, 22.54, 22.54, 22.54, 22.54, 22.55, 22.55, 22.55, 22.56, 22.57, 22.57, 22.57, 22.57, 22.58, 22.59, 22.59, 22.6, 22.6, 22.6, 22.6, 22.6, 22.6, 22.61, 22.62, 22.62, 22.62, 22.62, 22.62, 22.62, 22.62, 22.63, 22.63, 22.65, 22.66, 22.66, 22.66, 22.67, 22.67, 22.69, 22.69, 22.69, 22.69, 22.71, 22.71, 22.71, 22.71, 22.72, 22.72, 22.72, 22.72, 22.72, 22.72, 22.72, 22.73, 22.73, 22.74, 22.74, 22.74, 22.76, 22.76, 22.77, 22.77, 22.77, 22.77, 22.77, 22.77, 22.78, 22.78, 22.78, 22.79, 22.79, 22.79, 22.79, 22.79, 22.79, 22.79, 22.79, 22.79, 22.8, 22.81, 22.81, 22.81, 22.81, 22.81, 22.82, 22.82, 22.82, 22.82, 22.83, 22.83, 22.83, 22.83, 22.83, 22.84, 22.84, 22.84, 22.84, 22.85, 22.85, 22.85, 22.85, 22.85, 22.86, 22.86, 22.86, 22.86, 22.86, 22.86, 22.86, 22.86, 22.86, 22.87, 22.87, 22.87, 22.87, 22.87, 22.87, 22.87, 22.88, 22.88, 22.88, 22.88, 22.88, 22.88, 22.88, 22.88, 22.89, 22.89, 22.89, 22.89, 22.89, 22.9, 22.9, 22.9, 22.9, 22.9, 22.91, 22.92, 22.92, 22.92, 22.92, 22.92, 22.92, 22.92, 22.92, 22.92, 22.93, 22.93, 22.93, 22.93, 22.93, 22.93, 22.93, 22.93, 22.93, 22.94, 22.94, 22.94, 22.94, 22.94, 22.94, 22.94, 22.95, 22.95, 22.95, 22.95, 22.95, 22.95, 22.96, 22.96, 22.96, 22.96, 22.96, 22.96, 22.96, 22.96, 22.96, 22.97, 22.98, 22.98, 22.98, 22.98, 22.98, 22.98, 22.98, 22.98, 22.98, 22.98, 22.98, 22.98, 22.99, 22.99, 22.99, 23.0, 23.0, 23.0, 23.02, 23.02, 23.03, 23.03, 23.03, 23.03, 23.04, 23.04, 23.04, 23.04, 23.04, 23.05, 23.05, 23.06, 23.06, 23.07, 23.07, 23.07, 23.07, 23.08, 23.08, 23.08, 23.08, 23.08, 23.08, 23.08, 23.08, 23.1, 23.1, 23.11, 23.12, 23.12, 23.12, 23.12, 23.12, 23.13, 23.14, 23.14, 23.16, 23.16, 23.16, 23.16, 23.16, 23.16, 23.17, 23.18, 23.18, 23.18, 23.19, 23.19, 23.19, 23.19, 23.2, 23.2, 23.2, 23.21, 23.21, 23.21, 23.22, 23.22, 23.23, 23.23, 23.23, 23.23, 23.23, 23.23, 23.23, 23.23, 23.23, 23.23, 23.23, 23.23, 23.23, 23.23, 23.23, 23.23, 23.23, 23.23, 23.23, 23.23, 23.23, 23.23, 23.23, 23.24, 23.24, 23.24, 23.24, 23.24, 23.24, 23.24, 23.24, 23.24, 23.24, 23.24, 23.25, 23.26, 23.26, 23.26, 23.26, 23.26, 23.26, 23.27, 23.27, 23.29, 23.29, 23.29, 23.29, 23.29, 23.3, 23.3, 23.3, 23.31, 23.31, 23.31, 23.31, 23.32, 23.32, 23.33, 23.35, 23.35, 23.35, 23.35, 23.35, 23.36, 23.37, 23.37, 23.37, 23.37, 23.37, 23.37, 23.37, 23.37, 23.37, 23.37, 23.38, 23.39, 23.39, 23.41, 23.41, 23.41, 23.42, 23.42, 23.42, 23.43, 23.43, 23.44, 23.44, 23.44, 23.45, 23.45, 23.46, 23.46, 23.46, 23.46, 23.46, 23.46, 23.47, 23.47, 23.48, 23.48, 23.48, 23.48, 23.49, 23.49, 23.5, 23.5, 23.5, 23.5, 23.51, 23.52, 23.53, 23.54, 23.54, 23.54, 23.56, 23.56, 23.56, 23.56, 23.56, 23.57, 23.57, 23.57, 23.59, 23.59, 23.59, 23.6, 23.61, 23.61, 23.61, 23.61, 23.61, 23.61, 23.62, 23.62, 23.62, 23.62, 23.62, 23.62, 23.62, 23.62, 23.63, 23.63, 23.63, 23.64, 23.65, 23.65, 23.65, 23.65, 23.66, 23.66, 23.66, 23.68, 23.68, 23.68, 23.68, 23.68, 23.69, 23.69, 23.7, 23.7, 23.7, 23.71, 23.72, 23.72, 23.73, 23.73, 23.74, 23.74, 23.74, 23.74, 23.74, 23.75, 23.76, 23.76, 23.76, 23.76, 23.76, 23.77, 23.77, 23.77, 23.77, 23.77, 23.78, 23.78, 23.79, 23.79, 23.79, 23.79, 23.79, 23.79, 23.79, 23.79, 23.79, 23.79, 23.79, 23.8, 23.8, 23.8, 23.8, 23.81, 23.81, 23.82, 23.84, 23.84, 23.84, 23.84, 23.85, 23.85, 23.85, 23.86, 23.86, 23.87, 23.87, 23.87, 23.87, 23.87, 23.87, 23.88, 23.88, 23.88, 23.88, 23.89, 23.89, 23.89, 23.89, 23.89, 23.92, 23.92, 23.92, 23.92, 23.92, 23.94, 23.94, 23.95, 23.95, 23.95, 23.96, 23.96, 23.97, 23.97, 23.98, 23.98, 23.99, 23.99, 24.0, 24.01, 24.01, 24.02, 24.02, 24.02, 24.02, 24.02, 24.02, 24.03, 24.03, 24.03, 24.03, 24.03, 24.04, 24.04, 24.04, 24.04, 24.04, 24.05, 24.06, 24.06, 24.07, 24.07, 24.07, 24.07, 24.08, 24.08, 24.09, 24.09, 24.09, 24.09, 24.09, 24.1, 24.1, 24.1, 24.11, 24.11, 24.11, 24.12, 24.12, 24.12, 24.12, 24.12, 24.13, 24.14, 24.14, 24.16, 24.17, 24.17, 24.17, 24.17, 24.18, 24.19, 24.19, 24.19, 24.19, 24.19, 24.2, 24.2, 24.21, 24.21, 24.21, 24.22, 24.22, 24.22, 24.22, 24.22, 24.23, 24.23, 24.23, 24.23, 24.23, 24.23, 24.23, 24.24, 24.24, 24.24, 24.24, 24.25, 24.25, 24.26, 24.26, 24.26, 24.27, 24.27, 24.27, 24.27, 24.27, 24.27, 24.27, 24.27, 24.27, 24.27, 24.27, 24.28, 24.28, 24.29, 24.29, 24.3, 24.3, 24.3, 24.3, 24.3, 24.3, 24.3, 24.32, 24.32, 24.32, 24.32, 24.32, 24.33, 24.33, 24.34, 24.34, 24.34, 24.34, 24.34, 24.34, 24.35, 24.35, 24.35, 24.36, 24.37, 24.37, 24.38, 24.4, 24.41, 24.42, 24.42, 24.42, 24.42, 24.43, 24.43, 24.43, 24.44, 24.44, 24.44, 24.45, 24.45, 24.45, 24.45, 24.46, 24.46, 24.46, 24.46, 24.46, 24.46, 24.47, 24.47, 24.48, 24.48, 24.49, 24.51, 24.51, 24.51, 24.52, 24.52, 24.53, 24.53, 24.54, 24.54, 24.54, 24.54, 24.55, 24.56, 24.56, 24.57, 24.59, 24.61, 24.61, 24.62, 24.62, 24.62, 24.63, 24.64, 24.64, 24.64, 24.65, 24.65, 24.65, 24.65, 24.66, 24.66, 24.66, 24.67, 24.67, 24.67, 24.68, 24.69, 24.69, 24.69, 24.7, 24.7, 24.7, 24.7, 24.71, 24.71, 24.71, 24.71, 24.71, 24.71, 24.73, 24.73, 24.73, 24.74, 24.74, 24.75, 24.75, 24.76, 24.77, 24.77, 24.77, 24.77, 24.78, 24.78, 24.8, 24.81, 24.81, 24.81, 24.81, 24.82, 24.82, 24.82, 24.82, 24.84, 24.85, 24.86, 24.87, 24.88, 24.9, 24.91, 24.91, 24.91, 24.91, 24.92, 24.92, 24.92, 24.92, 24.92, 24.93, 24.93, 24.94, 24.94, 24.95, 24.96, 24.96, 24.96, 24.96, 24.96, 24.97, 24.97, 24.98, 24.99, 24.99, 25.0, 25.0, 25.0, 25.01, 25.02, 25.02, 25.02, 25.02, 25.02, 25.03, 25.03, 25.03, 25.03, 25.04, 25.04, 25.04, 25.04, 25.05, 25.05, 25.06, 25.07, 25.08, 25.08, 25.08, 25.09, 25.09, 25.09, 25.1, 25.1, 25.1, 25.1, 25.11, 25.12, 25.13, 25.13, 25.14, 25.16, 25.16, 25.17, 25.17, 25.17, 25.18, 25.18, 25.18, 25.19, 25.19, 25.19, 25.19, 25.2, 25.2, 25.2, 25.2, 25.2, 25.21, 25.21, 25.21, 25.21, 25.22, 25.22, 25.25, 25.26, 25.27, 25.28, 25.28, 25.28, 25.28, 25.29, 25.31, 25.31, 25.31, 25.31, 25.31, 25.32, 25.32, 25.32, 25.33, 25.33, 25.34, 25.34, 25.35, 25.35, 25.36, 25.36, 25.36, 25.36, 25.37, 25.37, 25.39, 25.4, 25.42, 25.43, 25.44, 25.44, 25.44, 25.45, 25.45, 25.46, 25.46, 25.47, 25.47, 25.47, 25.47, 25.48, 25.48, 25.48, 25.49, 25.49, 25.5, 25.5, 25.51, 25.51, 25.51, 25.52, 25.53, 25.53, 25.53, 25.53, 25.53, 25.54, 25.54, 25.57, 25.58, 25.59, 25.59, 25.6, 25.6, 25.6, 25.6, 25.6, 25.6, 25.61, 25.61, 25.61, 25.61, 25.62, 25.62, 25.62, 25.63, 25.63, 25.63, 25.63, 25.64, 25.64, 25.65, 25.65, 25.65, 25.65, 25.65, 25.66, 25.66, 25.66, 25.66, 25.67, 25.69, 25.69, 25.69, 25.7, 25.7, 25.7, 25.7, 25.7, 25.7, 25.7, 25.7, 25.7, 25.7, 25.71, 25.71, 25.71, 25.71, 25.71, 25.73, 25.73, 25.75, 25.76, 25.76, 25.78, 25.78, 25.79, 25.79, 25.79, 25.8, 25.8, 25.82, 25.82, 25.82, 25.82, 25.82, 25.82, 25.83, 25.85, 25.85, 25.86, 25.86, 25.86, 25.86, 25.87, 25.87, 25.87, 25.87, 25.87, 25.87, 25.88, 25.88, 25.89, 25.89, 25.9, 25.9, 25.9, 25.9, 25.91, 25.91, 25.91, 25.91, 25.92, 25.93, 25.94, 25.94, 25.95, 25.95, 25.95, 25.96, 25.96, 25.97, 25.97, 25.98, 25.98, 25.98, 25.99, 25.99, 25.99, 25.99, 25.99, 25.99, 26.0, 26.0, 26.01, 26.03, 26.04, 26.04, 26.04, 26.05, 26.05, 26.05, 26.06, 26.07, 26.07, 26.07, 26.07, 26.07, 26.07, 26.07, 26.08, 26.08, 26.08, 26.09, 26.1, 26.1, 26.1, 26.1, 26.11, 26.12, 26.12, 26.13, 26.14, 26.14, 26.14, 26.14, 26.15, 26.15, 26.16, 26.17, 26.18, 26.19, 26.19, 26.19, 26.2, 26.2, 26.2, 26.2, 26.2, 26.2, 26.2, 26.21, 26.21, 26.22, 26.22, 26.22, 26.23, 26.23, 26.23, 26.24, 26.24, 26.24, 26.25, 26.25, 26.25, 26.25, 26.26, 26.26, 26.26, 26.26, 26.27, 26.27, 26.28, 26.3, 26.3, 26.31, 26.31, 26.31, 26.31, 26.33, 26.33, 26.34, 26.34, 26.34, 26.36, 26.36, 26.36, 26.36, 26.36, 26.37, 26.38, 26.39, 26.39, 26.39, 26.39, 26.41, 26.41, 26.42, 26.42, 26.42, 26.42, 26.43, 26.45, 26.45, 26.45, 26.46, 26.46, 26.47, 26.47, 26.48, 26.48, 26.48, 26.49, 26.49, 26.49, 26.49, 26.49, 26.49, 26.5, 26.5, 26.5, 26.51, 26.51, 26.51, 26.51, 26.52, 26.52, 26.52, 26.52, 26.52, 26.53, 26.53, 26.53, 26.53, 26.53, 26.53, 26.53, 26.54, 26.54, 26.54, 26.54, 26.55, 26.56, 26.56, 26.57, 26.57, 26.58, 26.6, 26.6, 26.6, 26.61, 26.61, 26.62, 26.62, 26.62, 26.63, 26.63, 26.63, 26.63, 26.64, 26.64, 26.64, 26.64, 26.65, 26.67, 26.67, 26.67, 26.67, 26.7, 26.7, 26.71, 26.71, 26.71, 26.72, 26.72, 26.72, 26.72, 26.72, 26.72, 26.72, 26.72, 26.72, 26.73, 26.73, 26.73, 26.73, 26.74, 26.74, 26.75, 26.75, 26.75, 26.75, 26.76, 26.76, 26.76, 26.77, 26.77, 26.78, 26.78, 26.8, 26.8, 26.8, 26.8, 26.8, 26.81, 26.81, 26.81, 26.82, 26.83, 26.83, 26.83, 26.84, 26.84, 26.84, 26.84, 26.85, 26.85, 26.85, 26.86, 26.86, 26.87, 26.87, 26.88, 26.88, 26.88, 26.88, 26.91, 26.92, 26.92, 26.93, 26.93, 26.94, 26.95, 26.95, 26.95, 26.96, 26.96, 26.97, 26.97, 26.97, 26.97, 26.98, 26.99, 26.99, 26.99, 26.99, 26.99, 26.99, 26.99, 27.0, 27.0, 27.0, 27.0, 27.0, 27.01, 27.01, 27.01, 27.02, 27.02, 27.02, 27.04, 27.04, 27.04, 27.05, 27.05, 27.06, 27.06, 27.06, 27.06, 27.1, 27.1, 27.11, 27.11, 27.11, 27.11, 27.12, 27.12, 27.15, 27.15, 27.16, 27.17, 27.17, 27.18, 27.18, 27.18, 27.19, 27.19, 27.19, 27.19, 27.19, 27.19, 27.19, 27.19, 27.2, 27.21, 27.21, 27.22, 27.22, 27.22, 27.22, 27.24, 27.25, 27.25, 27.26, 27.26, 27.27, 27.27, 27.27, 27.27, 27.27, 27.28, 27.29, 27.29, 27.3, 27.3, 27.31, 27.31, 27.31, 27.31, 27.32, 27.32, 27.33, 27.33, 27.33, 27.34, 27.34, 27.34, 27.35, 27.35, 27.35, 27.37, 27.37, 27.37, 27.37, 27.38, 27.38, 27.38, 27.4, 27.4, 27.4, 27.41, 27.42, 27.42, 27.43, 27.43, 27.43, 27.43, 27.44, 27.44, 27.45, 27.46, 27.47, 27.47, 27.48, 27.49, 27.49, 27.5, 27.5, 27.51, 27.51, 27.54, 27.54, 27.54, 27.55, 27.55, 27.55, 27.56, 27.56, 27.56, 27.57, 27.57, 27.58, 27.58, 27.58, 27.59, 27.59, 27.6, 27.61, 27.61, 27.61, 27.61, 27.61, 27.61, 27.61, 27.62, 27.62, 27.62, 27.62, 27.64, 27.66, 27.67, 27.69, 27.69, 27.69, 27.69, 27.69, 27.69, 27.69, 27.7, 27.7, 27.7, 27.7, 27.7, 27.71, 27.71, 27.71, 27.71, 27.73, 27.74, 27.74, 27.74, 27.75, 27.76, 27.76, 27.77, 27.78, 27.8, 27.81, 27.82, 27.82, 27.83, 27.83, 27.84, 27.86, 27.86, 27.86, 27.87, 27.87, 27.87, 27.87, 27.87, 27.87, 27.87, 27.87, 27.87, 27.87, 27.87, 27.87, 27.87, 27.87, 27.87, 27.87, 27.87, 27.88, 27.88, 27.88, 27.88, 27.89, 27.91, 27.91, 27.92, 27.92, 27.93, 27.93, 27.93, 27.93, 27.93, 27.94, 27.94, 27.95, 27.96, 27.97, 27.97, 27.98, 27.99, 27.99, 27.99, 27.99, 28.0, 28.01, 28.02, 28.02, 28.02, 28.02, 28.03, 28.03, 28.03, 28.03, 28.03, 28.03, 28.06, 28.06, 28.06, 28.06, 28.07, 28.09, 28.09, 28.09, 28.09, 28.09, 28.09, 28.09, 28.09, 28.1, 28.1, 28.11, 28.11, 28.12, 28.12, 28.12, 28.12, 28.13, 28.13, 28.13, 28.13, 28.14, 28.14, 28.14, 28.14, 28.14, 28.14, 28.15, 28.15, 28.15, 28.15, 28.15, 28.15, 28.15, 28.15, 28.15, 28.16, 28.16, 28.17, 28.18, 28.2, 28.2, 28.21, 28.21, 28.21, 28.21, 28.22, 28.22, 28.22, 28.23, 28.23, 28.24, 28.24, 28.26, 28.27, 28.27, 28.28, 28.28, 28.28, 28.3, 28.31, 28.32, 28.32, 28.33, 28.34, 28.34, 28.34, 28.35, 28.36, 28.36, 28.37, 28.37, 28.37, 28.37, 28.37, 28.38, 28.4, 28.4, 28.4, 28.41, 28.41, 28.42, 28.42, 28.42, 28.42, 28.43, 28.43, 28.44, 28.47, 28.47, 28.48, 28.48, 28.48, 28.49, 28.49, 28.49, 28.53, 28.54, 28.55, 28.55, 28.55, 28.56, 28.56, 28.56, 28.56, 28.56, 28.57, 28.58, 28.59, 28.6, 28.61, 28.62, 28.62, 28.62, 28.62, 28.64, 28.64, 28.64, 28.65, 28.65, 28.65, 28.65, 28.67, 28.67, 28.67, 28.68, 28.68, 28.69, 28.69, 28.69, 28.7, 28.7, 28.7, 28.7, 28.71, 28.71, 28.71, 28.71, 28.71, 28.71, 28.71, 28.71, 28.72, 28.72, 28.73, 28.73, 28.73, 28.73, 28.74, 28.74, 28.74, 28.76, 28.76, 28.76, 28.77, 28.77, 28.77, 28.77, 28.77, 28.77, 28.79, 28.79, 28.79, 28.79, 28.8, 28.8, 28.8, 28.8, 28.8, 28.81, 28.81, 28.81, 28.84, 28.84, 28.84, 28.85, 28.86, 28.86, 28.86, 28.86, 28.86, 28.87, 28.87, 28.87, 28.87, 28.87, 28.87, 28.87, 28.88, 28.89, 28.89, 28.89, 28.89, 28.9, 28.9, 28.9, 28.9, 28.9, 28.9, 28.9, 28.9, 28.91, 28.91, 28.91, 28.91, 28.94, 28.95, 28.97, 28.97, 28.97, 28.97, 28.97, 28.98, 28.99, 28.99, 28.99, 29.0, 29.0, 29.01, 29.02, 29.04, 29.04, 29.04, 29.05, 29.05, 29.05, 29.06, 29.07, 29.07, 29.07, 29.07, 29.08, 29.08, 29.08, 29.09, 29.09, 29.09, 29.09, 29.09, 29.09, 29.09, 29.09, 29.11, 29.11, 29.13, 29.14, 29.16, 29.16, 29.16, 29.16, 29.16, 29.17, 29.17, 29.18, 29.19, 29.2, 29.2, 29.2, 29.2, 29.21, 29.21, 29.21, 29.22, 29.23, 29.24, 29.25, 29.25, 29.26, 29.26, 29.26, 29.26, 29.26, 29.26, 29.26, 29.27, 29.27, 29.27, 29.28, 29.28, 29.28, 29.28, 29.28, 29.29, 29.29, 29.29, 29.29, 29.29, 29.29, 29.3, 29.31, 29.31, 29.31, 29.31, 29.31, 29.31, 29.31, 29.32, 29.35, 29.37, 29.37, 29.37, 29.37, 29.37, 29.37, 29.37, 29.38, 29.39, 29.41, 29.41, 29.42, 29.43, 29.43, 29.43, 29.43, 29.45, 29.45, 29.45, 29.46, 29.46, 29.46, 29.46, 29.46, 29.46, 29.47, 29.47, 29.48, 29.48, 29.49, 29.49, 29.49, 29.5, 29.5, 29.51, 29.51, 29.51, 29.51, 29.51, 29.51, 29.52, 29.52, 29.53, 29.53, 29.55, 29.55, 29.56, 29.57, 29.57, 29.57, 29.57, 29.57, 29.58, 29.58, 29.59, 29.59, 29.59, 29.59, 29.59, 29.59, 29.6, 29.6, 29.6, 29.6, 29.6, 29.6, 29.6, 29.61, 29.61, 29.61, 29.61, 29.62, 29.62, 29.62, 29.62, 29.63, 29.63, 29.63, 29.63, 29.64, 29.64, 29.64, 29.64, 29.65, 29.65, 29.66, 29.66, 29.66, 29.66, 29.67, 29.67, 29.67, 29.67, 29.67, 29.67, 29.67, 29.69, 29.69, 29.7, 29.7, 29.73, 29.73, 29.73, 29.73, 29.74, 29.74, 29.74, 29.74, 29.74, 29.75, 29.75, 29.76, 29.77, 29.77, 29.77, 29.77, 29.78, 29.79, 29.79, 29.8, 29.8, 29.8, 29.81, 29.81, 29.81, 29.81, 29.81, 29.82, 29.82, 29.82, 29.84, 29.84, 29.85, 29.85, 29.85, 29.85, 29.85, 29.86, 29.86, 29.87, 29.87, 29.87, 29.87, 29.88, 29.88, 29.88, 29.88, 29.89, 29.89, 29.89, 29.89, 29.91, 29.92, 29.92, 29.92, 29.93, 29.94, 29.94, 29.95, 29.96, 29.96, 29.97, 29.97, 29.97, 29.98, 29.98, 29.99, 30.0, 30.01, 30.02, 30.02, 30.02, 30.02, 30.03, 30.03, 30.03, 30.03, 30.03, 30.03, 30.04, 30.04, 30.05, 30.06, 30.06, 30.07, 30.07, 30.07, 30.09, 30.09, 30.09, 30.09, 30.1, 30.1, 30.1, 30.11, 30.11, 30.11, 30.12, 30.12, 30.12, 30.12, 30.13, 30.13, 30.17, 30.18, 30.18, 30.18, 30.2, 30.2, 30.21, 30.22, 30.22, 30.23, 30.23, 30.23, 30.23, 30.23, 30.24, 30.25, 30.25, 30.26, 30.26, 30.26, 30.26, 30.26, 30.27, 30.27, 30.27, 30.28, 30.32, 30.32, 30.33, 30.33, 30.33, 30.34, 30.34, 30.35, 30.35, 30.35, 30.36, 30.36, 30.36, 30.37, 30.37, 30.37, 30.38, 30.38, 30.38, 30.4, 30.4, 30.4, 30.4, 30.41, 30.41, 30.41, 30.41, 30.41, 30.41, 30.41, 30.42, 30.42, 30.42, 30.42, 30.43, 30.43, 30.44, 30.46, 30.46, 30.47, 30.47, 30.47, 30.47, 30.48, 30.48, 30.48, 30.49, 30.49, 30.49, 30.49, 30.49, 30.49, 30.49, 30.49, 30.49, 30.51, 30.54, 30.54, 30.54, 30.55, 30.55, 30.55, 30.56, 30.57, 30.58, 30.61, 30.61, 30.62, 30.62, 30.62, 30.63, 30.63, 30.63, 30.63, 30.64, 30.65, 30.65, 30.65, 30.66, 30.66, 30.66, 30.67, 30.67, 30.67, 30.67, 30.67, 30.68, 30.69, 30.69, 30.69, 30.69, 30.69, 30.7, 30.71, 30.71, 30.72, 30.72, 30.72, 30.72, 30.73, 30.73, 30.73, 30.74, 30.75, 30.75, 30.76, 30.76, 30.77, 30.77, 30.77, 30.78, 30.78, 30.79, 30.79, 30.8, 30.82, 30.84, 30.84, 30.84, 30.84, 30.86, 30.86, 30.86, 30.86, 30.86, 30.86, 30.86, 30.86, 30.87, 30.87, 30.87, 30.88, 30.88, 30.89, 30.89, 30.89, 30.89, 30.92, 30.93, 30.93, 30.94, 30.95, 30.96, 30.96, 30.97, 30.98, 30.99, 31.0, 31.01, 31.01, 31.02, 31.02, 31.03, 31.04, 31.04, 31.06, 31.07, 31.07, 31.08, 31.08, 31.09, 31.09, 31.09, 31.09, 31.09, 31.09, 31.09, 31.1, 31.1, 31.11, 31.12, 31.13, 31.13, 31.13, 31.13, 31.14, 31.14, 31.14, 31.15, 31.16, 31.17, 31.19, 31.2, 31.2, 31.2, 31.21, 31.22, 31.22, 31.22, 31.22, 31.22, 31.22, 31.23, 31.23, 31.23, 31.23, 31.24, 31.24, 31.24, 31.25, 31.25, 31.25, 31.25, 31.25, 31.26, 31.26, 31.26, 31.26, 31.28, 31.28, 31.28, 31.29, 31.3, 31.3, 31.3, 31.3, 31.31, 31.32, 31.32, 31.32, 31.32, 31.33, 31.33, 31.34, 31.35, 31.35, 31.36, 31.36, 31.38, 31.39, 31.39, 31.4, 31.41, 31.41, 31.42, 31.45, 31.45, 31.46, 31.46, 31.46, 31.48, 31.48, 31.48, 31.49, 31.5, 31.53, 31.53, 31.54, 31.54, 31.55, 31.55, 31.55, 31.55, 31.56, 31.56, 31.56, 31.56, 31.57, 31.57, 31.58, 31.59, 31.6, 31.61, 31.62, 31.62, 31.62, 31.62, 31.62, 31.63, 31.63, 31.64, 31.67, 31.67, 31.68, 31.68, 31.69, 31.7, 31.7, 31.71, 31.71, 31.72, 31.76, 31.77, 31.77, 31.79, 31.79, 31.79, 31.79, 31.81, 31.82, 31.82, 31.82, 31.83, 31.84, 31.84, 31.85, 31.86, 31.9, 31.91, 31.91, 31.92, 31.93, 31.93, 31.93, 31.94, 31.94, 31.95, 31.95, 31.96, 31.96, 31.96, 31.96, 31.96, 31.98, 31.98, 31.98, 31.98, 31.98, 31.98, 31.99, 31.99, 31.99, 32.0, 32.01, 32.02, 32.02, 32.03, 32.03, 32.04, 32.04, 32.04, 32.04, 32.04, 32.04, 32.05, 32.05, 32.05, 32.05, 32.06, 32.07, 32.08, 32.09, 32.11, 32.11, 32.11, 32.11, 32.11, 32.11, 32.11, 32.11, 32.12, 32.12, 32.12, 32.12, 32.13, 32.13, 32.14, 32.14, 32.14, 32.14, 32.16, 32.16, 32.16, 32.17, 32.18, 32.2, 32.2, 32.22, 32.24, 32.24, 32.24, 32.24, 32.24, 32.28, 32.29, 32.3, 32.31, 32.32, 32.32, 32.32, 32.33, 32.34, 32.34, 32.34, 32.36, 32.36, 32.36, 32.37, 32.37, 32.38, 32.39, 32.4, 32.42, 32.42, 32.43, 32.43, 32.43, 32.45, 32.45, 32.46, 32.46, 32.46, 32.46, 32.47, 32.48, 32.48, 32.49, 32.5, 32.5, 32.5, 32.52, 32.54, 32.54, 32.55, 32.56, 32.56, 32.56, 32.56, 32.57, 32.57, 32.57, 32.57, 32.58, 32.58, 32.58, 32.59, 32.6, 32.6, 32.61, 32.61, 32.62, 32.62, 32.65, 32.65, 32.65, 32.65, 32.65, 32.65, 32.67, 32.67, 32.67, 32.67, 32.67, 32.67, 32.68, 32.68, 32.68, 32.68, 32.69, 32.69, 32.69, 32.69, 32.69, 32.69, 32.69, 32.69, 32.69, 32.69, 32.69, 32.69, 32.7, 32.7, 32.7, 32.71, 32.71, 32.72, 32.74, 32.74, 32.75, 32.75, 32.76, 32.77, 32.77, 32.77, 32.79, 32.79, 32.79, 32.8, 32.81, 32.82, 32.82, 32.85, 32.85, 32.85, 32.86, 32.86, 32.86, 32.86, 32.86, 32.87, 32.9, 32.91, 32.91, 32.91, 32.91, 32.92, 32.92, 32.93, 32.93, 32.93, 32.93, 32.94, 32.94, 32.95, 32.96, 32.96, 32.97, 32.98, 32.99, 33.0, 33.0, 33.01, 33.01, 33.01, 33.02, 33.03, 33.03, 33.03, 33.03, 33.03, 33.03, 33.03, 33.04, 33.04, 33.04, 33.04, 33.05, 33.05, 33.05, 33.05, 33.05, 33.05, 33.05, 33.05, 33.06, 33.06, 33.07, 33.07, 33.07, 33.07, 33.08, 33.08, 33.09, 33.09, 33.11, 33.11, 33.11, 33.11, 33.12, 33.12, 33.13, 33.14, 33.14, 33.14, 33.14, 33.14, 33.14, 33.15, 33.15, 33.15, 33.16, 33.16, 33.16, 33.17, 33.17, 33.18, 33.18, 33.2, 33.21, 33.21, 33.22, 33.23, 33.23, 33.23, 33.23, 33.23, 33.23, 33.23, 33.23, 33.23, 33.24, 33.26, 33.27, 33.27, 33.27, 33.27, 33.28, 33.28, 33.28, 33.28, 33.28, 33.29, 33.3, 33.31, 33.31, 33.31, 33.31, 33.31, 33.33, 33.33, 33.35, 33.35, 33.35, 33.35, 33.35, 33.35, 33.36, 33.36, 33.38, 33.39, 33.41, 33.41, 33.43, 33.43, 33.44, 33.44, 33.46, 33.46, 33.46, 33.46, 33.47, 33.47, 33.47, 33.47, 33.48, 33.48, 33.49, 33.49, 33.51, 33.51, 33.52, 33.52, 33.52, 33.52, 33.54, 33.54, 33.54, 33.54, 33.54, 33.55, 33.56, 33.56, 33.57, 33.57, 33.59, 33.6, 33.6, 33.6, 33.61, 33.61, 33.62, 33.63, 33.63, 33.63, 33.65, 33.65, 33.66, 33.67, 33.67, 33.67, 33.68, 33.68, 33.68, 33.68, 33.68, 33.68, 33.69, 33.69, 33.69, 33.69, 33.7, 33.7, 33.7, 33.7, 33.71, 33.71, 33.71, 33.73, 33.74, 33.75, 33.76, 33.76, 33.78, 33.79, 33.79, 33.79, 33.79, 33.79, 33.79, 33.79, 33.8, 33.8, 33.8, 33.8, 33.81, 33.82, 33.82, 33.83, 33.83, 33.83, 33.83, 33.83, 33.84, 33.85, 33.85, 33.85, 33.86, 33.87, 33.87, 33.87, 33.87, 33.87, 33.88, 33.88, 33.89, 33.9, 33.9, 33.91, 33.92, 33.93, 33.94, 33.95, 33.96, 33.96, 33.97, 33.97, 33.97, 33.98, 33.99, 34.0, 34.0, 34.0, 34.0, 34.01, 34.02, 34.02, 34.03, 34.03, 34.04, 34.04, 34.04, 34.04, 34.04, 34.05, 34.05, 34.05, 34.06, 34.07, 34.08, 34.09, 34.09, 34.09, 34.1, 34.1, 34.1, 34.1, 34.11, 34.11, 34.11, 34.11, 34.12, 34.12, 34.12, 34.12, 34.13, 34.13, 34.13, 34.13, 34.13, 34.15, 34.15, 34.15, 34.15, 34.17, 34.17, 34.17, 34.17, 34.17, 34.18, 34.19, 34.19, 34.2, 34.2, 34.21, 34.21, 34.21, 34.21, 34.22, 34.24, 34.24, 34.25, 34.25, 34.26, 34.27, 34.27, 34.27, 34.27, 34.27, 34.28, 34.29, 34.29, 34.29, 34.3, 34.3, 34.33, 34.34, 34.34, 34.34, 34.34, 34.35, 34.35, 34.35, 34.36, 34.36, 34.39, 34.4, 34.4, 34.41, 34.41, 34.41, 34.42, 34.42, 34.42, 34.43, 34.43, 34.43, 34.45, 34.45, 34.46, 34.46, 34.47, 34.47, 34.47, 34.48, 34.48, 34.48, 34.49, 34.49, 34.51, 34.51, 34.51, 34.55, 34.55, 34.55, 34.55, 34.56, 34.56, 34.57, 34.58, 34.58, 34.59, 34.62, 34.62, 34.63, 34.63, 34.66, 34.67, 34.68, 34.7, 34.71, 34.71, 34.73, 34.75, 34.75, 34.75, 34.76, 34.76, 34.77, 34.78, 34.79, 34.79, 34.82, 34.82, 34.82, 34.82, 34.82, 34.82, 34.83, 34.84, 34.84, 34.84, 34.84, 34.85, 34.86, 34.86, 34.86, 34.87, 34.87, 34.87, 34.88, 34.89, 34.9, 34.9, 34.9, 34.9, 34.91, 34.92, 34.92, 34.92, 34.92, 34.92, 34.94, 34.94, 34.95, 34.95, 34.96, 34.97, 34.97, 34.97, 34.98, 34.98, 34.98, 34.98, 34.98, 34.98, 34.99, 35.01, 35.02, 35.02, 35.02, 35.02, 35.04, 35.04, 35.04, 35.04, 35.04, 35.05, 35.07, 35.07, 35.07, 35.07, 35.07, 35.07, 35.08, 35.08, 35.08, 35.08, 35.08, 35.09, 35.1, 35.11, 35.12, 35.14, 35.14, 35.14, 35.15, 35.15, 35.16, 35.16, 35.16, 35.16, 35.17, 35.17, 35.17, 35.18, 35.18, 35.18, 35.18, 35.19, 35.2, 35.2, 35.2, 35.2, 35.2, 35.2, 35.21, 35.21, 35.22, 35.23, 35.24, 35.24, 35.24, 35.24, 35.25, 35.25, 35.25, 35.25, 35.26, 35.26, 35.26, 35.28, 35.28, 35.29, 35.29, 35.29, 35.29, 35.29, 35.29, 35.3, 35.3, 35.3, 35.31, 35.31, 35.31, 35.31, 35.31, 35.32, 35.33, 35.33, 35.33, 35.34, 35.36, 35.36, 35.36, 35.37, 35.37, 35.37, 35.37, 35.37, 35.37, 35.37, 35.37, 35.39, 35.39, 35.39, 35.39, 35.39, 35.39, 35.4, 35.4, 35.41, 35.42, 35.42, 35.42, 35.43, 35.45, 35.47, 35.49, 35.49, 35.49, 35.5, 35.53, 35.53, 35.53, 35.53, 35.55, 35.55, 35.55, 35.56, 35.57, 35.57, 35.57, 35.58, 35.58, 35.58, 35.58, 35.58, 35.58, 35.58, 35.58, 35.58, 35.59, 35.59, 35.6, 35.61, 35.62, 35.63, 35.65, 35.66, 35.66, 35.67, 35.67, 35.68, 35.68, 35.69, 35.7, 35.71, 35.71, 35.71, 35.72, 35.72, 35.73, 35.73, 35.73, 35.73, 35.74, 35.74, 35.74, 35.74, 35.74, 35.74, 35.74, 35.74, 35.74, 35.75, 35.75, 35.77, 35.78, 35.79, 35.79, 35.8, 35.81, 35.81, 35.81, 35.82, 35.82, 35.82, 35.82, 35.83, 35.83, 35.83, 35.83, 35.84, 35.85, 35.85, 35.86, 35.87, 35.87, 35.87, 35.88, 35.88, 35.88, 35.9, 35.9, 35.9, 35.91, 35.91, 35.91, 35.92, 35.92, 35.92, 35.92, 35.93, 35.93, 35.94, 35.94, 35.94, 35.95, 35.95, 35.96, 35.96, 35.96, 35.97, 35.98, 35.99, 35.99, 36.0, 36.0, 36.02, 36.03, 36.03, 36.03, 36.03, 36.03, 36.07, 36.07, 36.07, 36.07, 36.07, 36.07, 36.07, 36.07, 36.07, 36.07, 36.07, 36.1, 36.1, 36.11, 36.12, 36.14, 36.14, 36.15, 36.15, 36.17, 36.18, 36.19, 36.19, 36.2, 36.21, 36.21, 36.21, 36.23, 36.23, 36.23, 36.23, 36.25, 36.25, 36.26, 36.26, 36.26, 36.26, 36.28, 36.28, 36.29, 36.3, 36.3, 36.3, 36.31, 36.31, 36.32, 36.32, 36.34, 36.34, 36.34, 36.35, 36.36, 36.36, 36.36, 36.36, 36.36, 36.36, 36.37, 36.39, 36.4, 36.4, 36.4, 36.42, 36.43, 36.43, 36.43, 36.44, 36.44, 36.46, 36.46, 36.47, 36.48, 36.48, 36.48, 36.5, 36.5, 36.5, 36.5, 36.5, 36.5, 36.5, 36.5, 36.5, 36.5, 36.5, 36.5, 36.5, 36.5, 36.5, 36.5, 36.51, 36.52, 36.53, 36.54, 36.54, 36.54, 36.54, 36.55, 36.55, 36.56, 36.56, 36.56, 36.57, 36.58, 36.58, 36.58, 36.59, 36.59, 36.6, 36.6, 36.6, 36.6, 36.6, 36.6, 36.6, 36.62, 36.62, 36.64, 36.64, 36.65, 36.67, 36.68, 36.68, 36.69, 36.69, 36.69, 36.69, 36.69, 36.69, 36.71, 36.73, 36.74, 36.79, 36.79, 36.8, 36.82, 36.83, 36.84, 36.84, 36.85, 36.87, 36.9, 36.91, 36.93, 36.93, 36.93, 36.96, 36.97, 36.97, 36.97, 36.97, 36.98, 36.98, 36.98, 36.99, 36.99, 37.0, 37.0, 37.01, 37.02, 37.03, 37.04, 37.04, 37.07, 37.07, 37.07, 37.07, 37.07, 37.08, 37.09, 37.09, 37.11, 37.11, 37.11, 37.12, 37.12, 37.14, 37.14, 37.15, 37.18, 37.2, 37.2, 37.21, 37.21, 37.21, 37.21, 37.22, 37.23, 37.24, 37.24, 37.25, 37.25, 37.25, 37.25, 37.25, 37.26, 37.27, 37.27, 37.27, 37.3, 37.31, 37.31, 37.32, 37.32, 37.32, 37.33, 37.33, 37.33, 37.33, 37.33, 37.34, 37.36, 37.36, 37.38, 37.39, 37.4, 37.41, 37.41, 37.41, 37.42, 37.42, 37.42, 37.42, 37.43, 37.43, 37.44, 37.44, 37.44, 37.44, 37.45, 37.45, 37.45, 37.45, 37.45, 37.46, 37.46, 37.47, 37.47, 37.47, 37.5, 37.51, 37.51, 37.52, 37.53, 37.53, 37.57, 37.57, 37.57, 37.58, 37.58, 37.58, 37.58, 37.59, 37.6, 37.6, 37.6, 37.62, 37.63, 37.63, 37.65, 37.67, 37.68, 37.68, 37.68, 37.68, 37.68, 37.68, 37.68, 37.68, 37.69, 37.69, 37.69, 37.69, 37.7, 37.71, 37.71, 37.71, 37.72, 37.72, 37.74, 37.75, 37.75, 37.76, 37.77, 37.77, 37.78, 37.78, 37.8, 37.82, 37.82, 37.85, 37.88, 37.88, 37.89, 37.9, 37.9, 37.9, 37.91, 37.91, 37.94, 37.94, 37.94, 37.94, 37.95, 37.95, 37.96, 37.96, 37.96, 37.96, 37.96, 37.97, 37.97, 37.97, 37.99, 37.99, 37.99, 37.99, 38.0, 38.02, 38.03, 38.03, 38.04, 38.04, 38.04, 38.04, 38.09, 38.13, 38.13, 38.14, 38.14, 38.14, 38.14, 38.15, 38.15, 38.15, 38.16, 38.17, 38.18, 38.18, 38.18, 38.18, 38.18, 38.19, 38.19, 38.19, 38.2, 38.2, 38.2, 38.21, 38.22, 38.23, 38.23, 38.24, 38.24, 38.24, 38.25, 38.25, 38.25, 38.26, 38.26, 38.27, 38.28, 38.28, 38.29, 38.29, 38.29, 38.29, 38.3, 38.31, 38.31, 38.31, 38.31, 38.31, 38.32, 38.32, 38.32, 38.32, 38.32, 38.33, 38.33, 38.33, 38.33, 38.33, 38.35, 38.35, 38.35, 38.35, 38.36, 38.36, 38.36, 38.39, 38.4, 38.41, 38.41, 38.41, 38.44, 38.44, 38.45, 38.45, 38.45, 38.46, 38.46, 38.46, 38.46, 38.47, 38.48, 38.5, 38.5, 38.51, 38.53, 38.53, 38.53, 38.53, 38.53, 38.53, 38.53, 38.53, 38.53, 38.53, 38.54, 38.54, 38.54, 38.54, 38.56, 38.56, 38.56, 38.56, 38.56, 38.56, 38.56, 38.57, 38.57, 38.57, 38.58, 38.61, 38.61, 38.61, 38.62, 38.65, 38.65, 38.66, 38.67, 38.69, 38.7, 38.71, 38.71, 38.71, 38.73, 38.73, 38.74, 38.74, 38.75, 38.75, 38.77, 38.77, 38.79, 38.81, 38.82, 38.82, 38.82, 38.82, 38.83, 38.83, 38.84, 38.84, 38.84, 38.85, 38.87, 38.89, 38.89, 38.9, 38.9, 38.9, 38.9, 38.9, 38.9, 38.92, 38.95, 38.96, 38.96, 38.98, 38.98, 39.0, 39.01, 39.01, 39.01, 39.01, 39.02, 39.02, 39.02, 39.03, 39.04, 39.05, 39.06, 39.06, 39.06, 39.07, 39.07, 39.09, 39.12, 39.12, 39.13, 39.14, 39.16, 39.17, 39.18, 39.18, 39.18, 39.18, 39.18, 39.18, 39.19, 39.19, 39.2, 39.2, 39.23, 39.23, 39.23, 39.24, 39.24, 39.25, 39.27, 39.31, 39.31, 39.32, 39.33, 39.34, 39.36, 39.36, 39.37, 39.37, 39.37, 39.37, 39.37, 39.38, 39.38, 39.42, 39.43, 39.43, 39.44, 39.45, 39.45, 39.45, 39.46, 39.46, 39.47, 39.48, 39.49, 39.52, 39.53, 39.53, 39.54, 39.54, 39.54, 39.55, 39.55, 39.55, 39.56, 39.56, 39.56, 39.56, 39.56, 39.56, 39.56, 39.56, 39.56, 39.56, 39.57, 39.57, 39.57, 39.57, 39.58, 39.58, 39.59, 39.6, 39.61, 39.62, 39.62, 39.62, 39.65, 39.66, 39.66, 39.67, 39.67, 39.76, 39.8, 39.81, 39.81, 39.81, 39.82, 39.82, 39.83, 39.84, 39.86, 39.87, 39.87, 39.9, 39.9, 39.91, 39.91, 39.91, 39.94, 39.94, 39.95, 39.95, 39.95, 39.95, 39.96, 39.96, 39.98, 39.98, 40.0, 40.0, 40.01, 40.02, 40.02, 40.04, 40.04, 40.04, 40.05, 40.05, 40.05, 40.06, 40.07, 40.07, 40.09, 40.09, 40.09, 40.09, 40.1, 40.1, 40.1, 40.1, 40.1, 40.11, 40.12, 40.12, 40.14, 40.14, 40.14, 40.14, 40.14, 40.14, 40.15, 40.15, 40.15, 40.15, 40.16, 40.16, 40.16, 40.19, 40.19, 40.19, 40.2, 40.2, 40.2, 40.2, 40.2, 40.2, 40.21, 40.21, 40.21, 40.22, 40.23, 40.23, 40.23, 40.29, 40.3, 40.31, 40.31, 40.31, 40.32, 40.32, 40.33, 40.33, 40.36, 40.37, 40.38, 40.39, 40.39, 40.4, 40.41, 40.41, 40.41, 40.42, 40.43, 40.44, 40.44, 40.45, 40.46, 40.47, 40.48, 40.48, 40.49, 40.5, 40.5, 40.51, 40.51, 40.51, 40.51, 40.52, 40.52, 40.54, 40.55, 40.55, 40.57, 40.58, 40.59, 40.6, 40.61, 40.62, 40.62, 40.62, 40.62, 40.63, 40.64, 40.64, 40.65, 40.65, 40.65, 40.66, 40.69, 40.7, 40.7, 40.7, 40.71, 40.72, 40.72, 40.72, 40.74, 40.74, 40.74, 40.76, 40.77, 40.77, 40.78, 40.79, 40.79, 40.79, 40.8, 40.8, 40.81, 40.81, 40.81, 40.82, 40.82, 40.82, 40.86, 40.9, 40.9, 40.9, 40.91, 40.91, 40.91, 40.91, 40.91, 40.92, 40.92, 40.93, 40.94, 40.94, 40.95, 40.95, 40.96, 40.96, 40.96, 40.98, 40.98, 40.99, 41.0, 41.0, 41.01, 41.01, 41.01, 41.01, 41.01, 41.01, 41.01, 41.01, 41.01, 41.02, 41.04, 41.04, 41.04, 41.07, 41.07, 41.07, 41.07, 41.11, 41.11, 41.12, 41.12, 41.12, 41.13, 41.14, 41.15, 41.16, 41.16, 41.16, 41.19, 41.19, 41.19, 41.19, 41.19, 41.2, 41.2, 41.2, 41.21, 41.21, 41.22, 41.22, 41.23, 41.23, 41.24, 41.25, 41.27, 41.27, 41.29, 41.3, 41.3, 41.3, 41.3, 41.3, 41.3, 41.3, 41.31, 41.31, 41.32, 41.32, 41.33, 41.34, 41.34, 41.35, 41.36, 41.39, 41.39, 41.41, 41.41, 41.41, 41.41, 41.41, 41.42, 41.42, 41.42, 41.43, 41.43, 41.44, 41.44, 41.44, 41.45, 41.46, 41.47, 41.48, 41.48, 41.49, 41.49, 41.5, 41.51, 41.53, 41.53, 41.54, 41.54, 41.54, 41.54, 41.57, 41.58, 41.58, 41.59, 41.59, 41.6, 41.6, 41.63, 41.64, 41.64, 41.64, 41.64, 41.67, 41.67, 41.68, 41.68, 41.68, 41.68, 41.7, 41.71, 41.71, 41.72, 41.72, 41.72, 41.72, 41.73, 41.73, 41.74, 41.74, 41.76, 41.77, 41.78, 41.79, 41.79, 41.79, 41.79, 41.8, 41.8, 41.8, 41.8, 41.81, 41.82, 41.82, 41.82, 41.82, 41.83, 41.83, 41.83, 41.83, 41.83, 41.85, 41.85, 41.85, 41.85, 41.86, 41.86, 41.86, 41.88, 41.88, 41.88, 41.88, 41.89, 41.9, 41.9, 41.9, 41.91, 41.91, 41.91, 41.91, 41.91, 41.91, 41.91, 41.92, 41.92, 41.93, 41.94, 41.94, 41.95, 41.95, 41.95, 41.96, 41.96, 41.97, 42.0, 42.0, 42.01, 42.02, 42.02, 42.03, 42.04, 42.04, 42.04, 42.04, 42.05, 42.06, 42.07, 42.07, 42.09, 42.09, 42.11, 42.12, 42.12, 42.13, 42.13, 42.13, 42.13, 42.13, 42.13, 42.15, 42.16, 42.17, 42.17, 42.2, 42.21, 42.21, 42.21, 42.23, 42.23, 42.23, 42.23, 42.24, 42.25, 42.26, 42.27, 42.28, 42.3, 42.32, 42.34, 42.34, 42.34, 42.34, 42.35, 42.35, 42.35, 42.35, 42.38, 42.39, 42.39, 42.39, 42.39, 42.39, 42.39, 42.41, 42.41, 42.41, 42.41, 42.41, 42.44, 42.44, 42.44, 42.44, 42.46, 42.46, 42.47, 42.48, 42.48, 42.48, 42.48, 42.5, 42.5, 42.52, 42.52, 42.53, 42.53, 42.54, 42.56, 42.56, 42.57, 42.57, 42.57, 42.57, 42.57, 42.57, 42.59, 42.59, 42.59, 42.59, 42.59, 42.59, 42.6, 42.6, 42.61, 42.61, 42.62, 42.62, 42.63, 42.63, 42.65, 42.65, 42.66, 42.67, 42.67, 42.67, 42.68, 42.68, 42.69, 42.69, 42.7, 42.7, 42.7, 42.7, 42.71, 42.72, 42.74, 42.74, 42.74, 42.74, 42.74, 42.75, 42.77, 42.77, 42.77, 42.78, 42.78, 42.78, 42.8, 42.8, 42.81, 42.82, 42.83, 42.83, 42.83, 42.85, 42.86, 42.87, 42.87, 42.87, 42.87, 42.88, 42.88, 42.88, 42.88, 42.89, 42.91, 42.91, 42.93, 42.93, 42.93, 42.93, 42.93, 42.94, 42.95, 42.95, 42.95, 42.95, 42.97, 42.97, 42.97, 42.97, 42.97, 42.98, 42.99, 42.99, 42.99, 43.0, 43.0, 43.01, 43.02, 43.03, 43.04, 43.06, 43.06, 43.08, 43.08, 43.09, 43.12, 43.12, 43.12, 43.12, 43.13, 43.13, 43.13, 43.13, 43.13, 43.14, 43.14, 43.15, 43.15, 43.15, 43.16, 43.16, 43.16, 43.16, 43.16, 43.16, 43.16, 43.16, 43.18, 43.19, 43.19, 43.19, 43.19, 43.19, 43.2, 43.2, 43.2, 43.21, 43.24, 43.25, 43.27, 43.27, 43.27, 43.27, 43.29, 43.29, 43.29, 43.3, 43.3, 43.3, 43.31, 43.31, 43.31, 43.32, 43.32, 43.33, 43.34, 43.35, 43.36, 43.39, 43.43, 43.43, 43.45, 43.45, 43.46, 43.47, 43.47, 43.47, 43.47, 43.47, 43.47, 43.47, 43.47, 43.47, 43.47, 43.47, 43.47, 43.47, 43.47, 43.47, 43.47, 43.47, 43.47, 43.48, 43.48, 43.48, 43.48, 43.48, 43.49, 43.51, 43.52, 43.52, 43.54, 43.54, 43.55, 43.55, 43.55, 43.55, 43.58, 43.58, 43.58, 43.58, 43.58, 43.58, 43.59, 43.6, 43.6, 43.6, 43.6, 43.6, 43.61, 43.61, 43.61, 43.64, 43.68, 43.69, 43.74, 43.74, 43.76, 43.76, 43.78, 43.79, 43.81, 43.81, 43.83, 43.84, 43.85, 43.85, 43.87, 43.88, 43.88, 43.88, 43.92, 43.92, 43.93, 43.94, 43.94, 43.94, 43.94, 43.95, 43.95, 43.98, 43.99, 43.99, 44.01, 44.01, 44.02, 44.03, 44.03, 44.04, 44.04, 44.04, 44.04, 44.05, 44.06, 44.06, 44.07, 44.07, 44.08, 44.08, 44.08, 44.09, 44.09, 44.09, 44.1, 44.1, 44.1, 44.1, 44.11, 44.11, 44.13, 44.13, 44.13, 44.13, 44.14, 44.14, 44.19, 44.19, 44.19, 44.2, 44.21, 44.21, 44.21, 44.21, 44.22, 44.22, 44.22, 44.23, 44.24, 44.24, 44.24, 44.25, 44.25, 44.25, 44.25, 44.25, 44.26, 44.26, 44.26, 44.27, 44.31, 44.31, 44.31, 44.32, 44.32, 44.34, 44.36, 44.37, 44.37, 44.37, 44.39, 44.39, 44.39, 44.39, 44.4, 44.41, 44.41, 44.41, 44.42, 44.46, 44.46, 44.48, 44.49, 44.49, 44.5, 44.5, 44.52, 44.52, 44.54, 44.55, 44.55, 44.57, 44.57, 44.58, 44.59, 44.59, 44.6, 44.6, 44.6, 44.6, 44.6, 44.6, 44.61, 44.61, 44.61, 44.61, 44.62, 44.62, 44.63, 44.63, 44.66, 44.66, 44.66, 44.66, 44.66, 44.66, 44.68, 44.69, 44.69, 44.69, 44.71, 44.73, 44.73, 44.73, 44.76, 44.77, 44.78, 44.78, 44.79, 44.79, 44.8, 44.8, 44.8, 44.8, 44.81, 44.83, 44.83, 44.83, 44.85, 44.85, 44.87, 44.87, 44.87, 44.88, 44.91, 44.92, 44.94, 44.94, 44.95, 45.0, 45.0, 45.0, 45.01, 45.01, 45.02, 45.03, 45.03, 45.03, 45.03, 45.03, 45.03, 45.03, 45.04, 45.04, 45.04, 45.04, 45.05, 45.06, 45.06, 45.06, 45.06, 45.06, 45.06, 45.06, 45.07, 45.07, 45.07, 45.07, 45.07, 45.07, 45.07, 45.09, 45.1, 45.1, 45.13, 45.16, 45.16, 45.16, 45.16, 45.17, 45.18, 45.18, 45.18, 45.19, 45.19, 45.21, 45.29, 45.29, 45.3, 45.31, 45.31, 45.31, 45.31, 45.31, 45.32, 45.32, 45.32, 45.32, 45.32, 45.34, 45.34, 45.34, 45.35, 45.35, 45.37, 45.38, 45.39, 45.4, 45.43, 45.44, 45.44, 45.45, 45.46, 45.47, 45.49, 45.49, 45.49, 45.49, 45.5, 45.51, 45.51, 45.51, 45.52, 45.52, 45.53, 45.53, 45.53, 45.53, 45.54, 45.54, 45.54, 45.54, 45.55, 45.56, 45.56, 45.56, 45.56, 45.56, 45.56, 45.56, 45.56, 45.6, 45.6, 45.6, 45.6, 45.6, 45.6, 45.61, 45.61, 45.61, 45.61, 45.61, 45.61, 45.62, 45.63, 45.63, 45.64, 45.65, 45.65, 45.65, 45.65, 45.67, 45.68, 45.68, 45.68, 45.68, 45.71, 45.71, 45.71, 45.72, 45.73, 45.73, 45.74, 45.74, 45.75, 45.75, 45.75, 45.76, 45.76, 45.78, 45.78, 45.79, 45.8, 45.8, 45.8, 45.81, 45.81, 45.82, 45.82, 45.82, 45.82, 45.82, 45.82, 45.82, 45.84, 45.85, 45.85, 45.86, 45.86, 45.87, 45.87, 45.88, 45.88, 45.89, 45.89, 45.89, 45.89, 45.89, 45.93, 45.93, 45.95, 45.95, 45.96, 45.96, 45.96, 45.97, 45.98, 45.98, 45.98, 45.99, 45.99, 45.99, 45.99, 45.99, 45.99, 46.0, 46.0, 46.02, 46.04, 46.04, 46.04, 46.05, 46.07, 46.11, 46.14, 46.14, 46.14, 46.16, 46.16, 46.17, 46.17, 46.18, 46.18, 46.18, 46.21, 46.23, 46.24, 46.27, 46.28, 46.28, 46.28, 46.3, 46.31, 46.31, 46.31, 46.31, 46.32, 46.33, 46.33, 46.33, 46.33, 46.34, 46.34, 46.34, 46.37, 46.38, 46.39, 46.39, 46.39, 46.4, 46.41, 46.41, 46.45, 46.45, 46.45, 46.45, 46.45, 46.46, 46.46, 46.46, 46.47, 46.47, 46.47, 46.47, 46.47, 46.47, 46.47, 46.47, 46.47, 46.47, 46.47, 46.47, 46.47, 46.47, 46.48, 46.49, 46.5, 46.51, 46.53, 46.53, 46.53, 46.54, 46.54, 46.6, 46.6, 46.6, 46.6, 46.6, 46.6, 46.6, 46.6, 46.62, 46.63, 46.64, 46.65, 46.65, 46.69, 46.7, 46.7, 46.7, 46.7, 46.72, 46.72, 46.74, 46.74, 46.74, 46.76, 46.76, 46.76, 46.76, 46.76, 46.77, 46.78, 46.78, 46.78, 46.78, 46.79, 46.8, 46.8, 46.81, 46.82, 46.84, 46.86, 46.88, 46.9, 46.91, 46.91, 46.91, 46.91, 46.93, 46.94, 46.94, 46.98, 47.0, 47.01, 47.04, 47.11, 47.11, 47.12, 47.12, 47.12, 47.13, 47.13, 47.14, 47.14, 47.17, 47.18, 47.18, 47.19, 47.22, 47.23, 47.23, 47.23, 47.24, 47.24, 47.26, 47.27, 47.28, 47.29, 47.29, 47.29, 47.29, 47.31, 47.33, 47.33, 47.34, 47.34, 47.35, 47.36, 47.36, 47.37, 47.39, 47.39, 47.4, 47.4, 47.41, 47.43, 47.43, 47.46, 47.47, 47.47, 47.48, 47.49, 47.5, 47.5, 47.5, 47.5, 47.5, 47.52, 47.52, 47.52, 47.54, 47.54, 47.54, 47.55, 47.55, 47.55, 47.57, 47.57, 47.57, 47.57, 47.57, 47.57, 47.58, 47.58, 47.58, 47.6, 47.63, 47.63, 47.65, 47.65, 47.65, 47.65, 47.69, 47.71, 47.73, 47.75, 47.75, 47.75, 47.76, 47.77, 47.78, 47.81, 47.82, 47.82, 47.82, 47.82, 47.83, 47.83, 47.84, 47.84, 47.84, 47.85, 47.85, 47.85, 47.85, 47.86, 47.86, 47.86, 47.86, 47.86, 47.88, 47.89, 47.89, 47.89, 47.89, 47.89, 47.89, 47.89, 47.91, 47.92, 47.93, 47.94, 47.94, 47.95, 47.97, 47.97, 47.97, 47.98, 47.99, 48.0, 48.0, 48.01, 48.03, 48.04, 48.05, 48.1, 48.11, 48.11, 48.14, 48.14, 48.14, 48.17, 48.18, 48.18, 48.18, 48.19, 48.19, 48.19, 48.19, 48.2, 48.2, 48.2, 48.2, 48.2, 48.2, 48.2, 48.2, 48.21, 48.21, 48.21, 48.21, 48.23, 48.24, 48.24, 48.25, 48.26, 48.28, 48.28, 48.28, 48.28, 48.28, 48.28, 48.29, 48.29, 48.29, 48.3, 48.33, 48.33, 48.33, 48.33, 48.34, 48.36, 48.36, 48.39, 48.42, 48.45, 48.47, 48.47, 48.47, 48.48, 48.48, 48.49, 48.49, 48.5, 48.51, 48.51, 48.52, 48.53, 48.53, 48.54, 48.55, 48.55, 48.56, 48.57, 48.58, 48.59, 48.6, 48.6, 48.6, 48.6, 48.6, 48.63, 48.65, 48.67, 48.69, 48.69, 48.69, 48.7, 48.73, 48.73, 48.74, 48.74, 48.76, 48.78, 48.78, 48.78, 48.78, 48.8, 48.81, 48.81, 48.82, 48.84, 48.84, 48.86, 48.87, 48.88, 48.9, 48.91, 48.91, 48.91, 48.93, 48.93, 48.93, 48.94, 48.94, 48.96, 48.96, 48.97, 48.97, 49.01, 49.01, 49.02, 49.02, 49.03, 49.05, 49.06, 49.08, 49.11, 49.15, 49.15, 49.17, 49.18, 49.19, 49.19, 49.22, 49.25, 49.25, 49.27, 49.27, 49.28, 49.28, 49.29, 49.29, 49.29, 49.29, 49.32, 49.32, 49.32, 49.33, 49.33, 49.35, 49.36, 49.41, 49.41, 49.41, 49.45, 49.46, 49.46, 49.47, 49.49, 49.5, 49.53, 49.53, 49.54, 49.56, 49.56, 49.57, 49.57, 49.57, 49.57, 49.58, 49.59, 49.59, 49.59, 49.59, 49.59, 49.6, 49.61, 49.62, 49.62, 49.65, 49.68, 49.68, 49.71, 49.71, 49.72, 49.72, 49.73, 49.74, 49.74, 49.76, 49.77, 49.77, 49.78, 49.78, 49.79, 49.79, 49.82, 49.82, 49.83, 49.83, 49.83, 49.84, 49.86, 49.86, 49.87, 49.87, 49.87, 49.9, 49.9, 49.91, 49.92, 49.94, 49.94, 49.94, 49.94, 49.94, 49.94, 49.94, 49.94, 49.94, 49.94, 49.94, 49.94, 49.94, 49.94, 49.94, 49.94, 49.94, 49.94, 49.94, 49.94, 49.94, 49.96, 49.96, 49.96, 49.98, 49.98, 49.99, 50.0, 50.0, 50.0, 50.0, 50.02, 50.03, 50.04, 50.04, 50.04, 50.09, 50.1, 50.13, 50.15, 50.16, 50.16, 50.17, 50.17, 50.17, 50.2, 50.21, 50.21, 50.25, 50.25, 50.25, 50.26, 50.26, 50.26, 50.26, 50.27, 50.29, 50.29, 50.29, 50.29, 50.29, 50.32, 50.32, 50.33, 50.33, 50.33, 50.33, 50.34, 50.36, 50.42, 50.43, 50.43, 50.43, 50.43, 50.44, 50.44, 50.46, 50.46, 50.46, 50.47, 50.48, 50.5, 50.51, 50.51, 50.51, 50.51, 50.52, 50.52, 50.52, 50.54, 50.54, 50.54, 50.54, 50.54, 50.54, 50.54, 50.54, 50.58, 50.59, 50.59, 50.6, 50.63, 50.64, 50.65, 50.69, 50.69, 50.7, 50.7, 50.71, 50.71, 50.71, 50.72, 50.72, 50.74, 50.76, 50.76, 50.76, 50.77, 50.78, 50.79, 50.82, 50.82, 50.83, 50.83, 50.84, 50.85, 50.85, 50.85, 50.87, 50.94, 50.97, 50.97, 50.97, 50.97, 50.98, 51.0, 51.02, 51.03, 51.04, 51.05, 51.06, 51.07, 51.08, 51.09, 51.09, 51.09, 51.1, 51.1, 51.12, 51.13, 51.15, 51.2, 51.2, 51.21, 51.22, 51.22, 51.22, 51.24, 51.24, 51.27, 51.29, 51.29, 51.29, 51.29, 51.29, 51.29, 51.31, 51.32, 51.33, 51.34, 51.34, 51.35, 51.35, 51.35, 51.37, 51.37, 51.37, 51.37, 51.37, 51.37, 51.4, 51.41, 51.41, 51.44, 51.45, 51.46, 51.48, 51.48, 51.51, 51.52, 51.52, 51.53, 51.57, 51.57, 51.57, 51.57, 51.59, 51.59, 51.59, 51.62, 51.62, 51.62, 51.63, 51.68, 51.69, 51.7, 51.7, 51.7, 51.71, 51.72, 51.72, 51.73, 51.73, 51.73, 51.73, 51.74, 51.75, 51.79, 51.79, 51.8, 51.82, 51.82, 51.83, 51.83, 51.83, 51.86, 51.87, 51.87, 51.88, 51.88, 51.88, 51.89, 51.89, 51.89, 51.89, 51.9, 51.92, 51.93, 51.96, 51.98, 51.98, 51.98, 51.98, 51.99, 52.01, 52.01, 52.03, 52.03, 52.04, 52.04, 52.05, 52.08, 52.08, 52.08, 52.08, 52.08, 52.08, 52.08, 52.09, 52.1, 52.11, 52.12, 52.12, 52.12, 52.14, 52.15, 52.15, 52.16, 52.17, 52.17, 52.17, 52.17, 52.17, 52.19, 52.19, 52.22, 52.22, 52.23, 52.23, 52.25, 52.28, 52.28, 52.28, 52.28, 52.28, 52.3, 52.31, 52.32, 52.35, 52.38, 52.39, 52.4, 52.41, 52.42, 52.42, 52.43, 52.45, 52.46, 52.46, 52.46, 52.47, 52.47, 52.47, 52.49, 52.51, 52.51, 52.51, 52.54, 52.55, 52.55, 52.57, 52.57, 52.57, 52.58, 52.58, 52.58, 52.59, 52.59, 52.6, 52.62, 52.62, 52.62, 52.64, 52.64, 52.64, 52.66, 52.68, 52.71, 52.71, 52.71, 52.71, 52.72, 52.72, 52.73, 52.75, 52.79, 52.81, 52.81, 52.82, 52.82, 52.82, 52.83, 52.87, 52.87, 52.87, 52.87, 52.9, 52.91, 52.93, 52.94, 52.94, 52.96, 52.96, 52.96, 52.96, 52.96, 52.96, 52.96, 52.96, 52.97, 52.97, 52.97, 52.98, 52.98, 52.98, 53.0, 53.0, 53.0, 53.01, 53.01, 53.04, 53.07, 53.08, 53.08, 53.08, 53.1, 53.1, 53.1, 53.1, 53.11, 53.13, 53.15, 53.16, 53.19, 53.23, 53.25, 53.26, 53.27, 53.29, 53.29, 53.29, 53.29, 53.3, 53.3, 53.3, 53.3, 53.3, 53.33, 53.33, 53.34, 53.34, 53.34, 53.35, 53.36, 53.37, 53.37, 53.39, 53.42, 53.43, 53.43, 53.43, 53.43, 53.43, 53.43, 53.43, 53.43, 53.44, 53.45, 53.46, 53.47, 53.47, 53.47, 53.47, 53.5, 53.51, 53.51, 53.52, 53.54, 53.55, 53.55, 53.55, 53.55, 53.56, 53.56, 53.56, 53.56, 53.56, 53.56, 53.57, 53.57, 53.61, 53.61, 53.61, 53.62, 53.65, 53.65, 53.66, 53.67, 53.68, 53.69, 53.7, 53.7, 53.71, 53.71, 53.72, 53.73, 53.74, 53.75, 53.75, 53.75, 53.76, 53.76, 53.76, 53.76, 53.76, 53.76, 53.76, 53.77, 53.8, 53.8, 53.83, 53.85, 53.85, 53.85, 53.86, 53.87, 53.87, 53.88, 53.88, 53.89, 53.89, 53.94, 53.95, 53.95, 54.02, 54.02, 54.02, 54.03, 54.05, 54.1, 54.1, 54.14, 54.14, 54.18, 54.18, 54.2, 54.23, 54.23, 54.23, 54.23, 54.23, 54.23, 54.23, 54.23, 54.23, 54.23, 54.23, 54.23, 54.23, 54.25, 54.26, 54.26, 54.27, 54.27, 54.28, 54.28, 54.28, 54.29, 54.29, 54.29, 54.3, 54.3, 54.31, 54.31, 54.31, 54.33, 54.35, 54.36, 54.36, 54.37, 54.37, 54.38, 54.38, 54.39, 54.44, 54.44, 54.45, 54.48, 54.48, 54.48, 54.48, 54.48, 54.48, 54.49, 54.49, 54.49, 54.49, 54.49, 54.52, 54.52, 54.55, 54.55, 54.55, 54.57, 54.57, 54.58, 54.58, 54.61, 54.62, 54.63, 54.64, 54.64, 54.64, 54.65, 54.65, 54.66, 54.66, 54.67, 54.68, 54.69, 54.71, 54.71, 54.72, 54.72, 54.73, 54.74, 54.74, 54.74, 54.74, 54.76, 54.76, 54.78, 54.79, 54.79, 54.8, 54.83, 54.84, 54.86, 54.86, 54.87, 54.87, 54.88, 54.89, 54.89, 54.89, 54.89, 54.91, 54.91, 54.91, 54.91, 54.91, 54.91, 54.91, 54.91, 54.92, 54.92, 54.92, 54.95, 54.95, 54.97, 54.99, 55.0, 55.0, 55.01, 55.04, 55.04, 55.05, 55.05, 55.06, 55.07, 55.08, 55.08, 55.09, 55.11, 55.11, 55.12, 55.12, 55.14, 55.16, 55.16, 55.16, 55.16, 55.16, 55.16, 55.17, 55.17, 55.17, 55.19, 55.19, 55.22, 55.22, 55.22, 55.24, 55.24, 55.24, 55.24, 55.24, 55.25, 55.25, 55.25, 55.26, 55.26, 55.26, 55.26, 55.27, 55.27, 55.28, 55.29, 55.29, 55.33, 55.33, 55.38, 55.38, 55.38, 55.4, 55.4, 55.4, 55.4, 55.42, 55.43, 55.45, 55.48, 55.48, 55.49, 55.5, 55.5, 55.53, 55.53, 55.54, 55.6, 55.6, 55.6, 55.61, 55.61, 55.61, 55.61, 55.62, 55.62, 55.62, 55.64, 55.65, 55.66, 55.66, 55.66, 55.66, 55.68, 55.69, 55.72, 55.72, 55.72, 55.72, 55.74, 55.74, 55.74, 55.74, 55.74, 55.74, 55.75, 55.75, 55.75, 55.76, 55.77, 55.8, 55.86, 55.86, 55.87, 55.87, 55.87, 55.87, 55.89, 55.89, 55.9, 55.92, 55.92, 55.92, 55.94, 55.94, 55.95, 55.97, 55.97, 55.98, 56.01, 56.01, 56.01, 56.03, 56.03, 56.05, 56.08, 56.08, 56.1, 56.11, 56.13, 56.14, 56.15, 56.15, 56.15, 56.16, 56.16, 56.16, 56.17, 56.18, 56.18, 56.19, 56.19, 56.21, 56.22, 56.22, 56.23, 56.24, 56.27, 56.27, 56.27, 56.27, 56.28, 56.28, 56.28, 56.29, 56.3, 56.31, 56.31, 56.31, 56.35, 56.35, 56.35, 56.36, 56.36, 56.36, 56.37, 56.39, 56.4, 56.41, 56.41, 56.43, 56.43, 56.44, 56.44, 56.48, 56.48, 56.5, 56.5, 56.5, 56.51, 56.51, 56.51, 56.52, 56.52, 56.56, 56.56, 56.57, 56.58, 56.59, 56.61, 56.61, 56.64, 56.67, 56.68, 56.7, 56.73, 56.74, 56.76, 56.77, 56.77, 56.78, 56.79, 56.79, 56.79, 56.79, 56.79, 56.8, 56.8, 56.81, 56.82, 56.82, 56.82, 56.83, 56.83, 56.84, 56.85, 56.89, 56.89, 56.9, 56.9, 56.9, 56.9, 56.91, 56.93, 56.95, 56.95, 56.96, 56.97, 56.98, 56.99, 57.0, 57.02, 57.07, 57.07, 57.07, 57.07, 57.1, 57.11, 57.12, 57.12, 57.13, 57.14, 57.15, 57.15, 57.16, 57.18, 57.19, 57.22, 57.24, 57.3, 57.32, 57.32, 57.36, 57.38, 57.39, 57.4, 57.4, 57.42, 57.45, 57.45, 57.46, 57.5, 57.52, 57.54, 57.56, 57.57, 57.58, 57.58, 57.58, 57.59, 57.59, 57.6, 57.61, 57.61, 57.61, 57.61, 57.62, 57.62, 57.62, 57.62, 57.62, 57.62, 57.63, 57.64, 57.69, 57.69, 57.7, 57.7, 57.71, 57.71, 57.73, 57.73, 57.74, 57.74, 57.75, 57.77, 57.79, 57.79, 57.82, 57.83, 57.85, 57.86, 57.87, 57.87, 57.88, 57.88, 57.88, 57.88, 57.89, 57.9, 57.91, 57.91, 57.94, 57.96, 57.97, 57.97, 57.97, 57.97, 57.99, 58.0, 58.03, 58.08, 58.09, 58.09, 58.09, 58.1, 58.1, 58.1, 58.12, 58.13, 58.13, 58.13, 58.15, 58.21, 58.21, 58.22, 58.22, 58.23, 58.23, 58.25, 58.25, 58.26, 58.28, 58.29, 58.33, 58.34, 58.35, 58.36, 58.37, 58.37, 58.38, 58.38, 58.39, 58.39, 58.39, 58.41, 58.41, 58.43, 58.44, 58.45, 58.45, 58.45, 58.48, 58.49, 58.5, 58.5, 58.5, 58.5, 58.51, 58.53, 58.53, 58.55, 58.55, 58.57, 58.57, 58.57, 58.59, 58.59, 58.6, 58.6, 58.61, 58.62, 58.62, 58.63, 58.63, 58.63, 58.66, 58.67, 58.69, 58.69, 58.71, 58.73, 58.73, 58.77, 58.81, 58.86, 58.87, 58.95, 58.96, 58.97, 59.0, 59.02, 59.06, 59.07, 59.07, 59.08, 59.08, 59.09, 59.1, 59.1, 59.11, 59.12, 59.12, 59.14, 59.17, 59.17, 59.18, 59.18, 59.18, 59.18, 59.19, 59.21, 59.23, 59.24, 59.24, 59.25, 59.26, 59.26, 59.26, 59.28, 59.28, 59.29, 59.29, 59.29, 59.29, 59.29, 59.29, 59.3, 59.3, 59.31, 59.33, 59.33, 59.37, 59.45, 59.45, 59.45, 59.45, 59.46, 59.47, 59.47, 59.47, 59.47, 59.47, 59.47, 59.48, 59.48, 59.5, 59.5, 59.5, 59.5, 59.5, 59.51, 59.51, 59.53, 59.55, 59.58, 59.6, 59.63, 59.63, 59.67, 59.67, 59.71, 59.72, 59.72, 59.72, 59.72, 59.75, 59.75, 59.77, 59.77, 59.78, 59.78, 59.78, 59.79, 59.79, 59.79, 59.8, 59.8, 59.81, 59.81, 59.81, 59.81, 59.81, 59.82, 59.82, 59.84, 59.85, 59.87, 59.91, 59.93, 59.94, 59.94, 59.96, 59.96, 59.96, 59.97, 60.01, 60.03, 60.06, 60.1, 60.12, 60.17, 60.17, 60.21, 60.21, 60.22, 60.22, 60.22, 60.23, 60.23, 60.23, 60.23, 60.24, 60.24, 60.25, 60.25, 60.26, 60.26, 60.26, 60.27, 60.27, 60.27, 60.29, 60.3, 60.3, 60.32, 60.36, 60.37, 60.37, 60.42, 60.42, 60.43, 60.43, 60.46, 60.46, 60.47, 60.47, 60.47, 60.48, 60.48, 60.48, 60.48, 60.49, 60.5, 60.5, 60.53, 60.54, 60.54, 60.55, 60.57, 60.59, 60.61, 60.64, 60.66, 60.66, 60.66, 60.66, 60.66, 60.66, 60.67, 60.69, 60.71, 60.72, 60.72, 60.72, 60.74, 60.74, 60.74, 60.74, 60.75, 60.76, 60.76, 60.76, 60.76, 60.77, 60.77, 60.77, 60.8, 60.82, 60.82, 60.82, 60.83, 60.83, 60.84, 60.84, 60.85, 60.87, 60.92, 60.93, 60.94, 60.94, 60.94, 60.98, 60.98, 60.98, 60.99, 61.01, 61.02, 61.06, 61.06, 61.07, 61.07, 61.07, 61.08, 61.11, 61.11, 61.11, 61.14, 61.16, 61.17, 61.2, 61.22, 61.23, 61.23, 61.23, 61.26, 61.28, 61.32, 61.32, 61.32, 61.32, 61.34, 61.34, 61.34, 61.35, 61.35, 61.36, 61.36, 61.36, 61.44, 61.44, 61.45, 61.45, 61.46, 61.52, 61.52, 61.54, 61.54, 61.54, 61.55, 61.55, 61.55, 61.57, 61.57, 61.62, 61.62, 61.63, 61.63, 61.65, 61.66, 61.66, 61.68, 61.68, 61.7, 61.7, 61.71, 61.71, 61.71, 61.71, 61.72, 61.72, 61.72, 61.75, 61.75, 61.76, 61.77, 61.78, 61.81, 61.81, 61.85, 61.85, 61.85, 61.89, 61.91, 61.91, 61.91, 61.92, 61.93, 61.94, 61.96, 62.01, 62.05, 62.07, 62.09, 62.11, 62.12, 62.13, 62.13, 62.13, 62.13, 62.13, 62.13, 62.13, 62.13, 62.13, 62.13, 62.14, 62.16, 62.16, 62.17, 62.19, 62.19, 62.19, 62.2, 62.2, 62.21, 62.21, 62.21, 62.23, 62.24, 62.24, 62.24, 62.25, 62.26, 62.26, 62.27, 62.28, 62.29, 62.29, 62.32, 62.33, 62.33, 62.34, 62.41, 62.41, 62.42, 62.42, 62.44, 62.44, 62.46, 62.46, 62.46, 62.48, 62.48, 62.51, 62.53, 62.53, 62.54, 62.54, 62.54, 62.54, 62.54, 62.54, 62.54, 62.54, 62.54, 62.54, 62.56, 62.57, 62.6, 62.62, 62.63, 62.64, 62.67, 62.7, 62.74, 62.74, 62.75, 62.75, 62.77, 62.77, 62.77, 62.79, 62.79, 62.81, 62.81, 62.84, 62.84, 62.84, 62.84, 62.84, 62.84, 62.85, 62.85, 62.86, 62.87, 62.87, 62.94, 62.95, 63.0, 63.02, 63.02, 63.03, 63.03, 63.03, 63.04, 63.04, 63.09, 63.1, 63.1, 63.1, 63.13, 63.13, 63.14, 63.14, 63.14, 63.19, 63.2, 63.2, 63.2, 63.21, 63.21, 63.21, 63.21, 63.24, 63.27, 63.27, 63.28, 63.28, 63.29, 63.29, 63.29, 63.35, 63.36, 63.36, 63.36, 63.36, 63.37, 63.4, 63.44, 63.45, 63.45, 63.46, 63.49, 63.49, 63.53, 63.54, 63.56, 63.57, 63.57, 63.58, 63.58, 63.61, 63.63, 63.63, 63.64, 63.65, 63.66, 63.66, 63.67, 63.69, 63.71, 63.72, 63.77, 63.77, 63.77, 63.77, 63.78, 63.78, 63.79, 63.79, 63.79, 63.79, 63.83, 63.83, 63.83, 63.89, 63.89, 63.89, 63.95, 63.96, 63.96, 63.97, 63.98, 63.98, 64.02, 64.03, 64.04, 64.06, 64.07, 64.1, 64.11, 64.11, 64.16, 64.17, 64.17, 64.18, 64.2, 64.2, 64.2, 64.2, 64.21, 64.21, 64.21, 64.21, 64.21, 64.22, 64.22, 64.22, 64.23, 64.23, 64.24, 64.24, 64.25, 64.25, 64.28, 64.29, 64.29, 64.29, 64.29, 64.3, 64.33, 64.36, 64.37, 64.37, 64.37, 64.38, 64.39, 64.4, 64.41, 64.44, 64.44, 64.44, 64.44, 64.45, 64.45, 64.46, 64.47, 64.47, 64.47, 64.48, 64.49, 64.49, 64.52, 64.54, 64.54, 64.54, 64.54, 64.54, 64.54, 64.54, 64.54, 64.55, 64.55, 64.55, 64.58, 64.58, 64.58, 64.58, 64.59, 64.59, 64.59, 64.59, 64.62, 64.62, 64.63, 64.64, 64.64, 64.64, 64.66, 64.66, 64.68, 64.69, 64.7, 64.7, 64.77, 64.77, 64.77, 64.78, 64.79, 64.8, 64.8, 64.8, 64.81, 64.83, 64.84, 64.87, 64.9, 64.91, 64.91, 64.95, 64.96, 65.04, 65.06, 65.07, 65.07, 65.07, 65.07, 65.07, 65.08, 65.09, 65.11, 65.11, 65.12, 65.12, 65.13, 65.17, 65.18, 65.19, 65.19, 65.2, 65.21, 65.23, 65.23, 65.23, 65.24, 65.26, 65.28, 65.3, 65.33, 65.33, 65.33, 65.33, 65.33, 65.33, 65.34, 65.34, 65.37, 65.38, 65.4, 65.4, 65.4, 65.4, 65.43, 65.49, 65.5, 65.5, 65.51, 65.51, 65.51, 65.53, 65.53, 65.54, 65.54, 65.54, 65.56, 65.56, 65.59, 65.6, 65.61, 65.62, 65.62, 65.63, 65.63, 65.64, 65.64, 65.68, 65.69, 65.69, 65.69, 65.69, 65.7, 65.7, 65.74, 65.74, 65.77, 65.77, 65.78, 65.79, 65.79, 65.8, 65.82, 65.83, 65.83, 65.84, 65.85, 65.86, 65.86, 65.87, 65.88, 65.89, 65.94, 65.94, 65.94, 65.94, 65.95, 65.96, 65.96, 65.96, 65.96, 65.97, 65.98, 66.02, 66.02, 66.02, 66.05, 66.05, 66.07, 66.07, 66.07, 66.07, 66.07, 66.07, 66.09, 66.1, 66.1, 66.11, 66.12, 66.12, 66.13, 66.14, 66.16, 66.17, 66.18, 66.18, 66.18, 66.19, 66.19, 66.19, 66.21, 66.21, 66.21, 66.23, 66.23, 66.25, 66.26, 66.26, 66.27, 66.27, 66.28, 66.28, 66.28, 66.28, 66.28, 66.28, 66.3, 66.31, 66.31, 66.33, 66.36, 66.36, 66.36, 66.37, 66.38, 66.39, 66.4, 66.4, 66.4, 66.42, 66.43, 66.45, 66.46, 66.49, 66.5, 66.5, 66.5, 66.51, 66.52, 66.52, 66.53, 66.53, 66.53, 66.53, 66.53, 66.53, 66.53, 66.53, 66.53, 66.53, 66.53, 66.53, 66.53, 66.54, 66.54, 66.56, 66.56, 66.59, 66.61, 66.63, 66.66, 66.67, 66.67, 66.67, 66.69, 66.69, 66.69, 66.7, 66.7, 66.71, 66.71, 66.71, 66.71, 66.71, 66.72, 66.72, 66.72, 66.72, 66.72, 66.72, 66.72, 66.72, 66.72, 66.72, 66.73, 66.73, 66.74, 66.74, 66.8, 66.8, 66.83, 66.86, 66.86, 66.87, 66.87, 66.87, 66.87, 66.88, 66.89, 66.89, 66.89, 66.89, 66.89, 66.89, 66.92, 66.92, 66.93, 66.93, 66.94, 66.94, 66.95, 67.01, 67.03, 67.04, 67.05, 67.05, 67.06, 67.06, 67.09, 67.1, 67.1, 67.11, 67.12, 67.14, 67.15, 67.16, 67.16, 67.17, 67.17, 67.18, 67.18, 67.18, 67.18, 67.18, 67.18, 67.18, 67.18, 67.18, 67.19, 67.2, 67.2, 67.2, 67.2, 67.27, 67.34, 67.39, 67.41, 67.42, 67.44, 67.47, 67.48, 67.51, 67.54, 67.54, 67.6, 67.6, 67.6, 67.6, 67.61, 67.63, 67.65, 67.68, 67.7, 67.72, 67.74, 67.78, 67.78, 67.78, 67.79, 67.79, 67.81, 67.82, 67.82, 67.85, 67.85, 67.86, 67.86, 67.86, 67.86, 67.9, 67.91, 67.93, 67.97, 68.0, 68.01, 68.01, 68.03, 68.03, 68.05, 68.05, 68.05, 68.05, 68.05, 68.05, 68.05, 68.05, 68.05, 68.06, 68.06, 68.08, 68.09, 68.09, 68.1, 68.1, 68.11, 68.11, 68.13, 68.13, 68.14, 68.14, 68.14, 68.16, 68.16, 68.16, 68.16, 68.17, 68.17, 68.17, 68.17, 68.18, 68.18, 68.18, 68.18, 68.2, 68.23, 68.26, 68.37, 68.37, 68.37, 68.38, 68.38, 68.39, 68.4, 68.4, 68.4, 68.41, 68.45, 68.47, 68.47, 68.49, 68.51, 68.54, 68.54, 68.57, 68.57, 68.62, 68.63, 68.64, 68.64, 68.66, 68.66, 68.66, 68.67, 68.69, 68.7, 68.7, 68.7, 68.71, 68.71, 68.71, 68.72, 68.72, 68.76, 68.76, 68.79, 68.79, 68.79, 68.79, 68.79, 68.81, 68.83, 68.83, 68.84, 68.84, 68.84, 68.85, 68.85, 68.86, 68.86, 68.87, 68.87, 68.9, 68.9, 68.91, 68.93, 68.94, 68.95, 68.95, 68.98, 68.99, 68.99, 69.02, 69.02, 69.03, 69.03, 69.04, 69.06, 69.1, 69.1, 69.12, 69.13, 69.13, 69.13, 69.13, 69.15, 69.16, 69.17, 69.19, 69.23, 69.24, 69.24, 69.25, 69.26, 69.26, 69.27, 69.27, 69.27, 69.29, 69.29, 69.29, 69.29, 69.29, 69.31, 69.32, 69.33, 69.33, 69.35, 69.38, 69.4, 69.43, 69.43, 69.45, 69.46, 69.46, 69.47, 69.48, 69.49, 69.49, 69.49, 69.53, 69.53, 69.54, 69.54, 69.62, 69.62, 69.63, 69.67, 69.68, 69.68, 69.68, 69.68, 69.68, 69.68, 69.68, 69.68, 69.69, 69.7, 69.71, 69.72, 69.73, 69.73, 69.74, 69.75, 69.75, 69.76, 69.76, 69.76, 69.78, 69.79, 69.79, 69.8, 69.8, 69.81, 69.81, 69.81, 69.83, 69.86, 69.89, 69.89, 69.89, 69.89, 69.89, 69.89, 69.89, 69.9, 69.9, 69.92, 69.94, 69.94, 70.01, 70.04, 70.05, 70.05, 70.06, 70.06, 70.06, 70.07, 70.07, 70.07, 70.13, 70.14, 70.16, 70.16, 70.18, 70.21, 70.21, 70.26, 70.33, 70.37, 70.37, 70.38, 70.43, 70.5, 70.53, 70.53, 70.54, 70.57, 70.58, 70.59, 70.59, 70.59, 70.6, 70.61, 70.61, 70.61, 70.61, 70.63, 70.63, 70.66, 70.69, 70.7, 70.71, 70.71, 70.72, 70.72, 70.72, 70.72, 70.72, 70.72, 70.72, 70.72, 70.72, 70.74, 70.74, 70.74, 70.76, 70.76, 70.77, 70.79, 70.79, 70.79, 70.8, 70.8, 70.8, 70.81, 70.81, 70.81, 70.81, 70.82, 70.82, 70.84, 70.84, 70.84, 70.85, 70.89, 70.91, 70.91, 70.92, 70.96, 70.98, 71.01, 71.02, 71.04, 71.07, 71.1, 71.12, 71.12, 71.12, 71.12, 71.12, 71.13, 71.13, 71.14, 71.14, 71.15, 71.19, 71.24, 71.27, 71.29, 71.29, 71.3, 71.31, 71.32, 71.32, 71.32, 71.4, 71.43, 71.44, 71.45, 71.46, 71.47, 71.48, 71.48, 71.48, 71.48, 71.49, 71.53, 71.54, 71.54, 71.57, 71.62, 71.63, 71.63, 71.63, 71.64, 71.64, 71.64, 71.66, 71.66, 71.67, 71.67, 71.71, 71.71, 71.75, 71.76, 71.78, 71.79, 71.82, 71.87, 71.87, 71.9, 71.9, 71.91, 71.94, 71.95, 71.95, 71.96, 71.96, 71.96, 71.96, 71.97, 71.97, 71.97, 71.98, 72.0, 72.0, 72.01, 72.02, 72.05, 72.06, 72.06, 72.11, 72.13, 72.14, 72.14, 72.14, 72.14, 72.14, 72.15, 72.16, 72.17, 72.21, 72.21, 72.23, 72.25, 72.3, 72.31, 72.32, 72.32, 72.36, 72.49, 72.49, 72.49, 72.52, 72.55, 72.56, 72.56, 72.58, 72.63, 72.63, 72.63, 72.64, 72.69, 72.7, 72.71, 72.72, 72.73, 72.73, 72.75, 72.75, 72.79, 72.81, 72.84, 72.86, 72.87, 72.87, 72.87, 72.87, 72.88, 72.88, 72.92, 72.93, 72.95, 72.96, 72.96, 72.96, 72.96, 72.96, 72.96, 72.96, 72.97, 73.06, 73.06, 73.07, 73.07, 73.07, 73.1, 73.1, 73.11, 73.11, 73.11, 73.11, 73.11, 73.11, 73.12, 73.14, 73.15, 73.17, 73.17, 73.17, 73.18, 73.22, 73.24, 73.28, 73.29, 73.29, 73.34, 73.34, 73.35, 73.36, 73.36, 73.36, 73.36, 73.39, 73.43, 73.48, 73.55, 73.56, 73.57, 73.57, 73.58, 73.58, 73.59, 73.59, 73.59, 73.6, 73.62, 73.62, 73.64, 73.65, 73.65, 73.66, 73.66, 73.67, 73.71, 73.73, 73.73, 73.74, 73.74, 73.76, 73.78, 73.78, 73.84, 73.87, 73.88, 73.94, 73.94, 73.94, 73.95, 73.95, 73.95, 73.95, 73.96, 73.96, 73.96, 73.98, 73.98, 74.0, 74.0, 74.03, 74.06, 74.06, 74.07, 74.07, 74.07, 74.09, 74.11, 74.11, 74.12, 74.13, 74.13, 74.13, 74.16, 74.17, 74.21, 74.23, 74.24, 74.24, 74.24, 74.27, 74.31, 74.33, 74.34, 74.34, 74.35, 74.37, 74.39, 74.39, 74.4, 74.42, 74.45, 74.45, 74.45, 74.48, 74.48, 74.48, 74.48, 74.5, 74.55, 74.57, 74.57, 74.58, 74.59, 74.59, 74.59, 74.65, 74.67, 74.73, 74.75, 74.75, 74.76, 74.76, 74.76, 74.78, 74.79, 74.81, 74.86, 74.86, 74.88, 74.88, 74.88, 74.9, 74.93, 74.93, 74.93, 74.93, 74.96, 74.96, 74.96, 74.97, 74.97, 74.98, 74.98, 74.98, 74.98, 74.98, 75.03, 75.04, 75.07, 75.07, 75.08, 75.08, 75.09, 75.09, 75.09, 75.09, 75.09, 75.12, 75.15, 75.15, 75.15, 75.15, 75.15, 75.16, 75.16, 75.21, 75.21, 75.21, 75.21, 75.26, 75.27, 75.27, 75.29, 75.36, 75.39, 75.4, 75.42, 75.47, 75.47, 75.48, 75.51, 75.51, 75.52, 75.52, 75.53, 75.53, 75.53, 75.56, 75.58, 75.62, 75.62, 75.62, 75.67, 75.69, 75.73, 75.74, 75.78, 75.8, 75.8, 75.8, 75.87, 75.9, 75.9, 75.93, 75.94, 75.95, 75.95, 75.95, 75.96, 75.96, 75.96, 75.97, 75.99, 76.02, 76.03, 76.08, 76.08, 76.17, 76.25, 76.25, 76.25, 76.25, 76.26, 76.26, 76.26, 76.28, 76.3, 76.33, 76.33, 76.34, 76.34, 76.4, 76.42, 76.45, 76.51, 76.51, 76.51, 76.52, 76.52, 76.52, 76.55, 76.56, 76.56, 76.56, 76.56, 76.56, 76.56, 76.56, 76.56, 76.56, 76.57, 76.57, 76.57, 76.57, 76.58, 76.59, 76.61, 76.61, 76.61, 76.61, 76.61, 76.61, 76.62, 76.62, 76.63, 76.66, 76.7, 76.7, 76.72, 76.77, 76.8, 76.82, 76.82, 76.83, 76.83, 76.88, 76.89, 76.9, 76.9, 76.91, 76.92, 76.92, 76.93, 76.95, 76.95, 76.96, 76.97, 77.03, 77.04, 77.05, 77.06, 77.07, 77.08, 77.08, 77.11, 77.11, 77.11, 77.12, 77.13, 77.13, 77.14, 77.17, 77.18, 77.21, 77.22, 77.26, 77.29, 77.29, 77.3, 77.35, 77.35, 77.41, 77.41, 77.41, 77.42, 77.43, 77.43, 77.46, 77.46, 77.48, 77.53, 77.57, 77.58, 77.58, 77.58, 77.62, 77.62, 77.63, 77.66, 77.67, 77.73, 77.73, 77.74, 77.75, 77.76, 77.76, 77.78, 77.79, 77.81, 77.88, 77.92, 77.92, 77.95, 77.95, 77.98, 77.99, 77.99, 77.99, 77.99, 77.99, 78.02, 78.02, 78.02, 78.09, 78.1, 78.11, 78.11, 78.12, 78.12, 78.12, 78.12, 78.12, 78.12, 78.15, 78.15, 78.15, 78.16, 78.19, 78.19, 78.2, 78.27, 78.27, 78.27, 78.28, 78.28, 78.29, 78.32, 78.33, 78.34, 78.34, 78.34, 78.35, 78.35, 78.35, 78.36, 78.37, 78.37, 78.41, 78.41, 78.44, 78.44, 78.44, 78.45, 78.45, 78.45, 78.45, 78.49, 78.52, 78.53, 78.55, 78.55, 78.55, 78.55, 78.56, 78.56, 78.57, 78.57, 78.58, 78.6, 78.61, 78.64, 78.64, 78.65, 78.65, 78.65, 78.69, 78.69, 78.71, 78.71, 78.73, 78.73, 78.73, 78.77, 78.83, 78.83, 78.85, 78.86, 78.9, 78.9, 78.94, 78.94, 78.94, 78.96, 78.97, 79.02, 79.03, 79.04, 79.1, 79.12, 79.12, 79.14, 79.15, 79.15, 79.16, 79.16, 79.16, 79.16, 79.17, 79.17, 79.18, 79.18, 79.2, 79.2, 79.25, 79.26, 79.26, 79.26, 79.29, 79.36, 79.43, 79.47, 79.49, 79.49, 79.53, 79.53, 79.54, 79.55, 79.55, 79.59, 79.59, 79.59, 79.59, 79.59, 79.61, 79.62, 79.62, 79.62, 79.67, 79.67, 79.69, 79.69, 79.69, 79.69, 79.73, 79.73, 79.74, 79.75, 79.75, 79.75, 79.75, 79.75, 79.75, 79.77, 79.77, 79.78, 79.8, 79.81, 79.83, 79.88, 79.9, 79.91, 79.91, 79.92, 79.95, 79.96, 79.97, 79.98, 79.98, 79.98, 80.01, 80.01, 80.02, 80.08, 80.1, 80.14, 80.14, 80.15, 80.15, 80.15, 80.15, 80.23, 80.25, 80.26, 80.26, 80.29, 80.3, 80.3, 80.3, 80.31, 80.34, 80.35, 80.39, 80.4, 80.42, 80.43, 80.43, 80.43, 80.45, 80.45, 80.45, 80.5, 80.5, 80.63, 80.63, 80.64, 80.64, 80.65, 80.65, 80.66, 80.66, 80.72, 80.72, 80.76, 80.78, 80.78, 80.78, 80.78, 80.78, 80.78, 80.82, 80.87, 80.9, 80.91, 80.92, 80.92, 80.92, 80.94, 80.97, 80.98, 80.98, 80.98, 80.98, 80.98, 80.98, 80.98, 80.99, 81.0, 81.01, 81.02, 81.02, 81.02, 81.02, 81.03, 81.05, 81.05, 81.05, 81.08, 81.1, 81.1, 81.11, 81.11, 81.12, 81.13, 81.14, 81.19, 81.19, 81.19, 81.23, 81.23, 81.26, 81.28, 81.29, 81.29, 81.32, 81.37, 81.37, 81.43, 81.43, 81.43, 81.45, 81.45, 81.46, 81.48, 81.49, 81.49, 81.54, 81.55, 81.55, 81.55, 81.57, 81.63, 81.64, 81.64, 81.74, 81.78, 81.8, 81.82, 81.82, 81.85, 81.85, 81.86, 81.86, 81.86, 81.89, 81.9, 81.91, 81.91, 81.93, 81.95, 82.0, 82.0, 82.02, 82.04, 82.04, 82.04, 82.05, 82.07, 82.07, 82.07, 82.07, 82.07, 82.07, 82.13, 82.24, 82.25, 82.25, 82.26, 82.26, 82.27, 82.27, 82.27, 82.27, 82.27, 82.27, 82.29, 82.31, 82.31, 82.31, 82.32, 82.32, 82.35, 82.35, 82.35, 82.36, 82.36, 82.36, 82.36, 82.36, 82.37, 82.4, 82.42, 82.43, 82.43, 82.43, 82.44, 82.44, 82.45, 82.47, 82.54, 82.56, 82.62, 82.62, 82.64, 82.64, 82.66, 82.69, 82.69, 82.72, 82.72, 82.74, 82.75, 82.78, 82.82, 82.82, 82.82, 82.82, 82.82, 82.82, 82.82, 82.84, 82.87, 82.87, 82.88, 82.89, 82.91, 82.92, 82.93, 82.98, 82.99, 82.99, 83.0, 83.03, 83.07, 83.08, 83.11, 83.15, 83.15, 83.15, 83.15, 83.17, 83.19, 83.21, 83.25, 83.26, 83.26, 83.3, 83.31, 83.31, 83.31, 83.31, 83.31, 83.31, 83.34, 83.35, 83.35, 83.35, 83.35, 83.36, 83.37, 83.37, 83.37, 83.37, 83.38, 83.38, 83.39, 83.42, 83.46, 83.51, 83.56, 83.61, 83.62, 83.65, 83.65, 83.67, 83.69, 83.69, 83.7, 83.7, 83.71, 83.77, 83.8, 83.8, 83.81, 83.82, 83.82, 83.83, 83.86, 83.88, 83.89, 83.9, 83.91, 83.91, 83.91, 83.92, 83.94, 83.97, 84.0, 84.03, 84.06, 84.06, 84.08, 84.08, 84.08, 84.11, 84.13, 84.13, 84.18, 84.2, 84.2, 84.21, 84.25, 84.25, 84.26, 84.26, 84.28, 84.44, 84.45, 84.45, 84.45, 84.45, 84.46, 84.47, 84.51, 84.51, 84.51, 84.55, 84.57, 84.58, 84.58, 84.58, 84.62, 84.62, 84.62, 84.62, 84.63, 84.64, 84.64, 84.67, 84.68, 84.69, 84.7, 84.72, 84.72, 84.77, 84.8, 84.8, 84.82, 84.84, 84.87, 84.87, 84.91, 84.96, 84.97, 84.99, 85.03, 85.07, 85.11, 85.13, 85.14, 85.19, 85.19, 85.19, 85.2, 85.21, 85.21, 85.25, 85.26, 85.27, 85.27, 85.27, 85.36, 85.38, 85.38, 85.38, 85.38, 85.38, 85.39, 85.4, 85.42, 85.45, 85.53, 85.53, 85.53, 85.53, 85.53, 85.53, 85.55, 85.55, 85.59, 85.6, 85.6, 85.63, 85.64, 85.65, 85.65, 85.74, 85.76, 85.78, 85.8, 85.8, 85.81, 85.81, 85.82, 85.82, 85.85, 85.85, 85.87, 85.88, 85.91, 85.92, 85.95, 85.96, 85.97, 85.97, 86.02, 86.03, 86.04, 86.09, 86.1, 86.17, 86.17, 86.18, 86.19, 86.19, 86.2, 86.2, 86.21, 86.22, 86.22, 86.25, 86.26, 86.27, 86.27, 86.29, 86.29, 86.31, 86.31, 86.31, 86.31, 86.31, 86.32, 86.39, 86.39, 86.39, 86.39, 86.39, 86.39, 86.39, 86.39, 86.39, 86.39, 86.39, 86.41, 86.41, 86.42, 86.43, 86.43, 86.43, 86.44, 86.44, 86.44, 86.49, 86.49, 86.53, 86.53, 86.54, 86.55, 86.55, 86.56, 86.56, 86.62, 86.62, 86.62, 86.64, 86.64, 86.66, 86.66, 86.66, 86.66, 86.67, 86.68, 86.69, 86.69, 86.74, 86.74, 86.79, 86.82, 86.83, 86.84, 86.85, 86.86, 86.95, 86.96, 86.96, 86.96, 86.96, 86.97, 86.97, 86.97, 86.97, 86.97, 86.97, 86.97, 86.97, 86.97, 86.97, 86.97, 86.97, 86.97, 86.97, 86.97, 86.97, 86.97, 86.97, 86.97, 86.97, 86.97, 87.0, 87.02, 87.05, 87.09, 87.09, 87.15, 87.15, 87.15, 87.16, 87.17, 87.17, 87.17, 87.18, 87.19, 87.2, 87.2, 87.28, 87.32, 87.34, 87.35, 87.39, 87.41, 87.41, 87.41, 87.41, 87.41, 87.41, 87.44, 87.54, 87.55, 87.57, 87.57, 87.67, 87.69, 87.7, 87.7, 87.7, 87.77, 87.79, 87.79, 87.83, 87.84, 87.84, 87.84, 87.85, 87.86, 87.86, 87.97, 88.04, 88.04, 88.06, 88.08, 88.08, 88.1, 88.1, 88.11, 88.12, 88.16, 88.18, 88.19, 88.2, 88.2, 88.21, 88.21, 88.23, 88.24, 88.24, 88.24, 88.26, 88.26, 88.29, 88.3, 88.3, 88.32, 88.38, 88.38, 88.42, 88.42, 88.45, 88.49, 88.5, 88.52, 88.57, 88.58, 88.59, 88.59, 88.6, 88.6, 88.62, 88.62, 88.63, 88.63, 88.64, 88.65, 88.66, 88.67, 88.67, 88.68, 88.68, 88.7, 88.74, 88.74, 88.74, 88.75, 88.76, 88.76, 88.79, 88.83, 88.95, 88.95, 89.02, 89.02, 89.02, 89.03, 89.03, 89.04, 89.05, 89.05, 89.08, 89.08, 89.1, 89.13, 89.17, 89.18, 89.2, 89.2, 89.21, 89.23, 89.23, 89.23, 89.27, 89.28, 89.28, 89.28, 89.28, 89.29, 89.29, 89.33, 89.38, 89.39, 89.4, 89.4, 89.4, 89.43, 89.45, 89.46, 89.46, 89.56, 89.61, 89.61, 89.61, 89.61, 89.61, 89.62, 89.62, 89.63, 89.65, 89.68, 89.7, 89.7, 89.71, 89.76, 89.79, 89.83, 89.85, 89.85, 89.86, 89.86, 89.86, 89.86, 89.86, 89.86, 89.86, 89.86, 89.86, 89.86, 89.87, 89.88, 89.9, 89.94, 89.96, 90.03, 90.05, 90.06, 90.1, 90.11, 90.11, 90.11, 90.11, 90.11, 90.11, 90.11, 90.11, 90.12, 90.13, 90.13, 90.13, 90.14, 90.14, 90.14, 90.14, 90.14, 90.15, 90.18, 90.18, 90.21, 90.23, 90.23, 90.23, 90.24, 90.27, 90.29, 90.29, 90.32, 90.32, 90.36, 90.36, 90.38, 90.39, 90.41, 90.45, 90.49, 90.49, 90.52, 90.61, 90.67, 90.67, 90.67, 90.67, 90.67, 90.69, 90.74, 90.75, 90.76, 90.78, 90.78, 90.79, 90.79, 90.81, 90.83, 90.87, 90.88, 90.88, 90.9, 90.91, 90.96, 90.96, 90.97, 90.98, 90.98, 90.99, 90.99, 91.0, 91.02, 91.04, 91.04, 91.06, 91.08, 91.09, 91.14, 91.14, 91.14, 91.14, 91.14, 91.14, 91.15, 91.15, 91.17, 91.23, 91.23, 91.24, 91.25, 91.26, 91.26, 91.27, 91.27, 91.29, 91.37, 91.41, 91.46, 91.46, 91.46, 91.46, 91.46, 91.47, 91.51, 91.53, 91.54, 91.55, 91.61, 91.62, 91.62, 91.62, 91.63, 91.64, 91.64, 91.67, 91.72, 91.74, 91.75, 91.76, 91.8, 91.81, 91.81, 91.81, 91.81, 91.82, 91.84, 91.84, 91.98, 91.98, 91.98, 91.99, 91.99, 92.0, 92.01, 92.01, 92.06, 92.06, 92.1, 92.1, 92.15, 92.15, 92.16, 92.16, 92.19, 92.19, 92.24, 92.26, 92.27, 92.3, 92.31, 92.32, 92.32, 92.32, 92.32, 92.32, 92.32, 92.33, 92.35, 92.35, 92.35, 92.36, 92.42, 92.43, 92.43, 92.46, 92.48, 92.57, 92.57, 92.57, 92.59, 92.59, 92.6, 92.61, 92.61, 92.62, 92.62, 92.62, 92.63, 92.64, 92.66, 92.67, 92.68, 92.68, 92.76, 92.8, 92.81, 92.83, 92.85, 92.85, 92.85, 92.85, 92.9, 92.9, 92.93, 92.93, 92.93, 92.93, 92.93, 92.93, 92.93, 92.93, 92.93, 92.93, 92.95, 93.0, 93.02, 93.03, 93.05, 93.1, 93.12, 93.13, 93.19, 93.23, 93.25, 93.25, 93.27, 93.28, 93.28, 93.32, 93.34, 93.36, 93.36, 93.36, 93.39, 93.39, 93.39, 93.43, 93.44, 93.46, 93.47, 93.47, 93.48, 93.48, 93.5, 93.5, 93.51, 93.51, 93.52, 93.52, 93.53, 93.55, 93.58, 93.62, 93.63, 93.65, 93.65, 93.65, 93.65, 93.67, 93.67, 93.71, 93.72, 93.76, 93.78, 93.78, 93.78, 93.78, 93.87, 93.89, 93.89, 93.89, 93.98, 93.98, 94.01, 94.01, 94.03, 94.06, 94.06, 94.06, 94.06, 94.06, 94.15, 94.18, 94.21, 94.25, 94.29, 94.29, 94.3, 94.34, 94.34, 94.36, 94.37, 94.38, 94.4, 94.4, 94.41, 94.41, 94.44, 94.46, 94.52, 94.53, 94.56, 94.62, 94.64, 94.66, 94.66, 94.66, 94.66, 94.72, 94.79, 94.82, 94.83, 94.85, 94.85, 94.91, 94.91, 94.94, 94.94, 94.96, 94.96, 94.96, 94.97, 94.97, 94.97, 94.97, 94.98, 95.01, 95.02, 95.04, 95.04, 95.06, 95.08, 95.08, 95.08, 95.08, 95.08, 95.11, 95.12, 95.12, 95.12, 95.16, 95.17, 95.17, 95.19, 95.2, 95.2, 95.21, 95.26, 95.27, 95.28, 95.29, 95.29, 95.29, 95.37, 95.4, 95.42, 95.42, 95.42, 95.45, 95.46, 95.47, 95.5, 95.55, 95.55, 95.55, 95.55, 95.55, 95.57, 95.59, 95.6, 95.61, 95.61, 95.61, 95.63, 95.63, 95.67, 95.67, 95.68, 95.72, 95.74, 95.74, 95.77, 95.82, 95.83, 95.83, 95.84, 95.85, 95.87, 95.87, 95.91, 95.93, 95.96, 95.98, 96.09, 96.09, 96.11, 96.12, 96.12, 96.13, 96.17, 96.17, 96.19, 96.19, 96.2, 96.23, 96.26, 96.35, 96.35, 96.36, 96.36, 96.37, 96.38, 96.38, 96.39, 96.4, 96.4, 96.4, 96.4, 96.43, 96.44, 96.47, 96.49, 96.54, 96.54, 96.54, 96.58, 96.58, 96.58, 96.58, 96.58, 96.58, 96.58, 96.58, 96.59, 96.59, 96.6, 96.62, 96.74, 96.74, 96.74, 96.79, 96.83, 96.84, 96.84, 96.85, 96.87, 96.87, 96.88, 96.88, 96.89, 96.89, 96.9, 96.9, 96.93, 96.97, 96.99, 96.99, 96.99, 97.04, 97.05, 97.13, 97.14, 97.16, 97.2, 97.2, 97.21, 97.21, 97.21, 97.27, 97.27, 97.28, 97.3, 97.3, 97.3, 97.31, 97.4, 97.4, 97.41, 97.51, 97.51, 97.51, 97.51, 97.56, 97.56, 97.56, 97.61, 97.61, 97.64, 97.7, 97.7, 97.7, 97.7, 97.75, 97.77, 97.78, 97.83, 97.83, 97.86, 97.86, 97.86, 97.92, 97.92, 97.95, 97.97, 97.99, 98.02, 98.03, 98.03, 98.05, 98.05, 98.05, 98.05, 98.05, 98.07, 98.1, 98.1, 98.11, 98.16, 98.17, 98.22, 98.23, 98.23, 98.23, 98.27, 98.28, 98.28, 98.31, 98.31, 98.31, 98.36, 98.4, 98.4, 98.48, 98.48, 98.5, 98.53, 98.55, 98.55, 98.56, 98.57, 98.6, 98.64, 98.65, 98.67, 98.69, 98.7, 98.71, 98.72, 98.78, 98.8, 98.82, 98.82, 98.93, 98.94, 98.95, 98.96, 98.97, 98.98, 98.98, 98.99, 99.0, 99.01, 99.08, 99.08, 99.08, 99.09, 99.09, 99.14, 99.18, 99.18, 99.2, 99.2, 99.2, 99.2, 99.3, 99.32, 99.33, 99.33, 99.35, 99.36, 99.38, 99.38, 99.41, 99.44, 99.44, 99.54, 99.54, 99.54, 99.57, 99.58, 99.66, 99.66, 99.67, 99.67, 99.68, 99.74, 99.75, 99.77, 99.81, 99.82, 99.85, 99.91, 99.91, 99.91, 99.91, 99.91, 99.96, 99.97, 100.03, 100.07, 100.08, 100.09, 100.09, 100.15, 100.15, 100.16, 100.19, 100.25, 100.26, 100.28, 100.32, 100.33, 100.36, 100.36, 100.38, 100.38, 100.41, 100.46, 100.47, 100.5, 100.54, 100.63, 100.65, 100.68, 100.7, 100.71, 100.77, 100.78, 100.91, 100.95, 100.96, 100.99, 100.99, 100.99, 101.01, 101.02, 101.02, 101.06, 101.06, 101.06, 101.07, 101.11, 101.13, 101.18, 101.18, 101.18, 101.22, 101.25, 101.26, 101.34, 101.44, 101.46, 101.46, 101.47, 101.48, 101.49, 101.5, 101.51, 101.55, 101.58, 101.64, 101.64, 101.65, 101.66, 101.72, 101.72, 101.75, 101.76, 101.77, 101.77, 101.78, 101.78, 101.83, 101.84, 101.85, 101.85, 101.91, 101.96, 101.97, 101.97, 102.02, 102.02, 102.06, 102.07, 102.09, 102.15, 102.16, 102.16, 102.2, 102.21, 102.21, 102.25, 102.26, 102.26, 102.26, 102.26, 102.35, 102.36, 102.37, 102.37, 102.39, 102.42, 102.44, 102.44, 102.44, 102.53, 102.63, 102.63, 102.63, 102.63, 102.63, 102.63, 102.65, 102.66, 102.67, 102.71, 102.71, 102.71, 102.71, 102.72, 102.74, 102.8, 102.8, 102.81, 102.81, 102.81, 102.81, 102.86, 102.94, 102.94, 102.98, 102.98, 103.03, 103.03, 103.04, 103.05, 103.06, 103.08, 103.13, 103.13, 103.16, 103.16, 103.16, 103.25, 103.28, 103.31, 103.33, 103.33, 103.35, 103.37, 103.38, 103.39, 103.42, 103.42, 103.42, 103.46, 103.48, 103.5, 103.5, 103.51, 103.51, 103.53, 103.54, 103.57, 103.58, 103.6, 103.6, 103.63, 103.65, 103.65, 103.7, 103.71, 103.76, 103.83, 103.88, 103.9, 103.9, 103.97, 103.97, 103.98, 104.0, 104.02, 104.03, 104.1, 104.14, 104.14, 104.15, 104.18, 104.2, 104.27, 104.27, 104.29, 104.29, 104.32, 104.33, 104.35, 104.37, 104.41, 104.43, 104.46, 104.46, 104.53, 104.59, 104.6, 104.6, 104.62, 104.66, 104.66, 104.72, 104.72, 104.72, 104.75, 104.78, 104.78, 104.83, 104.84, 104.84, 104.85, 104.9, 104.9, 104.96, 104.97, 105.0, 105.04, 105.14, 105.14, 105.15, 105.17, 105.21, 105.22, 105.22, 105.22, 105.22, 105.22, 105.25, 105.27, 105.34, 105.41, 105.44, 105.46, 105.49, 105.58, 105.59, 105.61, 105.63, 105.65, 105.66, 105.71, 105.73, 105.77, 105.77, 105.8, 105.93, 105.94, 106.04, 106.04, 106.05, 106.1, 106.19, 106.2, 106.21, 106.21, 106.23, 106.26, 106.28, 106.28, 106.31, 106.31, 106.39, 106.39, 106.47, 106.5, 106.5, 106.5, 106.53, 106.59, 106.61, 106.64, 106.67, 106.68, 106.71, 106.71, 106.74, 106.74, 106.75, 106.75, 106.78, 106.79, 106.87, 106.9, 106.9, 106.9, 106.9, 106.91, 106.91, 106.94, 106.94, 106.96, 106.96, 106.97, 107.02, 107.04, 107.08, 107.08, 107.09, 107.1, 107.11, 107.14, 107.17, 107.18, 107.19, 107.2, 107.21, 107.22, 107.22, 107.22, 107.26, 107.26, 107.26, 107.28, 107.3, 107.35, 107.39, 107.45, 107.47, 107.52, 107.61, 107.62, 107.63, 107.64, 107.66, 107.66, 107.66, 107.68, 107.71, 107.73, 107.75, 107.87, 107.89, 107.89, 107.91, 107.91, 107.92, 107.94, 107.97, 108.05, 108.06, 108.1, 108.11, 108.22, 108.28, 108.3, 108.42, 108.42, 108.44, 108.44, 108.44, 108.45, 108.49, 108.49, 108.5, 108.51, 108.51, 108.55, 108.62, 108.64, 108.75, 108.75, 108.77, 108.79, 108.81, 108.81, 108.83, 108.85, 108.89, 108.9, 108.9, 108.9, 108.91, 108.93, 108.93, 108.96, 108.96, 108.97, 108.98, 108.99, 109.0, 109.03, 109.04, 109.06, 109.07, 109.09, 109.09, 109.09, 109.11, 109.11, 109.11, 109.14, 109.14, 109.18, 109.18, 109.2, 109.25, 109.25, 109.25, 109.26, 109.26, 109.3, 109.3, 109.33, 109.39, 109.39, 109.41, 109.43, 109.43, 109.43, 109.44, 109.45, 109.47, 109.59, 109.69, 109.73, 109.74, 109.74, 109.75, 109.83, 109.83, 109.85, 109.86, 109.88, 109.88, 109.89, 109.93, 109.97, 109.98, 110.02, 110.03, 110.03, 110.06, 110.08, 110.08, 110.11, 110.11, 110.12, 110.13, 110.15, 110.2, 110.21, 110.26, 110.28, 110.33, 110.33, 110.34, 110.38, 110.39, 110.39, 110.4, 110.4, 110.43, 110.5, 110.51, 110.52, 110.52, 110.52, 110.52, 110.52, 110.52, 110.58, 110.65, 110.7, 110.74, 110.74, 110.74, 110.74, 110.74, 110.74, 110.74, 110.74, 110.79, 110.81, 110.84, 110.91, 110.92, 110.94, 110.95, 110.97, 110.97, 110.99, 111.0, 111.0, 111.01, 111.02, 111.02, 111.02, 111.09, 111.16, 111.2, 111.24, 111.27, 111.27, 111.33, 111.39, 111.39, 111.41, 111.41, 111.41, 111.41, 111.41, 111.43, 111.43, 111.43, 111.45, 111.46, 111.46, 111.46, 111.46, 111.53, 111.54, 111.55, 111.59, 111.61, 111.62, 111.65, 111.65, 111.7, 111.72, 111.78, 111.79, 111.82, 111.84, 111.91, 111.93, 111.96, 112.01, 112.01, 112.03, 112.03, 112.05, 112.08, 112.09, 112.09, 112.09, 112.12, 112.13, 112.2, 112.2, 112.21, 112.21, 112.27, 112.29, 112.29, 112.3, 112.3, 112.31, 112.32, 112.32, 112.33, 112.33, 112.36, 112.4, 112.41, 112.47, 112.47, 112.47, 112.5, 112.5, 112.51, 112.52, 112.53, 112.53, 112.72, 112.72, 112.76, 112.79, 112.81, 112.81, 112.81, 112.81, 112.84, 112.86, 112.89, 112.91, 112.93, 112.93, 112.98, 112.99, 113.0, 113.02, 113.03, 113.03, 113.04, 113.04, 113.06, 113.06, 113.06, 113.08, 113.08, 113.11, 113.11, 113.12, 113.14, 113.14, 113.16, 113.22, 113.28, 113.28, 113.29, 113.29, 113.29, 113.37, 113.37, 113.4, 113.4, 113.41, 113.44, 113.46, 113.46, 113.48, 113.52, 113.52, 113.56, 113.58, 113.6, 113.63, 113.65, 113.65, 113.74, 113.74, 113.74, 113.8, 113.83, 113.83, 113.83, 113.84, 113.88, 113.88, 113.88, 113.89, 113.95, 113.96, 113.96, 114.04, 114.07, 114.08, 114.11, 114.11, 114.14, 114.14, 114.15, 114.24, 114.25, 114.27, 114.3, 114.46, 114.49, 114.51, 114.53, 114.57, 114.58, 114.63, 114.66, 114.66, 114.71, 114.72, 114.73, 114.74, 114.79, 114.86, 114.86, 114.91, 114.99, 115.0, 115.03, 115.05, 115.06, 115.16, 115.17, 115.2, 115.21, 115.21, 115.34, 115.34, 115.36, 115.36, 115.38, 115.44, 115.45, 115.45, 115.47, 115.48, 115.58, 115.58, 115.63, 115.63, 115.65, 115.65, 115.65, 115.67, 115.68, 115.69, 115.69, 115.73, 115.74, 115.75, 115.75, 115.75, 115.76, 115.76, 115.77, 115.77, 115.8, 115.82, 115.87, 115.9, 115.91, 115.95, 115.96, 115.96, 115.96, 115.99, 116.09, 116.1, 116.1, 116.11, 116.15, 116.15, 116.17, 116.19, 116.25, 116.25, 116.25, 116.34, 116.37, 116.41, 116.42, 116.43, 116.43, 116.44, 116.48, 116.52, 116.52, 116.52, 116.64, 116.64, 116.7, 116.7, 116.71, 116.72, 116.72, 116.73, 116.73, 116.76, 116.77, 116.77, 116.78, 116.78, 116.78, 116.78, 116.78, 116.78, 116.78, 116.79, 116.8, 116.85, 116.87, 116.87, 116.9, 116.9, 116.9, 116.9, 116.9, 116.9, 116.93, 116.93, 116.94, 116.94, 116.95, 116.96, 117.02, 117.04, 117.04, 117.04, 117.06, 117.06, 117.07, 117.09, 117.1, 117.12, 117.12, 117.12, 117.12, 117.19, 117.2, 117.21, 117.21, 117.21, 117.21, 117.22, 117.25, 117.25, 117.28, 117.32, 117.32, 117.49, 117.5, 117.51, 117.52, 117.53, 117.61, 117.68, 117.68, 117.74, 117.74, 117.74, 117.74, 117.81, 117.94, 117.94, 117.95, 117.98, 117.99, 117.99, 118.02, 118.07, 118.07, 118.1, 118.15, 118.18, 118.18, 118.2, 118.21, 118.21, 118.22, 118.27, 118.29, 118.31, 118.33, 118.34, 118.37, 118.4, 118.41, 118.42, 118.46, 118.47, 118.52, 118.53, 118.53, 118.53, 118.54, 118.55, 118.58, 118.6, 118.6, 118.6, 118.67, 118.68, 118.68, 118.71, 118.72, 118.76, 118.77, 118.78, 118.79, 118.92, 118.93, 119.01, 119.01, 119.01, 119.08, 119.1, 119.1, 119.11, 119.15, 119.16, 119.19, 119.21, 119.24, 119.28, 119.28, 119.32, 119.32, 119.33, 119.34, 119.34, 119.35, 119.35, 119.39, 119.41, 119.43, 119.45, 119.45, 119.45, 119.46, 119.51, 119.54, 119.54, 119.58, 119.59, 119.61, 119.63, 119.64, 119.66, 119.84, 119.84, 119.86, 119.97, 120.1, 120.11, 120.15, 120.2, 120.21, 120.22, 120.26, 120.3, 120.35, 120.35, 120.37, 120.42, 120.43, 120.43, 120.43, 120.43, 120.44, 120.44, 120.44, 120.44, 120.44, 120.44, 120.44, 120.46, 120.46, 120.56, 120.56, 120.62, 120.64, 120.72, 120.8, 120.8, 120.84, 120.85, 120.91, 120.96, 120.96, 121.0, 121.0, 121.02, 121.02, 121.08, 121.1, 121.12, 121.15, 121.15, 121.15, 121.21, 121.23, 121.26, 121.26, 121.31, 121.31, 121.31, 121.36, 121.36, 121.37, 121.46, 121.47, 121.49, 121.5, 121.59, 121.64, 121.67, 121.75, 121.79, 121.86, 121.9, 121.93, 121.95, 122.08, 122.11, 122.13, 122.24, 122.28, 122.3, 122.3, 122.34, 122.38, 122.41, 122.44, 122.46, 122.47, 122.53, 122.53, 122.55, 122.62, 122.66, 122.66, 122.66, 122.69, 122.73, 122.76, 122.84, 122.87, 122.87, 122.91, 122.98, 123.04, 123.04, 123.04, 123.06, 123.2, 123.21, 123.21, 123.22, 123.32, 123.35, 123.37, 123.39, 123.48, 123.5, 123.5, 123.51, 123.55, 123.57, 123.57, 123.66, 123.7, 123.8, 123.81, 123.84, 123.93, 123.97, 124.02, 124.02, 124.02, 124.04, 124.04, 124.05, 124.05, 124.08, 124.08, 124.18, 124.22, 124.46, 124.46, 124.47, 124.47, 124.49, 124.49, 124.57, 124.64, 124.64, 124.65, 124.65, 124.66, 124.74, 124.83, 124.85, 124.86, 124.89, 124.89, 125.04, 125.06, 125.06, 125.13, 125.16, 125.2, 125.24, 125.26, 125.26, 125.28, 125.31, 125.34, 125.42, 125.45, 125.49, 125.49, 125.52, 125.54, 125.54, 125.56, 125.57, 125.57, 125.57, 125.57, 125.57, 125.57, 125.61, 125.63, 125.64, 125.69, 125.71, 125.72, 125.73, 125.75, 125.82, 125.82, 125.83, 125.87, 125.88, 125.89, 125.92, 125.94, 126.0, 126.18, 126.18, 126.19, 126.19, 126.19, 126.22, 126.28, 126.29, 126.29, 126.3, 126.32, 126.33, 126.34, 126.36, 126.41, 126.45, 126.46, 126.53, 126.53, 126.57, 126.57, 126.61, 126.62, 126.64, 126.64, 126.64, 126.68, 126.68, 126.68, 126.68, 126.83, 126.88, 126.89, 126.97, 127.11, 127.13, 127.14, 127.14, 127.14, 127.14, 127.14, 127.14, 127.15, 127.16, 127.16, 127.27, 127.32, 127.44, 127.49, 127.54, 127.57, 127.7, 127.71, 127.71, 127.72, 127.75, 127.78, 127.78, 127.82, 127.83, 127.87, 127.88, 127.89, 127.89, 127.89, 127.91, 127.91, 127.94, 127.95, 127.96, 127.96, 127.96, 128.01, 128.01, 128.08, 128.12, 128.12, 128.18, 128.29, 128.31, 128.41, 128.43, 128.44, 128.46, 128.62, 128.63, 128.65, 128.67, 128.71, 128.77, 128.8, 128.83, 128.88, 128.88, 128.96, 128.99, 129.0, 129.0, 129.01, 129.01, 129.01, 129.01, 129.01, 129.01, 129.02, 129.02, 129.02, 129.04, 129.05, 129.06, 129.06, 129.09, 129.1, 129.17, 129.19, 129.19, 129.19, 129.23, 129.23, 129.28, 129.29, 129.29, 129.4, 129.5, 129.56, 129.58, 129.58, 129.58, 129.59, 129.59, 129.61, 129.62, 129.68, 129.68, 129.68, 129.82, 129.84, 129.84, 129.84, 129.91, 129.91, 129.91, 129.91, 129.91, 129.94, 129.94, 129.94, 129.94, 129.94, 129.94, 130.03, 130.07, 130.1, 130.13, 130.21, 130.26, 130.29, 130.34, 130.42, 130.42, 130.42, 130.43, 130.45, 130.48, 130.48, 130.5, 130.54, 130.58, 130.67, 130.77, 130.78, 130.78, 130.78, 130.78, 130.87, 130.96, 130.99, 131.04, 131.08, 131.15, 131.15, 131.18, 131.21, 131.24, 131.27, 131.29, 131.29, 131.31, 131.4, 131.4, 131.46, 131.49, 131.52, 131.55, 131.55, 131.55, 131.61, 131.65, 131.66, 131.67, 131.67, 131.67, 131.68, 131.69, 131.73, 131.73, 131.78, 131.84, 131.94, 131.95, 131.98, 132.11, 132.12, 132.14, 132.18, 132.2, 132.2, 132.23, 132.24, 132.25, 132.26, 132.29, 132.31, 132.31, 132.35, 132.35, 132.37, 132.38, 132.4, 132.4, 132.4, 132.41, 132.41, 132.41, 132.44, 132.49, 132.61, 132.61, 132.66, 132.66, 132.67, 132.68, 132.7, 132.72, 132.73, 132.75, 132.75, 132.76, 132.77, 132.82, 132.82, 132.87, 132.9, 133.0, 133.0, 133.06, 133.1, 133.11, 133.12, 133.12, 133.13, 133.14, 133.21, 133.21, 133.34, 133.42, 133.42, 133.42, 133.48, 133.48, 133.5, 133.56, 133.56, 133.62, 133.74, 133.77, 133.8, 133.8, 133.8, 133.8, 133.8, 133.8, 133.8, 133.8, 133.8, 133.8, 133.81, 133.82, 133.86, 133.87, 133.92, 134.02, 134.03, 134.03, 134.08, 134.21, 134.21, 134.24, 134.26, 134.27, 134.33, 134.36, 134.36, 134.51, 134.54, 134.58, 134.63, 134.67, 134.67, 134.7, 134.75, 134.92, 134.92, 134.94, 134.95, 134.99, 135.0, 135.0, 135.01, 135.09, 135.13, 135.14, 135.16, 135.19, 135.25, 135.25, 135.25, 135.25, 135.25, 135.31, 135.31, 135.32, 135.32, 135.33, 135.36, 135.36, 135.43, 135.46, 135.55, 135.56, 135.57, 135.76, 135.77, 135.77, 135.8, 135.82, 135.84, 135.86, 135.97, 135.97, 136.01, 136.07, 136.14, 136.16, 136.16, 136.16, 136.21, 136.23, 136.32, 136.45, 136.59, 136.63, 136.63, 136.64, 136.67, 136.71, 136.74, 136.74, 136.76, 136.76, 136.76, 136.76, 136.78, 136.8, 136.81, 136.81, 136.86, 136.93, 136.95, 137.05, 137.06, 137.06, 137.11, 137.11, 137.12, 137.2, 137.2, 137.25, 137.33, 137.34, 137.34, 137.37, 137.39, 137.39, 137.39, 137.39, 137.39, 137.4, 137.48, 137.51, 137.51, 137.59, 137.59, 137.59, 137.59, 137.6, 137.6, 137.6, 137.6, 137.6, 137.62, 137.66, 137.75, 137.77, 137.78, 137.8, 137.83, 137.87, 137.88, 137.88, 137.96, 137.96, 137.96, 137.99, 138.0, 138.0, 138.03, 138.12, 138.19, 138.21, 138.21, 138.24, 138.24, 138.24, 138.25, 138.3, 138.33, 138.33, 138.35, 138.41, 138.56, 138.62, 138.73, 138.78, 138.82, 138.82, 139.01, 139.01, 139.21, 139.31, 139.31, 139.35, 139.35, 139.35, 139.37, 139.38, 139.38, 139.38, 139.39, 139.44, 139.46, 139.49, 139.49, 139.5, 139.51, 139.54, 139.56, 139.57, 139.67, 139.67, 139.68, 139.69, 139.73, 139.75, 139.78, 139.84, 139.84, 139.93, 139.95, 139.95, 140.0, 140.07, 140.08, 140.11, 140.11, 140.12, 140.13, 140.13, 140.13, 140.14, 140.19, 140.21, 140.38, 140.46, 140.64, 140.64, 140.67, 140.67, 140.7, 140.75, 140.81, 140.87, 140.99, 141.04, 141.07, 141.09, 141.22, 141.22, 141.29, 141.38, 141.41, 141.44, 141.45, 141.6, 141.6, 141.66, 141.66, 141.66, 141.68, 141.71, 141.71, 141.79, 141.84, 141.85, 141.87, 141.87, 141.96, 141.96, 141.96, 141.97, 142.03, 142.03, 142.03, 142.04, 142.05, 142.1, 142.17, 142.2, 142.22, 142.22, 142.23, 142.25, 142.26, 142.26, 142.26, 142.26, 142.26, 142.26, 142.26, 142.31, 142.39, 142.43, 142.46, 142.48, 142.57, 142.57, 142.57, 142.57, 142.76, 142.76, 142.76, 142.76, 142.77, 142.81, 142.86, 142.91, 142.94, 142.97, 143.06, 143.06, 143.27, 143.27, 143.29, 143.29, 143.37, 143.41, 143.44, 143.48, 143.48, 143.56, 143.58, 143.62, 143.7, 143.73, 143.77, 143.79, 143.8, 143.81, 143.81, 143.81, 143.85, 143.87, 143.99, 144.01, 144.01, 144.02, 144.05, 144.06, 144.12, 144.12, 144.12, 144.13, 144.13, 144.14, 144.14, 144.14, 144.14, 144.16, 144.16, 144.21, 144.39, 144.4, 144.41, 144.43, 144.53, 144.53, 144.53, 144.53, 144.53, 144.53, 144.53, 144.54, 144.55, 144.55, 144.59, 144.59, 144.71, 144.74, 144.84, 144.89, 144.92, 144.93, 145.09, 145.12, 145.18, 145.24, 145.25, 145.26, 145.26, 145.3, 145.31, 145.31, 145.31, 145.31, 145.31, 145.4, 145.42, 145.45, 145.46, 145.5, 145.54, 145.6, 145.6, 145.76, 145.82, 145.82, 145.82, 145.91, 145.95, 146.14, 146.14, 146.22, 146.26, 146.28, 146.31, 146.31, 146.31, 146.31, 146.35, 146.38, 146.38, 146.39, 146.39, 146.42, 146.42, 146.47, 146.47, 146.58, 146.73, 146.79, 146.89, 146.89, 146.89, 146.97, 147.12, 147.12, 147.12, 147.14, 147.14, 147.17, 147.17, 147.18, 147.24, 147.26, 147.26, 147.3, 147.3, 147.33, 147.34, 147.44, 147.45, 147.59, 147.83, 147.87, 147.89, 147.89, 147.89, 147.9, 147.96, 147.96, 147.96, 147.98, 148.04, 148.14, 148.14, 148.2, 148.21, 148.24, 148.24, 148.26, 148.26, 148.29, 148.29, 148.29, 148.29, 148.35, 148.37, 148.57, 148.74, 148.79, 148.86, 148.95, 148.96, 149.04, 149.06, 149.1, 149.1, 149.18, 149.32, 149.43, 149.53, 149.54, 149.54, 149.56, 149.58, 149.59, 149.69, 149.69, 149.69, 149.77, 149.81, 149.83, 149.86, 149.86, 149.88, 150.0, 150.13, 150.16, 150.16, 150.21, 150.32, 150.32, 150.32, 150.32, 150.32, 150.32, 150.35, 150.42, 150.42, 150.43, 150.49, 150.54, 150.55, 150.61, 150.62, 150.71, 150.74, 150.8, 150.83, 150.83, 150.88, 150.92, 150.92, 150.98, 150.99, 151.03, 151.05, 151.06, 151.08, 151.11, 151.19, 151.2, 151.28, 151.28, 151.48, 151.48, 151.53, 151.63, 151.63, 151.64, 151.64, 151.87, 151.93, 151.93, 151.99, 152.0, 152.04, 152.09, 152.09, 152.09, 152.19, 152.21, 152.27, 152.28, 152.31, 152.35, 152.37, 152.37, 152.37, 152.47, 152.48, 152.49, 152.49, 152.51, 152.51, 152.51, 152.53, 152.53, 152.53, 152.55, 152.58, 152.78, 152.82, 152.82, 152.82, 152.83, 152.85, 152.87, 152.88, 152.9, 152.94, 152.94, 152.95, 152.95, 153.02, 153.1, 153.1, 153.13, 153.14, 153.2, 153.21, 153.22, 153.23, 153.23, 153.31, 153.31, 153.38, 153.45, 153.46, 153.49, 153.57, 153.57, 153.58, 153.59, 153.59, 153.62, 153.63, 153.66, 153.75, 153.76, 153.86, 154.07, 154.08, 154.08, 154.09, 154.11, 154.41, 154.52, 154.57, 154.73, 154.76, 154.77, 154.85, 154.93, 154.93, 154.99, 155.0, 155.01, 155.01, 155.01, 155.03, 155.07, 155.2, 155.37, 155.38, 155.47, 155.54, 155.55, 155.57, 155.58, 155.58, 155.65, 155.67, 155.7, 155.7, 155.78, 155.96, 156.18, 156.38, 156.42, 156.49, 156.54, 156.56, 156.6, 156.65, 156.66, 156.66, 156.67, 156.68, 156.71, 156.71, 156.72, 156.72, 156.72, 156.74, 156.8, 156.82, 156.84, 156.84, 156.84, 156.84, 156.9, 156.91, 156.96, 157.03, 157.04, 157.06, 157.06, 157.09, 157.12, 157.13, 157.13, 157.13, 157.13, 157.13, 157.18, 157.18, 157.19, 157.29, 157.33, 157.5, 157.6, 157.64, 157.75, 157.79, 157.79, 157.8, 157.8, 157.87, 157.88, 157.88, 157.92, 158.05, 158.14, 158.19, 158.19, 158.21, 158.24, 158.26, 158.3, 158.39, 158.4, 158.44, 158.45, 158.52, 158.52, 158.81, 158.84, 158.91, 158.93, 159.07, 159.17, 159.2, 159.29, 159.3, 159.3, 159.3, 159.36, 159.4, 159.45, 159.52, 159.58, 159.58, 159.61, 159.62, 159.62, 159.68, 159.68, 159.69, 159.69, 159.71, 159.76, 159.77, 159.77, 159.83, 159.86, 159.87, 159.89, 159.96, 159.96, 159.96, 159.96, 160.05, 160.11, 160.21, 160.3, 160.38, 160.41, 160.5, 160.54, 160.55, 160.63, 160.63, 160.67, 160.72, 160.72, 160.76, 160.85, 160.86, 160.97, 161.27, 161.29, 161.29, 161.29, 161.31, 161.33, 161.39, 161.43, 161.5, 161.54, 161.56, 161.61, 161.61, 161.65, 161.66, 161.71, 161.71, 161.86, 161.86, 162.01, 162.06, 162.08, 162.09, 162.09, 162.28, 162.4, 162.44, 162.47, 162.62, 162.63, 162.65, 162.69, 162.74, 162.83, 162.86, 162.89, 163.04, 163.39, 163.4, 163.54, 163.63, 163.63, 163.64, 163.68, 163.81, 163.84, 163.84, 163.84, 163.84, 163.84, 163.84, 163.92, 163.99, 164.07, 164.07, 164.09, 164.15, 164.15, 164.16, 164.16, 164.16, 164.19, 164.35, 164.39, 164.39, 164.41, 164.5, 164.51, 164.52, 164.54, 164.54, 164.54, 164.56, 164.56, 164.72, 164.79, 164.85, 164.85, 164.98, 164.99, 165.15, 165.18, 165.18, 165.19, 165.19, 165.22, 165.31, 165.31, 165.33, 165.38, 165.51, 165.54, 165.61, 165.62, 165.65, 165.69, 165.83, 165.84, 165.86, 165.94, 165.96, 166.02, 166.21, 166.21, 166.21, 166.34, 166.34, 166.47, 166.47, 166.72, 166.76, 166.77, 166.78, 166.78, 166.78, 166.79, 166.82, 166.87, 166.88, 166.91, 166.95, 167.05, 167.05, 167.05, 167.33, 167.34, 167.38, 167.39, 167.48, 167.5, 167.51, 167.51, 167.54, 167.54, 167.63, 167.68, 167.68, 167.68, 167.78, 167.78, 167.9, 167.9, 167.9, 167.91, 167.92, 167.92, 167.92, 167.93, 167.93, 167.93, 167.93, 167.93, 167.99, 168.06, 168.08, 168.08, 168.14, 168.35, 168.37, 168.37, 168.48, 168.48, 168.48, 168.48, 168.59, 168.65, 168.65, 168.84, 168.86, 169.02, 169.06, 169.06, 169.09, 169.1, 169.1, 169.1, 169.14, 169.14, 169.24, 169.41, 169.42, 169.47, 169.6, 169.64, 169.65, 169.66, 169.66, 169.67, 169.71, 169.79, 169.79, 169.79, 169.79, 169.97, 170.03, 170.09, 170.13, 170.16, 170.28, 170.3, 170.3, 170.35, 170.49, 170.56, 170.58, 170.66, 170.66, 170.82, 170.82, 170.95, 171.34, 171.4, 171.45, 171.47, 171.49, 171.49, 171.66, 171.68, 171.8, 171.8, 171.88, 172.07, 172.09, 172.19, 172.19, 172.3, 172.33, 172.42, 172.46, 172.52, 172.52, 172.53, 172.54, 172.56, 172.56, 172.78, 172.8, 172.8, 172.8, 172.8, 172.8, 172.8, 172.8, 172.8, 172.8, 172.8, 172.81, 172.83, 172.92, 172.97, 173.01, 173.09, 173.13, 173.19, 173.24, 173.24, 173.44, 173.49, 173.59, 173.86, 173.87, 173.91, 173.92, 173.93, 173.94, 173.94, 173.94, 173.95, 174.0, 174.01, 174.02, 174.02, 174.04, 174.05, 174.15, 174.19, 174.23, 174.24, 174.26, 174.26, 174.26, 174.26, 174.26, 174.26, 174.27, 174.27, 174.29, 174.39, 174.64, 174.67, 174.71, 174.77, 174.83, 174.83, 174.83, 174.86, 174.87, 174.92, 174.92, 174.92, 175.08, 175.08, 175.1, 175.1, 175.1, 175.15, 175.15, 175.17, 175.17, 175.25, 175.26, 175.43, 175.51, 175.55, 175.55, 175.55, 175.8, 175.85, 175.87, 175.87, 175.94, 175.99, 176.06, 176.15, 176.15, 176.16, 176.18, 176.18, 176.18, 176.18, 176.18, 176.3, 176.4, 176.48, 176.48, 176.65, 176.68, 176.75, 176.76, 176.99, 177.05, 177.11, 177.19, 177.22, 177.35, 177.41, 177.42, 177.48, 177.55, 177.68, 177.78, 177.78, 177.84, 177.91, 177.93, 178.08, 178.27, 178.27, 178.29, 178.37, 178.38, 178.57, 178.58, 178.58, 178.58, 178.62, 178.65, 178.76, 178.78, 178.84, 178.85, 178.86, 178.87, 178.88, 178.88, 178.96, 179.01, 179.18, 179.22, 179.25, 179.27, 179.27, 179.27, 179.33, 179.35, 179.35, 179.35, 179.35, 179.4, 179.44, 179.47, 179.47, 179.49, 179.49, 179.5, 179.53, 179.54, 179.59, 179.69, 179.71, 179.71, 179.77, 179.78, 179.81, 179.81, 179.82, 179.83, 179.84, 179.89, 179.9, 180.1, 180.1, 180.12, 180.28, 180.28, 180.28, 180.37, 180.49, 180.56, 180.7, 180.82, 180.85, 180.91, 181.09, 181.1, 181.1, 181.39, 181.43, 181.43, 181.51, 181.57, 181.57, 181.7, 181.73, 181.82, 181.82, 181.9, 181.98, 181.99, 182.02, 182.04, 182.04, 182.07, 182.08, 182.08, 182.13, 182.27, 182.4, 182.5, 182.5, 182.5, 182.5, 182.57, 182.63, 182.63, 182.67, 182.67, 182.7, 182.72, 182.9, 182.92, 182.92, 182.99, 182.99, 183.07, 183.09, 183.12, 183.15, 183.27, 183.38, 183.58, 183.59, 183.64, 183.66, 183.71, 183.71, 183.79, 183.88, 183.9, 184.0, 184.01, 184.04, 184.23, 184.24, 184.24, 184.29, 184.41, 184.43, 184.45, 184.51, 184.52, 184.64, 184.64, 184.64, 184.64, 184.71, 184.9, 184.9, 184.92, 184.92, 185.12, 185.13, 185.13, 185.14, 185.14, 185.14, 185.14, 185.19, 185.21, 185.29, 185.3, 185.3, 185.31, 185.42, 185.45, 185.47, 185.6, 185.79, 185.87, 185.9, 185.94, 185.99, 186.1, 186.2, 186.33, 186.36, 186.68, 186.71, 186.73, 187.05, 187.09, 187.09, 187.09, 187.09, 187.09, 187.12, 187.17, 187.18, 187.23, 187.54, 187.65, 187.69, 187.76, 187.79, 188.11, 188.11, 188.11, 188.11, 188.29, 188.29, 188.44, 188.52, 188.53, 188.57, 188.76, 188.76, 188.76, 188.86, 188.89, 188.89, 189.01, 189.05, 189.12, 189.19, 189.22, 189.29, 189.33, 189.4, 189.59, 189.66, 189.83, 189.87, 189.94, 189.94, 190.06, 190.15, 190.15, 190.15, 190.15, 190.15, 190.22, 190.24, 190.32, 190.34, 190.41, 190.47, 190.5, 190.54, 190.57, 190.57, 190.72, 190.81, 190.82, 190.9, 191.14, 191.14, 191.14, 191.2, 191.22, 191.25, 191.25, 191.29, 191.35, 191.41, 191.45, 191.46, 191.47, 191.5, 191.52, 191.57, 191.57, 191.58, 191.6, 191.6, 191.61, 191.62, 191.62, 191.62, 191.63, 191.63, 191.63, 191.64, 191.9, 192.13, 192.21, 192.52, 192.69, 192.69, 192.7, 192.74, 192.77, 192.77, 192.8, 192.81, 192.84, 192.89, 192.91, 192.91, 193.03, 193.11, 193.12, 193.12, 193.14, 193.14, 193.17, 193.17, 193.18, 193.18, 193.18, 193.18, 193.18, 193.18, 193.19, 193.19, 193.33, 193.34, 193.53, 193.6, 193.61, 193.8, 193.8, 193.87, 193.95, 194.08, 194.11, 194.27, 194.32, 194.34, 194.35, 194.37, 194.39, 194.39, 194.53, 194.59, 194.6, 194.6, 194.71, 194.74, 194.94, 195.03, 195.3, 195.49, 195.49, 195.5, 195.51, 195.52, 195.56, 195.6, 195.8, 195.87, 196.24, 196.24, 196.37, 196.37, 196.38, 196.38, 196.62, 196.63, 196.65, 196.74, 196.76, 196.77, 196.79, 196.82, 197.01, 197.01, 197.06, 197.08, 197.08, 197.18, 197.53, 197.55, 197.73, 197.77, 197.9, 197.91, 198.12, 198.13, 198.15, 198.18, 198.18, 198.22, 198.29, 198.34, 198.37, 198.48, 198.69, 198.72, 198.78, 199.12, 199.19, 199.21, 199.21, 199.3, 199.32, 199.4, 199.45, 199.45, 199.5, 199.52, 199.7, 199.71, 200.07, 200.07, 200.24, 200.28, 200.37, 200.44, 200.44, 200.61, 200.7, 200.7, 200.74, 200.75, 200.75, 200.76, 200.76, 200.87, 201.18, 201.24, 201.24, 201.25, 201.27, 201.36, 201.42, 201.48, 201.77, 201.77, 201.83, 201.87, 201.87, 201.98, 201.98, 202.12, 202.2, 202.29, 202.29, 202.57, 202.61, 202.86, 202.9, 202.96, 202.99, 203.27, 203.39, 203.44, 203.51, 203.51, 203.69, 203.69, 203.7, 203.74, 203.74, 203.82, 203.82, 203.84, 203.97, 204.15, 204.45, 204.5, 204.53, 204.76, 204.93, 205.12, 205.12, 205.4, 205.41, 205.46, 205.51, 205.61, 205.62, 205.73, 205.96, 206.01, 206.06, 206.12, 206.39, 206.43, 206.45, 206.45, 206.55, 206.88, 206.89, 206.89, 207.02, 207.03, 207.03, 207.03, 207.03, 207.03, 207.05, 207.06, 207.12, 207.15, 207.22, 207.22, 207.23, 207.23, 207.23, 207.25, 207.25, 207.33, 207.54, 207.86, 207.95, 208.15, 208.53, 208.63, 208.7, 208.88, 208.96, 209.05, 209.06, 209.14, 209.16, 209.16, 209.19, 209.26, 209.27, 209.44, 209.45, 209.45, 209.64, 209.66, 209.71, 209.73, 209.79, 209.8, 209.86, 209.98, 210.09, 210.09, 210.21, 210.25, 210.39, 210.53, 210.68, 210.71, 210.84, 210.89, 210.95, 211.35, 211.47, 211.5, 211.52, 211.52, 211.67, 211.69, 211.78, 211.79, 211.81, 211.99, 212.01, 212.05, 212.25, 212.26, 212.33, 212.39, 212.5, 212.5, 212.5, 212.5, 212.51, 212.53, 212.53, 212.68, 212.77, 212.94, 213.0, 213.1, 213.37, 213.46, 213.54, 213.64, 213.65, 213.65, 213.73, 213.73, 213.74, 214.07, 214.15, 214.26, 214.35, 214.36, 214.37, 214.43, 214.43, 214.43, 214.45, 214.59, 214.61, 214.91, 214.91, 214.95, 214.97, 214.97, 215.26, 215.28, 215.28, 215.44, 215.45, 215.5, 215.59, 215.6, 215.7, 215.74, 215.91, 215.96, 216.01, 216.01, 216.02, 216.02, 216.15, 216.21, 216.29, 216.39, 216.43, 216.5, 216.53, 216.68, 216.96, 217.03, 217.04, 217.04, 217.04, 217.04, 217.19, 217.27, 217.37, 217.38, 217.41, 217.45, 217.48, 217.57, 217.61, 217.78, 218.0, 218.04, 218.04, 218.08, 218.1, 218.11, 218.2, 218.34, 218.5, 218.53, 218.53, 218.57, 218.59, 218.82, 218.84, 218.87, 218.87, 218.87, 219.23, 219.41, 219.41, 219.55, 219.63, 219.73, 219.79, 219.92, 220.0, 220.03, 220.06, 220.06, 220.1, 220.11, 220.11, 220.2, 220.25, 220.28, 220.42, 220.68, 220.74, 220.76, 220.87, 221.01, 221.02, 221.07, 221.07, 221.21, 221.24, 221.36, 221.57, 221.79, 221.81, 221.81, 221.84, 221.84, 221.84, 221.85, 221.88, 221.9, 221.91, 221.94, 222.07, 222.14, 222.17, 222.17, 222.17, 222.18, 222.18, 222.18, 222.22, 222.38, 222.38, 222.46, 222.5, 222.63, 222.63, 222.64, 222.72, 222.76, 222.8, 222.8, 222.84, 222.92, 222.97, 222.97, 223.22, 223.25, 223.42, 223.47, 223.57, 223.66, 223.66, 223.81, 223.87, 223.87, 223.87, 223.89, 224.04, 224.09, 224.09, 224.09, 224.11, 224.14, 224.15, 224.23, 224.23, 224.24, 224.33, 224.34, 224.42, 224.43, 224.5, 224.54, 224.56, 224.73, 224.91, 225.19, 225.19, 225.22, 225.35, 225.35, 225.42, 225.53, 225.91, 226.0, 226.08, 226.08, 226.15, 226.22, 226.32, 226.58, 226.58, 226.58, 226.59, 226.61, 226.61, 226.62, 226.66, 226.73, 226.82, 226.9, 227.03, 227.06, 227.18, 227.62, 227.63, 227.63, 227.67, 227.79, 227.82, 227.87, 228.16, 228.22, 228.23, 228.23, 229.02, 229.07, 229.15, 229.33, 229.33, 229.34, 229.38, 229.55, 229.7, 229.72, 229.82, 229.87, 229.99, 230.12, 230.19, 230.23, 230.29, 230.38, 230.44, 230.44, 230.49, 230.59, 230.69, 230.88, 230.9, 230.95, 231.05, 231.34, 231.42, 231.45, 231.45, 231.47, 231.5, 231.51, 231.53, 231.53, 231.53, 231.53, 231.53, 231.54, 231.55, 231.57, 231.6, 231.82, 231.86, 231.94, 232.0, 232.14, 232.18, 232.18, 232.2, 232.22, 232.32, 232.46, 232.65, 232.69, 233.04, 233.12, 233.29, 233.31, 233.37, 233.44, 233.44, 233.46, 233.48, 233.61, 233.61, 233.74, 233.75, 234.01, 234.04, 234.08, 234.08, 234.13, 234.23, 234.4, 234.4, 234.4, 234.4, 234.5, 234.5, 234.59, 234.64, 234.64, 234.73, 235.08, 235.6, 235.64, 235.7, 235.72, 235.77, 235.87, 235.9, 235.9, 235.91, 236.4, 236.54, 236.69, 236.7, 236.71, 236.78, 236.79, 236.79, 236.82, 236.82, 236.85, 237.21, 237.31, 237.41, 237.45, 237.49, 237.54, 237.56, 237.6, 237.77, 237.77, 238.07, 238.15, 238.17, 238.26, 238.4, 238.4, 238.4, 238.44, 238.53, 238.75, 238.81, 238.84, 238.85, 239.01, 239.04, 239.14, 239.87, 240.07, 240.14, 240.36, 240.67, 240.93, 240.93, 240.93, 241.13, 241.14, 241.25, 241.25, 241.25, 241.27, 241.27, 241.27, 241.27, 241.58, 241.58, 241.58, 241.58, 241.73, 241.97, 242.0, 242.17, 242.19, 242.69, 242.71, 242.79, 242.86, 243.38, 243.47, 243.51, 243.51, 243.55, 243.72, 243.72, 244.19, 244.19, 244.22, 244.66, 244.8, 244.8, 244.89, 245.0, 245.26, 245.28, 245.92, 245.95, 246.12, 246.22, 246.22, 246.22, 246.22, 246.42, 246.42, 246.45, 246.55, 246.63, 246.63, 246.71, 246.73, 246.74, 246.76, 246.78, 246.79, 246.97, 247.0, 247.1, 247.32, 247.37, 247.4, 247.87, 247.87, 247.91, 247.92, 248.01, 248.04, 248.05, 248.05, 248.05, 248.05, 248.05, 248.05, 248.05, 248.05, 248.33, 248.82, 248.94, 249.13, 249.28, 249.6, 249.83, 249.83, 249.91, 249.91, 249.93, 250.15, 250.15, 250.19, 250.21, 250.51, 250.54, 250.68, 250.8, 250.8, 251.1, 251.16, 251.27, 251.41, 251.48, 251.49, 251.5, 251.76, 251.93, 251.94, 252.07, 252.36, 252.43, 252.45, 252.47, 252.54, 252.56, 252.56, 252.56, 252.66, 252.82, 253.07, 253.14, 253.37, 253.66, 253.67, 253.78, 253.99, 254.15, 254.32, 254.32, 254.41, 254.58, 254.9, 254.91, 254.97, 255.06, 255.42, 255.78, 255.78, 255.96, 255.96, 256.2, 256.23, 256.73, 256.78, 256.92, 257.0, 257.06, 257.07, 257.33, 257.59, 257.66, 257.66, 257.79, 257.98, 258.0, 258.04, 258.05, 258.11, 258.11, 258.12, 258.12, 258.13, 258.13, 258.18, 258.25, 258.31, 258.34, 258.35, 258.38, 258.38, 258.38, 258.67, 258.67, 258.91, 258.95, 259.16, 259.16, 259.17, 259.18, 259.2, 259.2, 259.2, 259.2, 259.2, 259.2, 259.21, 259.21, 259.21, 259.21, 259.71, 259.71, 259.76, 260.16, 260.16, 260.38, 260.4, 260.55, 260.57, 260.57, 260.59, 260.72, 260.76, 260.91, 261.06, 261.07, 261.12, 261.13, 261.45, 261.58, 261.7, 261.9, 261.97, 261.98, 262.0, 262.33, 262.33, 262.72, 263.08, 263.15, 263.34, 263.35, 263.36, 263.39, 263.79, 263.88, 263.99, 264.1, 264.68, 264.97, 265.13, 265.21, 265.22, 265.36, 265.42, 265.43, 265.43, 265.43, 265.43, 265.46, 265.51, 265.51, 265.64, 265.64, 265.64, 266.11, 266.31, 266.53, 266.97, 266.97, 267.12, 267.53, 267.58, 267.58, 267.59, 267.6, 267.6, 267.71, 267.71, 267.71, 267.72, 267.72, 267.73, 267.73, 267.88, 268.02, 268.09, 268.14, 268.18, 268.18, 268.42, 268.44, 268.46, 268.82, 268.93, 268.96, 269.03, 269.24, 269.24, 269.26, 269.49, 269.53, 269.67, 269.73, 269.73, 270.33, 270.56, 270.66, 270.9, 271.03, 271.08, 271.49, 271.67, 272.06, 272.1, 272.1, 272.33, 272.35, 272.41, 272.91, 272.91, 273.05, 273.22, 273.35, 273.35, 273.37, 273.79, 274.17, 274.29, 274.29, 274.46, 274.46, 274.63, 274.66, 274.67, 274.73, 274.73, 274.73, 274.75, 274.83, 274.83, 274.87, 274.87, 274.87, 274.87, 274.92, 275.15, 275.2, 275.21, 275.25, 275.25, 275.49, 275.52, 275.93, 275.93, 275.97, 276.0, 276.0, 276.43, 276.44, 276.44, 276.65, 276.66, 276.66, 276.83, 276.98, 277.01, 277.03, 277.44, 277.44, 277.68, 277.73, 278.55, 278.73, 279.02, 279.33, 279.34, 279.35, 279.37, 279.75, 280.09, 280.3, 280.3, 280.56, 280.56, 280.56, 280.58, 280.71, 280.73, 281.08, 281.38, 281.48, 281.54, 281.63, 282.22, 282.22, 282.56, 282.66, 282.93, 283.01, 283.56, 283.65, 283.72, 284.32, 284.49, 284.66, 285.02, 285.14, 285.14, 285.16, 285.87, 285.97, 286.1, 286.12, 286.13, 286.22, 286.54, 286.62, 286.62, 286.78, 286.83, 286.83, 286.83, 286.83, 286.84, 286.88, 286.9, 286.95, 287.13, 287.16, 287.26, 287.26, 287.31, 287.47, 287.58, 287.62, 287.62, 287.64, 287.84, 287.88, 287.98, 288.22, 288.26, 288.28, 288.55, 288.69, 288.69, 288.74, 288.75, 288.84, 288.86, 288.86, 288.94, 289.44, 289.46, 289.69, 289.9, 289.9, 289.94, 290.25, 290.38, 290.38, 290.47, 290.7, 290.71, 290.71, 290.73, 290.73, 290.84, 290.88, 290.91, 291.22, 291.59, 292.16, 292.24, 292.37, 292.43, 292.47, 293.0, 293.1, 293.22, 293.37, 293.53, 293.6, 293.77, 293.84, 293.84, 294.38, 294.48, 294.51, 294.59, 294.78, 295.13, 295.17, 295.17, 295.17, 295.92, 295.97, 296.4, 296.55, 296.55, 296.57, 296.57, 296.64, 296.74, 296.74, 297.06, 297.19, 297.24, 297.37, 297.71, 297.95, 298.02, 298.04, 298.12, 298.18, 298.37, 298.52, 298.56, 298.68, 298.9, 298.96, 299.2, 299.25, 299.27, 299.39, 299.39, 299.88, 300.1, 300.1, 300.3, 300.3, 300.42, 300.99, 301.1, 301.14, 301.26, 301.74, 301.92, 302.3, 302.38, 302.49, 302.52, 302.73, 302.84, 302.93, 302.98, 302.98, 303.05, 303.21, 303.51, 303.94, 303.94, 303.96, 303.96, 304.07, 304.37, 304.73, 305.18, 305.19, 305.19, 305.6, 305.6, 305.71, 305.74, 305.76, 305.76, 305.9, 306.03, 306.27, 306.69, 306.76, 306.8, 307.17, 307.5, 307.72, 307.72, 307.88, 308.18, 308.87, 309.02, 309.24, 309.39, 309.43, 309.49, 309.53, 309.63, 309.83, 310.06, 310.41, 310.68, 310.73, 310.98, 310.98, 310.98, 311.01, 311.01, 311.15, 311.15, 311.48, 311.66, 312.08, 312.13, 312.13, 312.34, 312.36, 312.57, 312.81, 312.81, 312.81, 313.04, 313.19, 313.42, 313.43, 313.44, 313.48, 313.57, 313.65, 313.67, 314.0, 314.17, 314.4, 314.62, 314.63, 314.89, 315.48, 316.22, 316.3, 316.92, 317.02, 317.02, 317.03, 317.03, 317.12, 317.29, 317.32, 317.33, 317.89, 318.03, 318.05, 318.33, 318.34, 318.49, 318.53, 318.85, 319.02, 319.53, 319.54, 319.66, 319.91, 319.91, 320.22, 320.22, 320.27, 320.49, 320.74, 320.75, 320.79, 320.83, 321.3, 321.33, 321.54, 321.65, 321.66, 321.66, 321.73, 321.91, 322.13, 322.26, 322.32, 322.68, 322.73, 322.75, 323.08, 323.25, 323.25, 324.1, 324.11, 324.4, 324.4, 324.73, 324.76, 325.04, 325.14, 325.19, 325.19, 325.25, 325.54, 325.94, 325.94, 326.21, 327.1, 327.21, 327.6, 327.66, 327.68, 327.68, 327.69, 327.93, 327.98, 328.1, 328.11, 328.3, 328.3, 328.59, 329.67, 329.72, 330.07, 330.16, 330.35, 330.36, 330.36, 330.36, 330.37, 330.38, 330.48, 330.49, 330.49, 331.39, 331.54, 331.92, 331.92, 332.05, 332.21, 332.23, 332.45, 332.45, 332.57, 332.83, 332.83, 333.32, 333.37, 333.42, 333.54, 333.54, 333.59, 333.9, 334.17, 334.18, 334.18, 334.19, 334.19, 334.38, 334.5, 334.54, 334.63, 334.88, 335.01, 335.3, 335.55, 335.57, 335.66, 335.68, 335.7, 335.81, 335.81, 335.82, 335.86, 335.96, 336.11, 336.14, 336.14, 336.27, 336.5, 336.55, 336.63, 336.72, 336.72, 337.09, 337.12, 337.32, 337.35, 337.38, 337.43, 337.6, 337.85, 338.18, 338.18, 338.3, 338.83, 339.15, 339.25, 339.69, 339.79, 339.87, 339.9, 339.92, 340.08, 340.2, 340.3, 340.36, 340.81, 340.82, 340.99, 341.23, 341.31, 341.42, 341.48, 341.58, 342.11, 342.55, 342.55, 342.82, 343.06, 343.15, 343.23, 343.72, 343.72, 343.72, 343.72, 343.76, 343.77, 343.94, 344.15, 344.29, 344.3, 344.43, 344.43, 344.69, 344.69, 344.69, 344.7, 344.7, 344.7, 344.7, 344.83, 345.08, 345.65, 346.04, 346.39, 346.49, 346.56, 347.14, 347.2, 347.7, 347.99, 348.47, 348.48, 348.51, 348.62, 348.93, 349.23, 349.54, 349.55, 349.55, 349.55, 349.58, 349.86, 349.86, 349.86, 349.95, 350.45, 350.56, 350.56, 350.58, 350.83, 351.06, 351.35, 351.36, 352.22, 352.29, 352.32, 352.36, 352.36, 352.37, 352.87, 353.66, 353.67, 353.69, 353.71, 353.75, 353.99, 354.03, 354.03, 354.04, 354.23, 354.23, 354.82, 354.83, 354.83, 354.84, 354.84, 354.84, 355.06, 355.37, 355.54, 355.88, 356.17, 356.17, 356.17, 356.26, 356.26, 356.58, 356.87, 356.97, 357.02, 357.16, 357.18, 357.42, 357.79, 357.8, 357.93, 357.93, 358.1, 358.43, 358.68, 358.68, 358.68, 359.06, 359.3, 360.54, 360.96, 361.38, 362.33, 362.37, 362.8, 362.82, 362.93, 363.03, 363.14, 363.34, 363.7, 363.75, 363.88, 364.0, 364.0, 364.04, 364.16, 364.23, 364.61, 364.84, 365.0, 365.0, 365.0, 365.01, 365.01, 365.01, 365.01, 365.01, 365.01, 365.33, 365.42, 366.1, 366.18, 366.22, 366.28, 366.54, 366.79, 366.79, 366.95, 367.33, 367.89, 367.89, 367.91, 368.3, 368.31, 369.17, 369.77, 370.04, 370.47, 370.6, 370.66, 370.82, 371.07, 371.2, 371.36, 371.36, 371.98, 372.03, 372.18, 372.18, 372.2, 372.59, 372.75, 372.81, 372.89, 373.21, 373.51, 373.52, 373.54, 373.87, 374.07, 374.1, 374.12, 374.17, 374.3, 374.33, 375.77, 376.17, 376.62, 377.44, 377.49, 377.62, 378.19, 378.21, 378.82, 379.96, 380.12, 380.12, 380.83, 381.12, 381.12, 381.43, 381.43, 381.62, 381.68, 381.68, 381.69, 381.69, 381.95, 382.5, 382.75, 382.75, 382.75, 382.81, 382.94, 382.95, 383.04, 383.25, 383.81, 384.46, 384.58, 384.68, 385.14, 385.42, 385.57, 386.32, 386.32, 386.33, 386.96, 386.99, 386.99, 387.25, 387.34, 387.58, 387.8, 388.63, 388.78, 388.82, 388.85, 389.06, 389.29, 389.4, 389.51, 389.54, 390.23, 390.46, 390.62, 390.63, 390.74, 390.91, 390.91, 391.75, 392.01, 392.89, 392.91, 393.12, 393.12, 393.13, 393.13, 393.22, 393.29, 393.34, 393.5, 393.52, 393.52, 393.52, 393.54, 393.56, 393.76, 393.81, 393.86, 393.91, 394.06, 394.37, 394.96, 395.63, 395.64, 395.81, 396.3, 396.76, 396.98, 396.98, 397.33, 397.66, 397.69, 398.24, 398.37, 398.52, 398.61, 398.64, 398.65, 398.71, 398.88, 398.88, 399.0, 399.61, 399.61, 399.62, 399.62, 400.6, 400.85, 401.15, 401.15, 401.26, 401.39, 401.39, 401.39, 401.39, 401.43, 401.5, 401.83, 402.2, 402.33, 402.57, 402.63, 403.45, 403.57, 403.77, 403.97, 403.97, 404.22, 404.4, 405.43, 405.74, 405.9, 405.94, 405.97, 405.97, 406.01, 406.4, 406.4, 406.42, 406.46, 406.46, 406.46, 406.46, 406.77, 407.17, 407.45, 407.86, 408.2, 408.33, 408.47, 408.48, 408.49, 408.49, 409.32, 409.72, 410.04, 410.04, 410.05, 410.27, 410.3, 410.42, 410.42, 410.46, 410.79, 411.14, 411.37, 411.88, 412.52, 412.72, 412.72, 412.8, 412.81, 413.13, 413.35, 413.83, 414.0, 414.1, 414.28, 414.5, 414.65, 416.09, 416.16, 416.16, 416.33, 416.33, 416.6, 416.68, 416.87, 416.87, 417.05, 417.05, 417.09, 417.13, 417.2, 417.52, 417.66, 417.68, 418.14, 418.14, 418.14, 418.25, 418.54, 418.54, 418.54, 418.9, 419.01, 419.26, 419.62, 420.08, 420.08, 420.09, 420.77, 420.92, 420.99, 421.57, 422.28, 422.58, 422.87, 423.29, 423.29, 423.76, 423.76, 423.76, 423.77, 423.77, 423.77, 423.96, 424.17, 424.2, 424.2, 424.62, 424.8, 424.88, 425.0, 425.0, 425.35, 425.78, 425.83, 425.9, 427.11, 427.47, 428.19, 428.33, 428.51, 428.6, 428.74, 429.16, 429.21, 429.22, 429.95, 430.21, 430.23, 430.64, 430.72, 430.75, 430.91, 430.93, 431.12, 431.19, 431.2, 431.26, 431.26, 431.39, 431.92, 431.97, 432.41, 433.02, 433.02, 433.37, 433.62, 433.62, 434.06, 434.26, 435.13, 435.32, 435.69, 435.75, 436.23, 436.23, 436.23, 436.32, 436.95, 437.26, 438.41, 438.47, 439.0, 439.14, 439.27, 440.12, 440.14, 440.26, 440.52, 440.56, 440.57, 440.57, 440.66, 441.0, 441.02, 441.07, 441.42, 442.13, 442.18, 442.42, 442.44, 442.53, 442.64, 442.64, 442.65, 442.65, 442.65, 443.85, 443.87, 443.88, 444.09, 444.39, 444.77, 445.64, 445.65, 445.84, 445.84, 445.84, 446.89, 446.9, 447.2, 447.3, 447.3, 447.3, 447.46, 447.65, 447.71, 447.71, 447.74, 447.74, 447.74, 448.27, 448.27, 448.39, 448.66, 448.69, 449.07, 449.09, 449.14, 449.84, 449.88, 450.06, 450.12, 450.29, 450.37, 450.39, 451.23, 451.87, 452.33, 452.64, 452.96, 453.15, 453.18, 453.21, 453.21, 453.28, 453.34, 454.25, 454.37, 455.31, 455.71, 456.12, 456.2, 456.2, 456.2, 457.13, 457.2, 457.46, 457.69, 457.9, 457.9, 458.14, 458.24, 458.26, 458.26, 458.53, 458.64, 458.81, 459.09, 459.09, 459.09, 459.54, 460.0, 460.87, 460.87, 461.74, 461.8, 461.85, 461.93, 461.93, 461.93, 461.93, 461.93, 462.31, 462.96, 462.96, 463.02, 463.02, 463.03, 463.05, 463.07, 463.08, 463.08, 463.08, 463.08, 463.08, 463.09, 463.09, 463.09, 463.09, 463.1, 463.12, 463.16, 463.87, 463.93, 463.93, 465.42, 465.42, 465.79, 465.83, 466.62, 466.63, 466.69, 466.73, 466.91, 466.95, 467.18, 467.85, 467.86, 467.9, 467.91, 467.99, 468.61, 468.66, 468.71, 468.79, 468.93, 468.93, 468.95, 469.29, 469.66, 470.46, 470.52, 470.59, 470.75, 470.75, 471.0, 471.13, 471.57, 472.18, 472.61, 472.62, 472.94, 473.29, 473.36, 473.58, 473.6, 474.08, 474.47, 474.57, 475.02, 475.13, 475.13, 475.46, 475.46, 475.46, 476.04, 476.98, 477.49, 477.68, 477.69, 477.69, 477.69, 477.69, 477.69, 477.72, 477.84, 478.08, 478.1, 479.17, 479.49, 480.07, 480.33, 480.37, 480.37, 480.39, 480.52, 480.52, 480.81, 481.18, 481.18, 481.31, 481.5, 481.66, 481.68, 482.71, 482.93, 483.14, 483.25, 483.25, 483.49, 483.68, 483.96, 484.03, 484.36, 485.14, 485.16, 485.17, 486.0, 486.2, 487.22, 487.53, 487.65, 488.23, 489.71, 489.77, 491.0, 491.09, 491.15, 491.27, 491.31, 491.37, 491.38, 491.52, 491.52, 491.95, 492.21, 492.21, 492.45, 492.45, 492.66, 493.28, 493.3, 493.62, 493.65, 493.65, 494.38, 494.5, 494.74, 494.95, 495.53, 495.56, 495.56, 495.56, 495.58, 495.74, 495.82, 496.03, 496.03, 496.04, 496.09, 496.09, 496.11, 496.13, 496.13, 496.14, 496.14, 496.14, 496.14, 496.14, 496.15, 496.52, 497.05, 497.05, 497.06, 497.38, 498.24, 498.25, 498.53, 498.68, 499.4, 499.52, 499.65, 499.67, 499.67, 499.67, 499.79, 499.83, 499.83, 499.85, 500.39, 500.53, 500.96, 501.66, 501.85, 502.32, 502.97, 503.01, 503.47, 503.79, 504.2, 504.25, 504.27, 504.51, 504.52, 504.61, 504.61, 504.86, 504.94, 505.08, 506.15, 506.44, 506.54, 507.14, 507.14, 507.14, 507.14, 507.78, 508.04, 508.25, 508.26, 508.66, 508.76, 509.01, 509.06, 509.38, 509.43, 509.5, 509.53, 509.88, 510.04, 510.05, 510.17, 510.21, 510.25, 510.87, 510.87, 513.64, 514.12, 514.16, 514.23, 515.11, 515.11, 516.25, 516.77, 516.77, 516.77, 516.89, 517.37, 517.37, 518.06, 518.48, 518.48, 518.99, 518.99, 519.08, 520.02, 520.31, 520.6, 520.96, 521.23, 521.23, 521.85, 522.42, 522.79, 522.82, 522.83, 522.92, 523.3, 523.94, 524.59, 526.65, 526.7, 527.1, 527.3, 527.3, 527.67, 528.0, 528.01, 528.24, 528.33, 528.54, 528.54, 528.94, 529.08, 529.08, 529.36, 529.4, 530.2, 530.21, 531.0, 531.31, 532.26, 532.64, 533.25, 533.39, 533.56, 534.11, 534.18, 534.37, 534.39, 534.87, 534.9, 535.44, 535.58, 536.15, 536.15, 536.15, 536.36, 536.36, 536.83, 537.14, 537.52, 537.81, 538.06, 538.07, 538.34, 538.47, 538.75, 540.09, 540.1, 540.33, 540.48, 541.05, 541.05, 541.21, 541.33, 541.63, 541.82, 541.95, 541.95, 541.95, 541.96, 543.17, 543.19, 543.69, 543.69, 543.69, 544.36, 544.57, 544.7, 544.86, 544.98, 545.21, 545.27, 545.35, 545.44, 545.48, 545.48, 545.88, 545.91, 545.91, 546.21, 546.34, 546.43, 547.13, 547.33, 547.98, 547.98, 547.98, 547.98, 548.35, 549.59, 549.89, 550.21, 550.62, 550.62, 550.73, 551.04, 551.73, 551.94, 552.2, 553.43, 553.48, 553.71, 554.09, 554.16, 554.36, 554.89, 554.89, 556.07, 556.68, 557.85, 557.85, 557.85, 558.07, 558.25, 558.43, 558.69, 558.7, 558.74, 559.32, 559.78, 560.19, 560.63, 560.77, 562.39, 562.58, 562.77, 562.91, 562.92, 563.24, 564.26, 564.63, 565.29, 565.29, 565.36, 565.46, 565.9, 566.11, 566.11, 566.14, 566.6, 567.36, 567.5, 567.62, 568.29, 568.52, 569.16, 570.34, 570.58, 570.94, 571.33, 572.68, 572.68, 573.3, 573.69, 573.75, 574.27, 575.17, 575.56, 575.56, 575.6, 576.66, 577.33, 578.22, 578.38, 578.89, 579.77, 579.77, 579.81, 579.88, 580.34, 580.46, 581.79, 581.79, 581.85, 582.06, 582.22, 582.22, 582.3, 582.64, 583.56, 583.56, 584.08, 584.64, 585.13, 585.15, 585.21, 586.53, 587.43, 589.48, 590.31, 590.35, 590.4, 590.4, 591.2, 591.2, 592.94, 593.02, 593.62, 594.4, 595.39, 595.67, 595.68, 595.98, 595.99, 596.35, 596.89, 596.89, 597.21, 597.9, 598.33, 598.49, 599.16, 601.31, 601.31, 601.86, 602.12, 602.43, 602.69, 603.39, 603.71, 603.88, 604.46, 604.79, 604.79, 604.8, 604.8, 604.8, 604.8, 604.8, 605.24, 605.47, 606.11, 606.54, 606.89, 607.3, 608.05, 608.17, 608.25, 608.76, 609.1, 609.25, 610.03, 610.48, 610.88, 611.28, 611.72, 611.81, 612.23, 613.67, 614.39, 615.49, 615.83, 617.14, 617.14, 617.15, 617.82, 617.82, 617.82, 617.82, 617.82, 618.14, 618.59, 618.86, 619.0, 619.18, 619.79, 621.0, 621.46, 621.49, 621.56, 621.56, 621.56, 621.74, 622.38, 622.52, 623.22, 623.32, 623.46, 623.94, 624.59, 624.63, 625.39, 625.88, 626.0, 626.26, 626.59, 626.71, 627.18, 627.35, 627.35, 627.88, 628.84, 628.94, 629.16, 629.18, 629.49, 630.0, 630.33, 630.98, 631.11, 631.11, 631.34, 631.65, 631.92, 632.72, 633.13, 633.38, 633.5, 634.03, 634.06, 635.13, 635.6, 635.64, 636.11, 636.27, 636.68, 637.35, 637.38, 637.38, 637.78, 638.45, 638.45, 638.45, 639.75, 640.35, 640.38, 640.43, 640.68, 641.44, 641.44, 642.32, 642.32, 642.74, 643.02, 643.87, 644.23, 644.58, 645.0, 645.25, 645.51, 646.94, 648.29, 648.38, 650.04, 650.27, 651.01, 651.29, 652.39, 652.79, 652.79, 652.91, 653.3, 654.25, 654.92, 655.2, 656.5, 657.29, 657.71, 658.23, 658.45, 659.58, 660.23, 660.75, 661.31, 661.37, 661.5, 662.44, 663.68, 666.58, 666.85, 668.11, 668.12, 669.2, 669.2, 669.29, 670.0, 672.2, 672.53, 672.65, 672.72, 672.98, 673.23, 673.83, 675.19, 675.51, 675.51, 675.8, 676.46, 676.77, 676.79, 677.78, 678.2, 678.51, 679.32, 679.32, 679.73, 679.75, 680.25, 680.57, 681.31, 681.48, 681.55, 682.86, 683.21, 683.25, 683.25, 683.47, 684.06, 684.3, 684.41, 684.42, 685.92, 687.1, 688.01, 688.01, 689.54, 689.66, 690.57, 691.3, 691.36, 691.36, 691.87, 692.4, 692.4, 693.75, 694.17, 694.37, 694.65, 695.62, 696.3, 696.87, 697.23, 698.63, 699.69, 699.69, 699.69, 699.91, 700.3, 702.52, 703.32, 703.32, 704.46, 705.38, 705.54, 705.54, 705.98, 706.55, 706.55, 707.45, 707.62, 708.52, 708.53, 708.89, 709.65, 709.69, 709.82, 710.94, 711.17, 712.07, 712.44, 712.45, 712.45, 712.49, 712.68, 713.73, 713.96, 714.21, 714.81, 714.82, 715.19, 715.57, 716.15, 716.23, 717.09, 717.86, 717.92, 717.94, 719.48, 719.84, 721.07, 721.23, 721.39, 721.45, 722.69, 723.69, 724.08, 724.57, 724.67, 724.7, 724.76, 724.76, 725.84, 726.29, 727.46, 727.72, 727.72, 727.91, 728.47, 728.52, 728.52, 728.74, 729.0, 729.65, 730.02, 730.02, 730.02, 730.02, 730.39, 730.39, 730.41, 730.41, 731.08, 731.71, 732.32, 732.32, 732.7, 732.79, 732.92, 732.99, 733.62, 733.62, 733.94, 735.95, 737.13, 737.13, 737.15, 737.91, 738.12, 738.56, 738.68, 738.68, 739.84, 739.94, 740.28, 740.34, 741.0, 741.69, 742.02, 742.86, 743.64, 744.27, 745.04, 746.4, 746.41, 747.0, 747.03, 750.99, 752.55, 753.36, 754.63, 755.33, 756.36, 756.37, 757.35, 758.04, 758.22, 758.84, 759.0, 759.46, 762.41, 763.29, 763.32, 763.39, 763.39, 763.42, 763.59, 764.97, 765.23, 765.63, 765.89, 766.16, 766.16, 766.23, 766.74, 767.14, 767.14, 767.29, 767.29, 767.29, 768.07, 768.66, 768.83, 769.23, 769.51, 771.16, 771.79, 772.78, 776.31, 776.46, 776.7, 776.72, 776.99, 777.13, 777.22, 777.81, 778.5, 782.52, 782.52, 783.74, 784.48, 784.94, 786.16, 786.16, 786.45, 787.1, 787.23, 787.4, 787.98, 789.29, 791.4, 791.86, 792.59, 792.96, 794.74, 794.9, 794.98, 794.98, 795.86, 796.02, 796.5, 796.65, 796.72, 796.92, 796.92, 797.12, 797.14, 797.28, 799.48, 799.67, 799.67, 799.67, 800.12, 802.93, 803.4, 803.43, 804.62, 804.62, 804.8, 804.87, 807.54, 807.67, 807.9, 808.65, 809.35, 809.64, 811.67, 812.12, 812.12, 812.21, 812.21, 814.15, 814.37, 815.16, 815.75, 815.75, 815.75, 815.75, 818.44, 820.11, 820.12, 821.81, 822.46, 822.76, 822.86, 822.87, 823.93, 826.26, 826.31, 826.42, 827.1, 827.95, 829.0, 829.24, 829.29, 829.29, 833.37, 833.37, 833.72, 833.74, 833.76, 834.23, 834.72, 835.33, 835.36, 835.38, 836.44, 836.44, 836.66, 836.76, 837.22, 837.23, 838.09, 838.11, 838.36, 838.44, 839.01, 839.02, 839.23, 839.45, 839.46, 839.9, 841.13, 841.76, 842.14, 843.36, 844.18, 845.65, 846.22, 846.59, 846.59, 846.95, 847.66, 848.29, 848.29, 848.43, 848.91, 848.91, 848.93, 850.01, 850.55, 850.71, 851.6, 852.49, 853.55, 854.21, 854.35, 854.53, 854.57, 854.89, 855.62, 855.62, 855.99, 856.61, 858.53, 860.47, 860.83, 860.84, 861.28, 861.41, 861.82, 861.84, 862.8, 868.65, 869.56, 870.71, 870.71, 873.33, 873.34, 873.35, 873.91, 876.82, 876.82, 876.95, 877.3, 877.64, 877.64, 878.16, 878.42, 879.01, 880.32, 882.76, 882.86, 885.0, 886.3, 886.31, 886.33, 886.35, 886.51, 889.44, 889.45, 889.59, 890.94, 890.95, 891.91, 892.35, 892.35, 893.35, 893.47, 893.79, 893.79, 893.79, 896.08, 896.29, 896.32, 896.32, 897.3, 897.55, 897.77, 897.92, 898.54, 900.85, 901.05, 902.47, 904.03, 904.4, 904.61, 905.56, 905.95, 905.98, 905.98, 906.01, 908.21, 908.7, 909.14, 909.14, 909.29, 910.64, 912.0, 913.16, 914.21, 914.61, 914.61, 915.58, 915.58, 915.86, 915.86, 916.26, 916.29, 916.43, 917.18, 918.2, 920.95, 921.74, 923.19, 923.2, 923.2, 924.62, 925.16, 926.05, 926.11, 926.11, 926.15, 926.17, 926.94, 927.3, 927.85, 927.93, 929.9, 930.07, 930.35, 930.35, 930.89, 932.19, 932.25, 933.46, 933.6, 933.91, 934.98, 935.5, 935.75, 936.42, 936.42, 936.62, 936.63, 940.21, 941.17, 941.47, 942.43, 942.56, 942.83, 943.3, 945.9, 945.91, 946.72, 950.64, 950.92, 950.92, 950.92, 952.1, 952.12, 952.17, 952.9, 955.11, 956.22, 957.16, 957.76, 957.87, 958.27, 958.41, 959.75, 959.75, 960.82, 962.22, 962.22, 962.36, 962.51, 962.51, 962.9, 962.9, 963.13, 963.53, 963.76, 964.89, 965.34, 966.24, 966.35, 968.72, 969.73, 969.9, 971.98, 972.65, 976.36, 976.82, 976.87, 977.35, 977.35, 978.33, 983.09, 983.65, 983.65, 983.99, 984.3, 984.88, 984.9, 984.9, 987.26, 988.13, 989.5, 989.51, 989.74, 990.42, 990.53, 990.7, 991.01, 991.1, 992.05, 992.19, 992.27, 992.27, 992.3, 993.02, 994.13, 994.24, 994.24, 994.5, 994.5, 997.29, 997.43, 999.65, 999.89, 1001.37, 1001.38, 1002.06, 1002.23, 1003.73, 1005.96, 1006.8, 1007.01, 1007.17, 1007.58, 1009.33, 1009.56, 1009.71, 1009.88, 1011.05, 1012.6, 1015.22, 1015.22, 1015.22, 1016.12, 1016.54, 1017.95, 1018.01, 1018.65, 1019.0, 1019.64, 1020.1, 1020.15, 1020.46, 1020.49, 1020.52, 1020.77, 1022.2, 1023.98, 1026.98, 1026.98, 1028.25, 1029.65, 1029.91, 1030.29, 1032.26, 1037.3, 1037.88, 1038.28, 1039.28, 1039.37, 1040.63, 1041.09, 1042.41, 1042.5, 1043.7, 1044.88, 1045.58, 1045.84, 1048.56, 1048.56, 1048.56, 1050.41, 1053.79, 1053.84, 1055.97, 1056.33, 1056.39, 1057.18, 1058.73, 1059.66, 1066.25, 1068.05, 1069.04, 1069.04, 1069.04, 1069.36, 1069.47, 1070.3, 1070.3, 1070.54, 1070.88, 1071.07, 1071.18, 1071.92, 1072.29, 1072.79, 1073.76, 1076.75, 1078.59, 1081.61, 1082.28, 1082.53, 1083.7, 1083.71, 1083.86, 1084.43, 1084.58, 1084.91, 1085.13, 1085.94, 1088.65, 1088.71, 1088.72, 1089.06, 1089.4, 1089.96, 1091.25, 1091.82, 1092.0, 1092.85, 1093.12, 1094.63, 1096.44, 1097.26, 1098.85, 1098.85, 1099.13, 1099.23, 1100.64, 1101.02, 1102.27, 1102.75, 1103.75, 1106.08, 1107.53, 1107.56, 1107.57, 1109.56, 1109.79, 1109.79, 1110.6, 1110.6, 1110.6, 1110.6, 1111.3, 1111.42, 1113.39, 1114.1, 1115.02, 1116.92, 1117.3, 1117.57, 1120.45, 1120.56, 1123.04, 1123.17, 1123.62, 1123.7, 1125.3, 1125.58, 1128.29, 1128.5, 1129.26, 1129.26, 1129.26, 1129.26, 1129.64, 1130.04, 1131.01, 1132.35, 1132.86, 1132.94, 1133.23, 1133.91, 1134.07, 1134.74, 1136.43, 1138.41, 1139.76, 1142.6, 1143.27, 1143.27, 1143.52, 1143.53, 1143.63, 1145.4, 1145.4, 1145.4, 1146.69, 1146.69, 1148.54, 1148.55, 1148.6, 1150.56, 1150.78, 1150.78, 1151.9, 1156.77, 1157.4, 1158.0, 1159.21, 1159.64, 1160.91, 1160.91, 1162.82, 1162.82, 1163.04, 1163.59, 1165.65, 1167.43, 1169.16, 1169.16, 1169.16, 1169.73, 1170.28, 1171.51, 1172.03, 1172.69, 1173.32, 1175.18, 1175.81, 1176.46, 1176.84, 1177.59, 1180.48, 1180.49, 1182.46, 1183.17, 1184.14, 1185.2, 1185.98, 1187.57, 1187.57, 1187.89, 1187.99, 1188.45, 1191.36, 1192.07, 1192.32, 1195.56, 1197.85, 1203.57, 1204.35, 1205.98, 1207.25, 1210.16, 1210.48, 1210.96, 1211.35, 1211.81, 1211.89, 1211.89, 1212.91, 1214.35, 1214.35, 1219.44, 1221.3, 1222.55, 1222.86, 1223.91, 1224.02, 1226.91, 1227.8, 1227.8, 1228.49, 1230.16, 1230.56, 1233.79, 1238.9, 1240.17, 1241.37, 1242.13, 1242.14, 1244.21, 1244.78, 1245.4, 1246.64, 1246.92, 1247.74, 1248.65, 1250.01, 1250.86, 1251.2, 1251.77, 1251.81, 1252.88, 1254.66, 1255.91, 1256.19, 1257.81, 1258.37, 1258.39, 1258.86, 1258.96, 1260.9, 1263.87, 1263.87, 1265.33, 1265.33, 1266.42, 1266.84, 1267.21, 1269.89, 1269.89, 1271.04, 1271.19, 1271.25, 1271.34, 1271.38, 1271.45, 1272.53, 1274.74, 1275.76, 1275.76, 1277.21, 1277.22, 1277.33, 1279.5, 1282.0, 1283.71, 1284.17, 1286.12, 1286.12, 1287.52, 1289.56, 1290.62, 1290.62, 1291.57, 1291.66, 1291.94, 1292.01, 1292.01, 1294.99, 1298.2, 1299.09, 1300.1, 1305.61, 1305.87, 1309.86, 1310.81, 1312.98, 1314.65, 1315.47, 1315.51, 1316.76, 1317.98, 1318.9, 1320.47, 1321.08, 1321.7, 1323.02, 1324.31, 1324.88, 1325.49, 1327.4, 1327.41, 1327.94, 1334.09, 1335.54, 1336.24, 1338.62, 1338.81, 1342.84, 1344.95, 1345.65, 1345.65, 1346.34, 1347.2, 1347.7, 1348.85, 1348.85, 1352.66, 1353.13, 1354.54, 1356.05, 1357.79, 1358.24, 1359.44, 1360.11, 1360.5, 1362.14, 1362.63, 1363.55, 1363.55, 1363.55, 1363.55, 1363.74, 1366.94, 1369.16, 1369.36, 1376.74, 1378.07, 1378.25, 1380.81, 1385.08, 1385.29, 1387.07, 1387.46, 1388.52, 1390.19, 1391.77, 1392.2, 1392.72, 1393.79, 1394.48, 1396.29, 1399.62, 1400.21, 1400.37, 1400.68, 1406.64, 1406.64, 1410.38, 1410.76, 1410.77, 1412.27, 1412.27, 1415.36, 1416.0, 1416.16, 1416.9, 1417.05, 1417.07, 1418.86, 1419.67, 1419.67, 1423.68, 1425.64, 1425.72, 1425.72, 1425.72, 1425.79, 1426.32, 1426.39, 1426.39, 1426.39, 1428.73, 1429.28, 1430.87, 1432.27, 1437.74, 1438.09, 1442.91, 1445.68, 1445.69, 1446.2, 1446.2, 1446.2, 1446.2, 1446.98, 1449.44, 1449.44, 1449.46, 1450.95, 1452.56, 1455.51, 1455.52, 1456.92, 1457.06, 1457.06, 1457.3, 1458.02, 1460.31, 1461.73, 1463.44, 1464.78, 1464.8, 1464.87, 1467.24, 1467.24, 1468.67, 1469.88, 1470.34, 1470.34, 1473.03, 1474.65, 1477.21, 1478.04, 1479.68, 1479.89, 1480.07, 1481.37, 1482.03, 1482.95, 1484.03, 1484.54, 1488.09, 1488.72, 1490.88, 1491.19, 1495.21, 1495.37, 1495.43, 1501.62, 1502.99, 1510.48, 1510.59, 1512.19, 1512.19, 1512.19, 1512.29, 1514.72, 1514.72, 1514.72, 1516.31, 1518.75, 1518.82, 1519.04, 1521.22, 1523.45, 1524.18, 1524.18, 1524.27, 1524.27, 1524.27, 1524.62, 1524.8, 1527.2, 1528.02, 1528.02, 1530.78, 1530.79, 1531.26, 1532.47, 1533.42, 1534.29, 1534.29, 1534.57, 1534.57, 1534.57, 1537.5, 1537.52, 1537.64, 1538.68, 1538.68, 1538.73, 1539.06, 1541.39, 1541.66, 1545.45, 1545.57, 1547.45, 1548.39, 1549.09, 1549.91, 1549.91, 1549.91, 1549.91, 1553.46, 1554.71, 1555.21, 1555.8, 1555.95, 1558.04, 1560.44, 1561.78, 1562.37, 1563.28, 1567.48, 1576.5, 1578.3, 1579.81, 1579.81, 1582.16, 1582.16, 1582.56, 1583.84, 1584.08, 1584.51, 1584.51, 1585.2, 1585.31, 1585.96, 1589.81, 1591.97, 1592.04, 1592.05, 1594.43, 1595.42, 1596.85, 1596.85, 1596.9, 1596.9, 1596.92, 1596.95, 1597.54, 1599.33, 1599.33, 1599.33, 1599.33, 1602.84, 1605.85, 1606.76, 1607.38, 1609.23, 1609.52, 1609.52, 1610.51, 1613.05, 1613.1, 1613.1, 1615.07, 1616.73, 1616.73, 1616.73, 1616.73, 1617.27, 1617.28, 1617.36, 1618.02, 1624.94, 1624.94, 1626.89, 1629.38, 1629.38, 1629.38, 1629.38, 1633.61, 1633.97, 1634.1, 1636.75, 1638.51, 1639.01, 1639.01, 1640.15, 1641.08, 1652.5, 1653.43, 1655.45, 1659.11, 1660.49, 1660.49, 1663.82, 1663.82, 1663.84, 1663.84, 1664.45, 1667.99, 1668.48, 1670.76, 1670.76, 1670.92, 1670.95, 1672.6, 1673.53, 1674.44, 1674.94, 1675.12, 1677.22, 1678.06, 1684.33, 1684.43, 1686.71, 1690.72, 1696.6, 1696.6, 1696.66, 1696.66, 1696.86, 1697.24, 1697.77, 1698.43, 1700.86, 1700.93, 1703.96, 1707.29, 1707.62, 1710.89, 1712.87, 1713.73, 1714.01, 1714.28, 1717.69, 1718.9, 1720.3, 1722.54, 1728.45, 1729.48, 1731.98, 1736.11, 1736.11, 1745.56, 1747.73, 1747.73, 1749.09, 1750.11, 1750.11, 1750.11, 1751.64, 1752.6, 1752.71, 1752.91, 1754.99, 1755.01, 1759.69, 1760.78, 1763.59, 1765.45, 1765.74, 1767.28, 1771.59, 1774.17, 1774.17, 1774.19, 1774.2, 1778.88, 1782.34, 1783.64, 1783.64, 1784.78, 1784.78, 1787.16, 1787.58, 1787.58, 1788.46, 1795.83, 1795.83, 1795.83, 1798.73, 1802.98, 1803.47, 1804.45, 1809.94, 1812.42, 1814.6, 1814.6, 1816.1, 1816.12, 1817.45, 1819.6, 1820.68, 1821.3, 1823.32, 1828.39, 1831.0, 1831.17, 1831.17, 1832.55, 1833.75, 1833.86, 1833.94, 1833.96, 1842.52, 1845.63, 1848.95, 1849.24, 1852.04, 1852.14, 1858.55, 1863.7, 1872.83, 1872.83, 1872.88, 1872.88, 1873.01, 1873.3, 1873.91, 1875.74, 1875.74, 1880.85, 1883.57, 1883.64, 1884.44, 1887.51, 1888.92, 1888.92, 1891.09, 1891.81, 1891.82, 1891.83, 1891.86, 1901.85, 1901.85, 1901.85, 1903.09, 1903.09, 1904.33, 1904.33, 1904.34, 1905.18, 1905.18, 1905.45, 1905.45, 1905.82, 1911.02, 1913.29, 1914.44, 1917.99, 1930.91, 1932.01, 1932.67, 1933.37, 1934.13, 1934.38, 1939.69, 1939.69, 1943.96, 1945.79, 1948.62, 1948.62, 1948.62, 1952.91, 1956.71, 1956.85, 1963.57, 1963.57, 1964.94, 1964.94, 1967.86, 1974.53, 1975.53, 1975.54, 1975.55, 1976.41, 1976.92, 1983.97, 1985.45, 1985.57, 1985.58, 1985.76, 1988.95, 1988.95, 1991.38, 1994.88, 2002.74, 2003.06, 2003.06, 2007.63, 2007.63, 2011.15, 2015.16, 2015.65, 2018.18, 2019.76, 2019.85, 2026.09, 2029.39, 2029.93, 2029.93, 2033.13, 2036.03, 2041.05, 2042.42, 2043.94, 2050.41, 2059.31, 2059.84, 2060.6, 2061.51, 2064.51, 2077.84, 2077.96, 2079.63, 2083.74, 2085.1, 2087.45, 2087.75, 2088.33, 2090.61, 2091.7, 2097.12, 2098.73, 2106.46, 2106.46, 2108.67, 2109.36, 2109.96, 2109.96, 2113.4, 2117.45, 2118.35, 2118.62, 2118.86, 2125.08, 2125.08, 2125.2, 2125.2, 2125.2, 2125.2, 2131.29, 2139.67, 2139.67, 2140.6, 2140.6, 2147.04, 2147.95, 2150.38, 2153.19, 2153.22, 2154.36, 2154.36, 2154.87, 2160.07, 2160.07, 2163.23, 2163.94, 2163.94, 2168.09, 2168.1, 2169.18, 2171.11, 2171.97, 2173.27, 2174.41, 2178.79, 2182.51, 2186.67, 2193.4, 2193.4, 2193.4, 2200.79, 2203.3, 2212.2, 2215.78, 2216.64, 2219.1, 2219.87, 2226.14, 2226.8, 2227.52, 2233.95, 2234.7, 2234.7, 2235.45, 2237.47, 2241.93, 2243.26, 2244.43, 2245.54, 2257.53, 2261.99, 2261.99, 2267.38, 2267.62, 2270.21, 2271.26, 2271.26, 2278.24, 2278.63, 2281.62, 2286.38, 2287.06, 2289.55, 2290.78, 2297.97, 2302.39, 2305.66, 2308.41, 2313.55, 2314.8, 2315.41, 2315.42, 2319.37, 2321.83, 2323.24, 2325.1, 2326.31, 2330.29, 2330.72, 2333.08, 2335.66, 2336.54, 2338.35, 2338.35, 2338.35, 2340.65, 2341.63, 2353.78, 2353.78, 2363.43, 2364.78, 2365.42, 2365.42, 2365.42, 2365.42, 2367.65, 2376.19, 2376.19, 2376.45, 2377.76, 2380.29, 2381.24, 2382.09, 2382.48, 2388.93, 2389.73, 2390.35, 2390.35, 2391.63, 2392.58, 2392.58, 2396.29, 2396.33, 2396.33, 2396.38, 2396.38, 2396.7, 2408.29, 2408.78, 2413.84, 2415.59, 2416.96, 2425.8, 2432.74, 2435.51, 2438.74, 2440.36, 2441.58, 2441.58, 2442.14, 2445.99, 2448.39, 2451.93, 2456.6, 2456.78, 2461.1, 2461.69, 2466.92, 2470.33, 2471.3, 2471.3, 2471.31, 2473.08, 2473.85, 2474.12, 2474.12, 2474.12, 2478.81, 2482.03, 2484.87, 2484.87, 2488.12, 2493.83, 2497.9, 2502.43, 2505.97, 2511.44, 2519.04, 2520.06, 2525.5, 2527.04, 2530.53, 2532.55, 2535.66, 2535.66, 2549.1, 2551.96, 2554.4, 2554.4, 2569.12, 2580.04, 2581.31, 2581.36, 2595.2, 2617.83, 2633.52, 2633.77, 2633.77, 2633.81, 2633.81, 2633.93, 2645.49, 2645.49, 2648.35, 2649.77, 2664.85, 2666.13, 2668.59, 2672.63, 2672.63, 2676.55, 2685.18, 2685.69, 2693.4, 2700.08, 2700.92, 2700.92, 2705.32, 2725.25, 2729.54, 2729.54, 2733.87, 2745.62, 2746.92, 2761.02, 2761.67, 2770.62, 2774.57, 2774.57, 2777.04, 2782.54, 2786.89, 2792.87, 2798.94, 2799.3, 2800.73, 2813.28, 2813.28, 2815.71, 2821.53, 2821.54, 2824.29, 2824.29, 2824.29, 2825.04, 2830.73, 2832.15, 2834.15, 2834.16, 2836.48, 2837.76, 2851.48, 2851.55, 2851.85, 2852.77, 2852.77, 2852.77, 2856.51, 2858.38, 2858.74, 2868.14, 2875.91, 2885.0, 2896.3, 2896.34, 2910.32, 2910.8, 2910.8, 2923.47, 2928.8, 2929.75, 2931.77, 2937.33, 2938.9, 2942.82, 2944.91, 2944.91, 2944.91, 2944.91, 2950.98, 2952.44, 2959.37, 2960.41, 2965.89, 2965.92, 2974.57, 2980.05, 2984.54, 2986.61, 2993.05, 3000.43, 3004.14, 3011.06, 3014.68, 3023.28, 3024.38, 3024.38, 3024.4, 3024.58, 3025.16, 3026.95, 3029.45, 3029.45, 3031.05, 3034.05, 3034.23, 3035.32, 3035.32, 3035.32, 3035.32, 3035.34, 3037.94, 3039.3, 3039.3, 3039.66, 3041.49, 3042.66, 3042.66, 3046.5, 3051.0, 3051.55, 3051.71, 3066.83, 3071.82, 3071.82, 3071.82, 3071.82, 3074.89, 3084.23, 3084.23, 3084.23, 3084.23, 3096.1, 3096.14, 3098.2, 3100.0, 3101.96, 3102.54, 3107.79, 3108.51, 3111.57, 3112.56, 3120.87, 3125.39, 3127.89, 3152.13, 3152.13, 3153.03, 3153.03, 3153.06, 3168.17, 3171.33, 3177.4, 3184.12, 3191.35, 3192.83, 3192.83, 3197.08, 3202.99, 3208.11, 3208.73, 3217.2, 3225.18, 3236.07, 3236.07, 3236.57, 3240.55, 3241.6, 3243.67, 3244.99, 3251.33, 3251.84, 3255.4, 3255.41, 3267.22, 3267.22, 3272.33, 3273.76, 3273.76, 3273.76, 3282.16, 3292.83, 3305.33, 3313.1, 3313.1, 3315.58, 3315.58, 3317.13, 3317.15, 3335.25, 3336.01, 3340.21, 3341.69, 3341.86, 3342.7, 3346.05, 3346.06, 3346.06, 3346.55, 3351.72, 3381.51, 3381.51, 3381.51, 3384.89, 3387.86, 3387.86, 3389.87, 3392.96, 3394.63, 3395.55, 3395.57, 3409.53, 3414.58, 3417.35, 3425.62, 3441.09, 3441.09, 3443.6, 3448.12, 3457.69, 3460.26, 3462.39, 3495.2, 3499.47, 3502.6, 3504.19, 3509.67, 3535.89, 3540.07, 3540.09, 3540.38, 3541.02, 3541.79, 3541.79, 3556.69, 3557.34, 3557.56, 3567.68, 3572.79, 3574.22, 3574.22, 3602.18, 3605.39, 3618.11, 3621.44, 3621.44, 3642.36, 3647.04, 3650.0, 3653.85, 3667.57, 3669.45, 3674.29, 3685.04, 3686.66, 3691.27, 3694.67, 3697.88, 3707.41, 3720.67, 3729.21, 3731.5, 3736.31, 3747.37, 3754.88, 3758.88, 3760.15, 3769.31, 3770.0, 3775.96, 3775.96, 3783.67, 3783.73, 3786.81, 3801.16, 3802.01, 3803.69, 3803.69, 3808.91, 3810.53, 3810.53, 3821.95, 3829.48, 3830.03, 3843.8, 3851.35, 3872.05, 3877.5, 3877.5, 3878.62, 3892.27, 3892.27, 3892.99, 3893.5, 3909.29, 3920.68, 3920.68, 3927.16, 3927.16, 3929.85, 3929.85, 3948.07, 3951.09, 3951.1, 3960.2, 3964.75, 3971.04, 3971.27, 3971.33, 3978.34, 3981.03, 3989.73, 3999.42, 4014.5, 4014.95, 4014.95, 4014.96, 4022.87, 4023.98, 4038.26, 4052.01, 4054.82, 4054.82, 4059.81, 4061.08, 4061.08, 4062.1, 4063.89, 4079.08, 4087.87, 4097.34, 4102.38, 4118.6, 4129.04, 4129.04, 4131.35, 4134.07, 4134.89, 4134.89, 4144.52, 4155.68, 4155.68, 4159.27, 4176.9, 4182.98, 4183.34, 4192.23, 4197.91, 4208.23, 4219.91, 4219.91, 4225.4, 4225.92, 4225.93, 4237.69, 4243.21, 4248.73, 4253.22, 4260.23, 4272.62, 4272.67, 4272.83, 4272.87, 4273.18, 4282.82, 4284.34, 4284.34, 4284.34, 4286.67, 4294.71, 4300.83, 4302.64, 4304.88, 4306.42, 4308.11, 4322.56, 4334.53, 4345.05, 4345.05, 4345.05, 4345.05, 4346.83, 4346.84, 4346.86, 4346.87, 4350.54, 4350.54, 4350.54, 4374.7, 4380.78, 4392.68, 4395.06, 4401.71, 4401.71, 4406.61, 4408.36, 4421.67, 4431.55, 4439.68, 4453.62, 4456.54, 4467.34, 4474.64, 4483.03, 4486.5, 4517.44, 4517.44, 4533.04, 4535.21, 4535.21, 4544.18, 4544.18, 4544.18, 4562.96, 4570.05, 4570.05, 4570.05, 4570.05, 4585.6, 4594.16, 4602.86, 4602.86, 4626.72, 4629.62, 4630.85, 4634.11, 4635.65, 4652.05, 4652.28, 4669.75, 4669.75, 4672.56, 4679.15, 4679.21, 4679.21, 4687.17, 4688.84, 4694.69, 4729.55, 4729.55, 4729.55, 4735.29, 4736.68, 4760.58, 4763.28, 4763.29, 4768.65, 4770.02, 4774.6, 4780.69, 4780.69, 4783.28, 4786.53, 4793.17, 4816.58, 4822.16, 4831.18, 4849.73, 4851.96, 4857.71, 4857.71, 4865.83, 4871.79, 4871.83, 4883.06, 4888.3, 4914.04, 4934.05, 4942.01, 4948.28, 4948.28, 4960.32, 4974.67, 4978.11, 4987.67, 4989.72, 4995.57, 4997.32, 5004.01, 5006.76, 5006.76, 5010.68, 5011.89, 5034.77, 5035.36, 5054.39, 5085.25, 5090.04, 5102.34, 5111.37, 5119.39, 5142.24, 5156.71, 5226.25, 5271.74, 5293.99, 5298.57, 5299.55, 5341.44, 5370.38, 5371.36, 5371.62, 5371.62, 5371.62, 5371.62, 5371.62, 5410.25, 5410.64, 5410.64, 5410.64, 5410.64, 5419.55, 5450.51, 5454.97, 5460.0, 5488.58, 5502.16, 5504.19, 5504.45, 5504.45, 5504.56, 5528.6, 5553.01, 5553.01, 5565.16, 5568.78, 5572.33, 5585.77, 5586.1, 5586.8, 5587.88, 5598.24, 5600.57, 5626.56, 5626.56, 5643.08, 5675.6, 5680.15, 5705.54, 5705.54, 5746.59, 5790.84, 5812.76, 5821.61, 5829.63, 5846.69, 5876.79, 5876.79, 5876.79, 5876.79, 5876.79, 5881.01, 5881.01, 5892.36, 5892.36, 5892.36, 5892.37, 5896.45, 5955.94, 5956.24, 5967.2, 5980.19, 5995.8, 5995.8, 6008.21, 6013.23, 6013.23, 6018.73, 6022.44, 6045.49, 6068.1, 6068.46, 6075.91, 6078.62, 6085.33, 6085.33, 6112.4, 6117.73, 6118.29, 6120.98, 6122.24, 6123.76, 6125.09, 6129.16, 6129.16, 6130.04, 6133.67, 6138.51, 6154.6, 6163.72, 6168.43, 6168.43, 6168.43, 6168.43, 6173.89, 6184.62, 6187.05, 6205.06, 6207.21, 6220.26, 6222.55, 6225.11, 6232.84, 6238.9, 6245.63, 6252.03, 6254.28, 6303.53, 6304.61, 6306.13, 6306.13, 6306.22, 6309.42, 6336.33, 6368.27, 6368.27, 6385.66, 6425.42, 6445.67, 6450.37, 6457.91, 6458.33, 6472.16, 6472.16, 6480.98, 6501.43, 6503.98, 6504.28, 6505.46, 6505.46, 6573.33, 6599.98, 6632.99, 6632.99, 6632.99, 6632.99, 6677.7, 6680.41, 6682.52, 6687.37, 6687.48, 6715.59, 6715.59, 6739.65, 6775.61, 6785.95, 6785.95, 6785.95, 6785.95, 6785.95, 6785.95, 6785.95, 6785.95, 6785.95, 6802.82, 6802.82, 6802.82, 6802.82, 6856.1, 6887.71, 6941.97, 6971.63, 7001.05, 7003.33, 7042.51, 7051.59, 7051.93, 7080.16, 7092.26, 7114.69, 7167.9, 7184.16, 7184.16, 7184.16, 7184.16, 7184.16, 7184.16, 7184.16, 7184.16, 7210.79, 7284.72, 7284.72, 7310.83, 7371.36, 7377.45, 7386.09, 7441.93, 7452.0, 7464.58, 7481.5, 7509.76, 7567.47, 7608.17, 7621.06, 7658.63, 7687.61, 7699.74, 7755.02, 7755.02, 7757.25, 7778.94, 7882.59, 7939.36, 7942.28, 7979.49, 7997.27, 7998.88, 8035.12, 8084.59, 8086.4, 8091.63, 8091.63, 8091.63, 8091.63, 8109.65, 8109.65, 8172.38, 8175.75, 8191.02, 8222.8, 8237.23, 8240.75, 8240.75, 8240.77, 8249.95, 8251.18, 8260.57, 8267.21, 8268.8, 8292.83, 8292.89, 8311.34, 8324.07, 8324.07, 8354.79, 8439.83, 8439.83, 8451.63, 8451.86, 8451.88, 8461.43, 8464.61, 8504.29, 8527.38, 8543.19, 8543.79, 8543.79, 8545.25, 8545.67, 8578.39, 8592.48, 8595.24, 8711.74, 8733.69, 8749.39, 8869.2, 8910.04, 8954.2, 9047.72, 9047.72, 9059.75, 9077.89, 9080.85, 9098.27, 9125.17, 9125.49, 9134.07, 9211.62, 9243.43, 9244.78, 9261.71, 9275.61, 9360.0, 9367.13, 9373.98, 9411.89, 9431.4, 9432.94, 9459.2, 9459.2, 9521.21, 9522.27, 9537.32, 9559.28, 9586.85, 9633.17, 9634.58, 9657.78, 9691.59, 9801.67, 9866.32, 9867.87, 10000.23, 10000.23, 10063.33, 10063.56, 10063.57, 10099.31, 10101.61, 10161.78, 10161.78, 10163.41, 10177.61, 10180.12, 10204.22, 10204.22, 10204.22, 10204.22, 10319.92, 10320.33, 10321.59, 10354.99, 10434.88, 10435.5, 10496.53, 10538.42, 10598.07, 10649.6, 10649.6, 10672.04, 10682.34, 10682.34, 10683.71, 10726.34, 10773.6, 10873.81, 10908.74, 10931.35, 10941.11, 11009.16, 11020.65, 11075.7, 11130.34, 11132.33, 11338.6, 11339.08, 11419.18, 11512.1, 11632.52, 11632.52, 11635.86, 11730.27, 11741.47, 11753.59, 11753.59, 11753.59, 11778.91, 11925.13, 11934.41, 11969.23, 11995.74, 11995.74, 11995.74, 12219.18, 12241.94, 12241.94, 12247.53, 12251.81, 12252.24, 12286.15, 12286.15, 12355.84, 12374.9, 12586.05, 12603.99, 12612.45, 12635.26, 12672.66, 12772.13, 12780.83, 12843.09, 12846.21, 12869.13, 12906.27, 12972.45, 12972.45, 12972.45, 13002.88, 13089.64, 13385.93, 13391.46, 13391.46, 13391.46, 13488.7, 13488.7, 13492.16, 13550.12, 13551.28, 13551.31, 13605.63, 13605.63, 13669.39, 13734.79, 13743.91, 13743.91, 13743.91, 13743.91, 13825.07, 13825.07, 13825.07, 13995.35, 13997.9, 14084.69, 14160.35, 14229.39, 14364.13, 14366.02, 14371.66, 14569.46, 14637.19, 14753.79, 14772.19, 14903.99, 14905.19, 14905.19, 15032.13, 15055.31, 15209.85, 15213.57, 15214.03, 15321.96, 15481.89, 15482.4, 15482.4, 15482.4, 15482.4, 15635.55, 15638.44, 15765.34, 15874.72, 15891.49, 15997.77, 16059.79, 16059.79, 16129.39, 16172.81, 16180.14, 16234.24, 16312.92, 16417.42, 16558.08, 16660.47, 16660.47, 16762.89, 16792.93, 16815.36, 16903.29, 17158.83, 17288.41, 17317.0, 17523.77, 17617.44, 17617.44, 17617.44, 17617.44, 18110.04, 18161.7, 18441.38, 18448.86, 18454.2, 18454.2, 18489.56, 18667.11, 18667.11, 18699.49, 18865.59, 18918.68, 18918.68, 18988.01, 19074.58, 19107.93, 19118.59, 19152.18, 19601.32, 20198.6, 20360.23, 20639.83, 21299.17, 21363.33, 21364.37, 21848.2, 22544.46, 22544.46, 22806.69, 22806.69, 22807.11, 22863.24, 22983.97, 23304.17, 23483.88, 23557.82, 23777.67, 24351.36, 24483.89, 24503.95, 24585.34, 24988.52, 25078.42, 25544.06, 25615.09, 25647.59, 25813.64, 26111.82, 26707.2, 26707.2, 26921.39, 27469.58, 27838.86, 28242.83, 28321.17, 28680.42, 29325.67, 29482.24, 29507.58, 29820.07, 29820.07, 29820.07, 30066.11, 30066.11, 30162.04, 30162.04, 30765.48, 31247.6, 31271.09, 31276.87, 31531.14, 31749.43, 32264.5, 32345.58, 32360.29, 32360.73, 32360.73, 33457.52, 34210.67, 34369.93, 34727.67, 34773.38, 35676.39, 35676.39, 35828.64, 36979.13, 38240.57, 38240.58, 38779.0, 39096.11, 39536.09, 39994.26, 40822.7, 41986.09, 42254.03, 42726.66, 42728.76, 42853.17, 43000.57, 43072.48, 46554.17, 46915.33, 47651.59, 47796.46, 47987.49, 50326.76, 50900.57, 51554.9, 51591.42, 52921.11, 54047.01, 56344.28, 58964.46, 59020.43, 59669.06, 60128.6, 62519.57, 62553.76, 64721.44, 64721.44, 64721.55, 64721.55, 67261.45, 67443.49, 67443.49, 69901.79, 70373.0, 72417.6, 75388.37, 77411.3, 80900.72, 82928.27, 92343.75, 92343.75, 95949.72, 101801.14, 103453.72, 106828.79, 109241.0, 109878.37, 119757.41, 129443.1, 129443.11, 161803.61, 161803.61, 169032.83, 203602.28, 206907.44, 285605.72, 323607.74, 323607.75]\n"
          ],
          "name": "stdout"
        }
      ]
    },
    {
      "cell_type": "markdown",
      "metadata": {
        "id": "SfO4anmp3N7e"
      },
      "source": [
        "Selecionando os labotórios desejados para a análise"
      ]
    },
    {
      "cell_type": "code",
      "metadata": {
        "id": "YUWTJlujxwot"
      },
      "source": [
        "bayer = database.loc[database['LABORATORIO'] == 'BAYER S.A.']\n",
        "bristol = database.loc[database['LABORATORIO'] == 'BRISTOL-MYERS SQUIBB FARMAC_UTICA LTDA']\n",
        "janssen = database.loc[database['LABORATORIO'] == 'JANSSEN-CILAG FARMAC_UTICA LTDA']\n",
        "johnson = database.loc[database['LABORATORIO']==  'JOHNSON & JOHNSON INDUSTRIAL LTDA.']\n",
        "teuto = database.loc[database['LABORATORIO']==  'LABORAT_RIO TEUTO BRASILEIRO S/A']"
      ],
      "execution_count": null,
      "outputs": []
    },
    {
      "cell_type": "code",
      "metadata": {
        "colab": {
          "base_uri": "https://localhost:8080/"
        },
        "id": "VBusDYif4L5z",
        "outputId": "229c1097-0212-4d51-ab55-a5d374d32a20"
      },
      "source": [
        "bayer.info()"
      ],
      "execution_count": null,
      "outputs": [
        {
          "output_type": "stream",
          "text": [
            "<class 'pandas.core.frame.DataFrame'>\n",
            "Int64Index: 226 entries, 0 to 24944\n",
            "Data columns (total 7 columns):\n",
            " #   Column              Non-Null Count  Dtype  \n",
            "---  ------              --------------  -----  \n",
            " 0   SUBSTANCIA          226 non-null    object \n",
            " 1   CNPJ                226 non-null    object \n",
            " 2   LABORATORIO         226 non-null    object \n",
            " 3   APRESENTACAO        226 non-null    object \n",
            " 4   REGIME_DE_PRECO     226 non-null    object \n",
            " 5   PRECO_SEM_IMPOSTOS  226 non-null    float64\n",
            " 6   TARJA               226 non-null    object \n",
            "dtypes: float64(1), object(6)\n",
            "memory usage: 14.1+ KB\n"
          ],
          "name": "stdout"
        }
      ]
    },
    {
      "cell_type": "code",
      "metadata": {
        "colab": {
          "base_uri": "https://localhost:8080/"
        },
        "id": "th7qRzkr_dvP",
        "outputId": "a3a7b308-12c2-4315-8753-0aa70e476a59"
      },
      "source": [
        "bristol.info()"
      ],
      "execution_count": null,
      "outputs": [
        {
          "output_type": "stream",
          "text": [
            "<class 'pandas.core.frame.DataFrame'>\n",
            "Int64Index: 54 entries, 1 to 24228\n",
            "Data columns (total 7 columns):\n",
            " #   Column              Non-Null Count  Dtype  \n",
            "---  ------              --------------  -----  \n",
            " 0   SUBSTANCIA          54 non-null     object \n",
            " 1   CNPJ                54 non-null     object \n",
            " 2   LABORATORIO         54 non-null     object \n",
            " 3   APRESENTACAO        54 non-null     object \n",
            " 4   REGIME_DE_PRECO     54 non-null     object \n",
            " 5   PRECO_SEM_IMPOSTOS  54 non-null     float64\n",
            " 6   TARJA               54 non-null     object \n",
            "dtypes: float64(1), object(6)\n",
            "memory usage: 3.4+ KB\n"
          ],
          "name": "stdout"
        }
      ]
    },
    {
      "cell_type": "code",
      "metadata": {
        "colab": {
          "base_uri": "https://localhost:8080/"
        },
        "id": "Dix8roOx_Odf",
        "outputId": "f0ec572c-b96e-4ca9-a67e-c0a348d64389"
      },
      "source": [
        "janssen.info()"
      ],
      "execution_count": null,
      "outputs": [
        {
          "output_type": "stream",
          "text": [
            "<class 'pandas.core.frame.DataFrame'>\n",
            "Int64Index: 233 entries, 4 to 24808\n",
            "Data columns (total 7 columns):\n",
            " #   Column              Non-Null Count  Dtype  \n",
            "---  ------              --------------  -----  \n",
            " 0   SUBSTANCIA          233 non-null    object \n",
            " 1   CNPJ                233 non-null    object \n",
            " 2   LABORATORIO         233 non-null    object \n",
            " 3   APRESENTACAO        233 non-null    object \n",
            " 4   REGIME_DE_PRECO     233 non-null    object \n",
            " 5   PRECO_SEM_IMPOSTOS  233 non-null    float64\n",
            " 6   TARJA               233 non-null    object \n",
            "dtypes: float64(1), object(6)\n",
            "memory usage: 14.6+ KB\n"
          ],
          "name": "stdout"
        }
      ]
    },
    {
      "cell_type": "code",
      "metadata": {
        "colab": {
          "base_uri": "https://localhost:8080/"
        },
        "id": "-vbd34MA_-tV",
        "outputId": "03721f8a-0f8e-46f0-8484-fde998bd607b"
      },
      "source": [
        "johnson.info()"
      ],
      "execution_count": null,
      "outputs": [
        {
          "output_type": "stream",
          "text": [
            "<class 'pandas.core.frame.DataFrame'>\n",
            "Int64Index: 14 entries, 6154 to 22847\n",
            "Data columns (total 7 columns):\n",
            " #   Column              Non-Null Count  Dtype  \n",
            "---  ------              --------------  -----  \n",
            " 0   SUBSTANCIA          14 non-null     object \n",
            " 1   CNPJ                14 non-null     object \n",
            " 2   LABORATORIO         14 non-null     object \n",
            " 3   APRESENTACAO        14 non-null     object \n",
            " 4   REGIME_DE_PRECO     14 non-null     object \n",
            " 5   PRECO_SEM_IMPOSTOS  14 non-null     float64\n",
            " 6   TARJA               14 non-null     object \n",
            "dtypes: float64(1), object(6)\n",
            "memory usage: 896.0+ bytes\n"
          ],
          "name": "stdout"
        }
      ]
    },
    {
      "cell_type": "code",
      "metadata": {
        "colab": {
          "base_uri": "https://localhost:8080/"
        },
        "id": "hMAl21x3AMjR",
        "outputId": "f09360c5-2a1a-4e54-ba42-4582607dd0e5"
      },
      "source": [
        "teuto.info()"
      ],
      "execution_count": null,
      "outputs": [
        {
          "output_type": "stream",
          "text": [
            "<class 'pandas.core.frame.DataFrame'>\n",
            "Int64Index: 651 entries, 28 to 25209\n",
            "Data columns (total 7 columns):\n",
            " #   Column              Non-Null Count  Dtype  \n",
            "---  ------              --------------  -----  \n",
            " 0   SUBSTANCIA          651 non-null    object \n",
            " 1   CNPJ                651 non-null    object \n",
            " 2   LABORATORIO         651 non-null    object \n",
            " 3   APRESENTACAO        651 non-null    object \n",
            " 4   REGIME_DE_PRECO     651 non-null    object \n",
            " 5   PRECO_SEM_IMPOSTOS  651 non-null    float64\n",
            " 6   TARJA               651 non-null    object \n",
            "dtypes: float64(1), object(6)\n",
            "memory usage: 40.7+ KB\n"
          ],
          "name": "stdout"
        }
      ]
    },
    {
      "cell_type": "markdown",
      "metadata": {
        "id": "zads6FsD3jNi"
      },
      "source": [
        "Criando a lista dos Laboratórios"
      ]
    },
    {
      "cell_type": "code",
      "metadata": {
        "id": "nOEm7s7h3Vo5"
      },
      "source": [
        "laboratorios = [bayer, bristol, janssen, johnson, teuto]"
      ],
      "execution_count": null,
      "outputs": []
    },
    {
      "cell_type": "markdown",
      "metadata": {
        "id": "MNzvUQAI60IX"
      },
      "source": [
        "PERGUNTA 1: Qual é o preço do Medicamento Mais caro desses laboratórios?"
      ]
    },
    {
      "cell_type": "code",
      "metadata": {
        "colab": {
          "base_uri": "https://localhost:8080/",
          "height": 98
        },
        "id": "4HUMObT7ueOo",
        "outputId": "e460a37c-eff8-4fbd-c162-d7ecaa45714b"
      },
      "source": [
        "mais_caro = 0.0\n",
        "medicamento = None\n",
        "for laboratorio in laboratorios:\n",
        "  for preco in laboratorio['PRECO_SEM_IMPOSTOS']:    \n",
        "    if(preco>mais_caro):\n",
        "      mais_caro = preco\n",
        "      medicamento = laboratorio.loc[laboratorio['PRECO_SEM_IMPOSTOS']== preco]\n",
        "medicamento.head()"
      ],
      "execution_count": null,
      "outputs": [
        {
          "output_type": "execute_result",
          "data": {
            "text/html": [
              "<div>\n",
              "<style scoped>\n",
              "    .dataframe tbody tr th:only-of-type {\n",
              "        vertical-align: middle;\n",
              "    }\n",
              "\n",
              "    .dataframe tbody tr th {\n",
              "        vertical-align: top;\n",
              "    }\n",
              "\n",
              "    .dataframe thead th {\n",
              "        text-align: right;\n",
              "    }\n",
              "</style>\n",
              "<table border=\"1\" class=\"dataframe\">\n",
              "  <thead>\n",
              "    <tr style=\"text-align: right;\">\n",
              "      <th></th>\n",
              "      <th>SUBSTANCIA</th>\n",
              "      <th>CNPJ</th>\n",
              "      <th>LABORATORIO</th>\n",
              "      <th>APRESENTACAO</th>\n",
              "      <th>REGIME_DE_PRECO</th>\n",
              "      <th>PRECO_SEM_IMPOSTOS</th>\n",
              "      <th>TARJA</th>\n",
              "    </tr>\n",
              "  </thead>\n",
              "  <tbody>\n",
              "    <tr>\n",
              "      <th>12421</th>\n",
              "      <td>ERDAFITINIBE</td>\n",
              "      <td>51.780.468/0001-87</td>\n",
              "      <td>JANSSEN-CILAG FARMAC_UTICA LTDA</td>\n",
              "      <td>3 MG COM REV CT BL AL PLAS PVC/PCTFE TRANS X 84</td>\n",
              "      <td>Regulado</td>\n",
              "      <td>70373.0</td>\n",
              "      <td>Tarja Vermelha (*)</td>\n",
              "    </tr>\n",
              "  </tbody>\n",
              "</table>\n",
              "</div>"
            ],
            "text/plain": [
              "         SUBSTANCIA                CNPJ  ... PRECO_SEM_IMPOSTOS               TARJA\n",
              "12421  ERDAFITINIBE  51.780.468/0001-87  ...            70373.0  Tarja Vermelha (*)\n",
              "\n",
              "[1 rows x 7 columns]"
            ]
          },
          "metadata": {
            "tags": []
          },
          "execution_count": 20
        }
      ]
    },
    {
      "cell_type": "markdown",
      "metadata": {
        "id": "vNWDSpRH7V5K"
      },
      "source": [
        "PERGUNTA 2: Qual é o preço médio dos Medicamentos desses laboratórios?"
      ]
    },
    {
      "cell_type": "code",
      "metadata": {
        "id": "ITAGSsVR73GS"
      },
      "source": [
        "medias = {}\n",
        "medias[\"Bayer\"] = (bayer['PRECO_SEM_IMPOSTOS'].mean())\n",
        "medias[\"Janssen\"] = (janssen['PRECO_SEM_IMPOSTOS'].mean())\n",
        "medias[\"Johnson\"] = (johnson['PRECO_SEM_IMPOSTOS'].mean())\n",
        "medias[\"Bristol\"] = (bristol['PRECO_SEM_IMPOSTOS'].mean())\n",
        "medias[\"Teuto\"] = (teuto['PRECO_SEM_IMPOSTOS'].mean())"
      ],
      "execution_count": null,
      "outputs": []
    },
    {
      "cell_type": "code",
      "metadata": {
        "colab": {
          "base_uri": "https://localhost:8080/"
        },
        "id": "xjQSz0XtFV4o",
        "outputId": "45fef57f-4380-47c2-b913-87a60123d672"
      },
      "source": [
        "medias"
      ],
      "execution_count": null,
      "outputs": [
        {
          "output_type": "execute_result",
          "data": {
            "text/plain": [
              "{'Bayer': 1250.588716814159,\n",
              " 'Bristol': 3219.545,\n",
              " 'Janssen': 2918.650042918456,\n",
              " 'Johnson': 34.816428571428574,\n",
              " 'Teuto': 130.9372964669738}"
            ]
          },
          "metadata": {
            "tags": []
          },
          "execution_count": 22
        }
      ]
    },
    {
      "cell_type": "markdown",
      "metadata": {
        "id": "WEKZWduUFVff"
      },
      "source": [
        "PERGUNTA 3: Qual é o medicamento mais barato desses laboratórios?"
      ]
    },
    {
      "cell_type": "code",
      "metadata": {
        "id": "aK0ceVQIGhu8"
      },
      "source": [
        "baratos = {}\n",
        "def MaisBarato(laboratorio, dicionario, nome):\n",
        "  mais_barato = mais_caro\n",
        "  medicamento = None\n",
        "  for preco in laboratorio['PRECO_SEM_IMPOSTOS']:    \n",
        "    if(preco<mais_barato):\n",
        "      mais_barato = preco\n",
        "      medicamento = laboratorio.loc[laboratorio['PRECO_SEM_IMPOSTOS']== preco]\n",
        "  baratos[nome]= medicamento\n",
        "\n",
        "MaisBarato(bayer, baratos, 'Bayer')\n",
        "MaisBarato(bristol, baratos, 'Bristol')\n",
        "MaisBarato(janssen, baratos, 'Janssen')\n",
        "MaisBarato(johnson, baratos, 'Johnson')\n",
        "MaisBarato(teuto, baratos, 'Teuto')"
      ],
      "execution_count": null,
      "outputs": []
    },
    {
      "cell_type": "code",
      "metadata": {
        "colab": {
          "base_uri": "https://localhost:8080/",
          "height": 80
        },
        "id": "_XRrWWYxO4BA",
        "outputId": "61eb3d97-9d5a-492f-a06c-c278d2b15e51"
      },
      "source": [
        "baratos['Bayer'].head()"
      ],
      "execution_count": null,
      "outputs": [
        {
          "output_type": "execute_result",
          "data": {
            "text/html": [
              "<div>\n",
              "<style scoped>\n",
              "    .dataframe tbody tr th:only-of-type {\n",
              "        vertical-align: middle;\n",
              "    }\n",
              "\n",
              "    .dataframe tbody tr th {\n",
              "        vertical-align: top;\n",
              "    }\n",
              "\n",
              "    .dataframe thead th {\n",
              "        text-align: right;\n",
              "    }\n",
              "</style>\n",
              "<table border=\"1\" class=\"dataframe\">\n",
              "  <thead>\n",
              "    <tr style=\"text-align: right;\">\n",
              "      <th></th>\n",
              "      <th>SUBSTANCIA</th>\n",
              "      <th>CNPJ</th>\n",
              "      <th>LABORATORIO</th>\n",
              "      <th>APRESENTACAO</th>\n",
              "      <th>REGIME_DE_PRECO</th>\n",
              "      <th>PRECO_SEM_IMPOSTOS</th>\n",
              "      <th>TARJA</th>\n",
              "    </tr>\n",
              "  </thead>\n",
              "  <tbody>\n",
              "    <tr>\n",
              "      <th>18889</th>\n",
              "      <td>NAPROXENO S_DICO</td>\n",
              "      <td>18.459.628/0001-15</td>\n",
              "      <td>BAYER S.A.</td>\n",
              "      <td>275 MG COM REV CT BL AL PLAS TRANS X 4</td>\n",
              "      <td>Liberado</td>\n",
              "      <td>3.85</td>\n",
              "      <td>Tarja Vermelha (*)</td>\n",
              "    </tr>\n",
              "  </tbody>\n",
              "</table>\n",
              "</div>"
            ],
            "text/plain": [
              "             SUBSTANCIA  ...               TARJA\n",
              "18889  NAPROXENO S_DICO  ...  Tarja Vermelha (*)\n",
              "\n",
              "[1 rows x 7 columns]"
            ]
          },
          "metadata": {
            "tags": []
          },
          "execution_count": 24
        }
      ]
    },
    {
      "cell_type": "code",
      "metadata": {
        "colab": {
          "base_uri": "https://localhost:8080/",
          "height": 247
        },
        "id": "Rdun-OOPO1ly",
        "outputId": "1fdf4a3b-eb06-4a12-d0f5-11c14809e627"
      },
      "source": [
        "baratos['Bristol'].head()"
      ],
      "execution_count": null,
      "outputs": [
        {
          "output_type": "execute_result",
          "data": {
            "text/html": [
              "<div>\n",
              "<style scoped>\n",
              "    .dataframe tbody tr th:only-of-type {\n",
              "        vertical-align: middle;\n",
              "    }\n",
              "\n",
              "    .dataframe tbody tr th {\n",
              "        vertical-align: top;\n",
              "    }\n",
              "\n",
              "    .dataframe thead th {\n",
              "        text-align: right;\n",
              "    }\n",
              "</style>\n",
              "<table border=\"1\" class=\"dataframe\">\n",
              "  <thead>\n",
              "    <tr style=\"text-align: right;\">\n",
              "      <th></th>\n",
              "      <th>SUBSTANCIA</th>\n",
              "      <th>CNPJ</th>\n",
              "      <th>LABORATORIO</th>\n",
              "      <th>APRESENTACAO</th>\n",
              "      <th>REGIME_DE_PRECO</th>\n",
              "      <th>PRECO_SEM_IMPOSTOS</th>\n",
              "      <th>TARJA</th>\n",
              "    </tr>\n",
              "  </thead>\n",
              "  <tbody>\n",
              "    <tr>\n",
              "      <th>21039</th>\n",
              "      <td>PARACETAMOL;CLORIDRATO DE FENILEFRINA</td>\n",
              "      <td>56.998.982/0001-07</td>\n",
              "      <td>BRISTOL-MYERS SQUIBB FARMAC_UTICA LTDA</td>\n",
              "      <td>800 MG + 20 MG COM CT BL AL /AL X 12 COM AMARE...</td>\n",
              "      <td>Liberado</td>\n",
              "      <td>21.87</td>\n",
              "      <td>Venda Livre/Sem Tarja (*)</td>\n",
              "    </tr>\n",
              "    <tr>\n",
              "      <th>21116</th>\n",
              "      <td>PARACETAMOL;MALEATO DE CARBINOXAMINA;CLORIDRAT...</td>\n",
              "      <td>56.998.982/0001-07</td>\n",
              "      <td>BRISTOL-MYERS SQUIBB FARMAC_UTICA LTDA</td>\n",
              "      <td>400 MG + 20 MG COM AMARELO/400 MG + 4 MG COM L...</td>\n",
              "      <td>Liberado</td>\n",
              "      <td>21.87</td>\n",
              "      <td>Venda Livre/Sem Tarja (*)</td>\n",
              "    </tr>\n",
              "    <tr>\n",
              "      <th>21118</th>\n",
              "      <td>PARACETAMOL;MALEATO DE CARBINOXAMINA;CLORIDRAT...</td>\n",
              "      <td>56.998.982/0001-07</td>\n",
              "      <td>BRISTOL-MYERS SQUIBB FARMAC_UTICA LTDA</td>\n",
              "      <td>400 MG + (400 MG + 20 MG) + (400 MG + 4 MG) CO...</td>\n",
              "      <td>Liberado</td>\n",
              "      <td>21.87</td>\n",
              "      <td>Venda Livre/Sem Tarja (*)</td>\n",
              "    </tr>\n",
              "  </tbody>\n",
              "</table>\n",
              "</div>"
            ],
            "text/plain": [
              "                                              SUBSTANCIA  ...                      TARJA\n",
              "21039              PARACETAMOL;CLORIDRATO DE FENILEFRINA  ...  Venda Livre/Sem Tarja (*)\n",
              "21116  PARACETAMOL;MALEATO DE CARBINOXAMINA;CLORIDRAT...  ...  Venda Livre/Sem Tarja (*)\n",
              "21118  PARACETAMOL;MALEATO DE CARBINOXAMINA;CLORIDRAT...  ...  Venda Livre/Sem Tarja (*)\n",
              "\n",
              "[3 rows x 7 columns]"
            ]
          },
          "metadata": {
            "tags": []
          },
          "execution_count": 25
        }
      ]
    },
    {
      "cell_type": "code",
      "metadata": {
        "colab": {
          "base_uri": "https://localhost:8080/",
          "height": 98
        },
        "id": "cnSFd9IiPclt",
        "outputId": "11c5d40b-4b06-446d-d29f-609aa87967f4"
      },
      "source": [
        "baratos['Teuto'].head()"
      ],
      "execution_count": null,
      "outputs": [
        {
          "output_type": "execute_result",
          "data": {
            "text/html": [
              "<div>\n",
              "<style scoped>\n",
              "    .dataframe tbody tr th:only-of-type {\n",
              "        vertical-align: middle;\n",
              "    }\n",
              "\n",
              "    .dataframe tbody tr th {\n",
              "        vertical-align: top;\n",
              "    }\n",
              "\n",
              "    .dataframe thead th {\n",
              "        text-align: right;\n",
              "    }\n",
              "</style>\n",
              "<table border=\"1\" class=\"dataframe\">\n",
              "  <thead>\n",
              "    <tr style=\"text-align: right;\">\n",
              "      <th></th>\n",
              "      <th>SUBSTANCIA</th>\n",
              "      <th>CNPJ</th>\n",
              "      <th>LABORATORIO</th>\n",
              "      <th>APRESENTACAO</th>\n",
              "      <th>REGIME_DE_PRECO</th>\n",
              "      <th>PRECO_SEM_IMPOSTOS</th>\n",
              "      <th>TARJA</th>\n",
              "    </tr>\n",
              "  </thead>\n",
              "  <tbody>\n",
              "    <tr>\n",
              "      <th>8485</th>\n",
              "      <td>CLORIDRATO DE METOCLOPRAMIDA</td>\n",
              "      <td>17.159.229/0001-76</td>\n",
              "      <td>LABORAT_RIO TEUTO BRASILEIRO S/A</td>\n",
              "      <td>4 MG/ML SOL OR CT FR PLAS OPC GOT X 10 ML</td>\n",
              "      <td>Regulado</td>\n",
              "      <td>2.88</td>\n",
              "      <td>Tarja Vermelha</td>\n",
              "    </tr>\n",
              "  </tbody>\n",
              "</table>\n",
              "</div>"
            ],
            "text/plain": [
              "                        SUBSTANCIA  ...           TARJA\n",
              "8485  CLORIDRATO DE METOCLOPRAMIDA  ...  Tarja Vermelha\n",
              "\n",
              "[1 rows x 7 columns]"
            ]
          },
          "metadata": {
            "tags": []
          },
          "execution_count": 26
        }
      ]
    },
    {
      "cell_type": "code",
      "metadata": {
        "colab": {
          "base_uri": "https://localhost:8080/",
          "height": 230
        },
        "id": "_Chkf7Y7PgkV",
        "outputId": "c1b807e8-f9d6-4659-f6e1-32ff416c2f5a"
      },
      "source": [
        "baratos['Johnson'].head()"
      ],
      "execution_count": null,
      "outputs": [
        {
          "output_type": "execute_result",
          "data": {
            "text/html": [
              "<div>\n",
              "<style scoped>\n",
              "    .dataframe tbody tr th:only-of-type {\n",
              "        vertical-align: middle;\n",
              "    }\n",
              "\n",
              "    .dataframe tbody tr th {\n",
              "        vertical-align: top;\n",
              "    }\n",
              "\n",
              "    .dataframe thead th {\n",
              "        text-align: right;\n",
              "    }\n",
              "</style>\n",
              "<table border=\"1\" class=\"dataframe\">\n",
              "  <thead>\n",
              "    <tr style=\"text-align: right;\">\n",
              "      <th></th>\n",
              "      <th>SUBSTANCIA</th>\n",
              "      <th>CNPJ</th>\n",
              "      <th>LABORATORIO</th>\n",
              "      <th>APRESENTACAO</th>\n",
              "      <th>REGIME_DE_PRECO</th>\n",
              "      <th>PRECO_SEM_IMPOSTOS</th>\n",
              "      <th>TARJA</th>\n",
              "    </tr>\n",
              "  </thead>\n",
              "  <tbody>\n",
              "    <tr>\n",
              "      <th>6154</th>\n",
              "      <td>CLORETO DE AM_NIO;CITRATO DE S_DIO;CLORIDRATO ...</td>\n",
              "      <td>59.748.988/0001-14</td>\n",
              "      <td>JOHNSON &amp; JOHNSON INDUSTRIAL LTDA.</td>\n",
              "      <td>5 MG + 50 MG + 10 MG PAS CT ENV AL X 12 (SABOR...</td>\n",
              "      <td>Liberado</td>\n",
              "      <td>7.45</td>\n",
              "      <td>Venda Livre/Sem Tarja (*)</td>\n",
              "    </tr>\n",
              "    <tr>\n",
              "      <th>6158</th>\n",
              "      <td>CLORETO DE AM_NIO;CITRATO DE S_DIO;CLORIDRATO ...</td>\n",
              "      <td>59.748.988/0001-14</td>\n",
              "      <td>JOHNSON &amp; JOHNSON INDUSTRIAL LTDA.</td>\n",
              "      <td>5 MG + 50 MG + 10 MG PAS CT ENV AL X 12 (SABOR...</td>\n",
              "      <td>Liberado</td>\n",
              "      <td>7.45</td>\n",
              "      <td>Venda Livre/Sem Tarja (*)</td>\n",
              "    </tr>\n",
              "    <tr>\n",
              "      <th>6159</th>\n",
              "      <td>CLORETO DE AM_NIO;CITRATO DE S_DIO;CLORIDRATO ...</td>\n",
              "      <td>59.748.988/0001-14</td>\n",
              "      <td>JOHNSON &amp; JOHNSON INDUSTRIAL LTDA.</td>\n",
              "      <td>5 MG + 50 MG + 10 MG PAS CT ENV AL X 12 (SABOR...</td>\n",
              "      <td>Liberado</td>\n",
              "      <td>7.45</td>\n",
              "      <td>Tarja Vermelha (*)</td>\n",
              "    </tr>\n",
              "  </tbody>\n",
              "</table>\n",
              "</div>"
            ],
            "text/plain": [
              "                                             SUBSTANCIA  ...                      TARJA\n",
              "6154  CLORETO DE AM_NIO;CITRATO DE S_DIO;CLORIDRATO ...  ...  Venda Livre/Sem Tarja (*)\n",
              "6158  CLORETO DE AM_NIO;CITRATO DE S_DIO;CLORIDRATO ...  ...  Venda Livre/Sem Tarja (*)\n",
              "6159  CLORETO DE AM_NIO;CITRATO DE S_DIO;CLORIDRATO ...  ...         Tarja Vermelha (*)\n",
              "\n",
              "[3 rows x 7 columns]"
            ]
          },
          "metadata": {
            "tags": []
          },
          "execution_count": 27
        }
      ]
    },
    {
      "cell_type": "code",
      "metadata": {
        "colab": {
          "base_uri": "https://localhost:8080/",
          "height": 80
        },
        "id": "74AMR3v5PiIU",
        "outputId": "1de68cb1-53df-48d5-d4de-95fdca775611"
      },
      "source": [
        "baratos['Janssen'].head()"
      ],
      "execution_count": null,
      "outputs": [
        {
          "output_type": "execute_result",
          "data": {
            "text/html": [
              "<div>\n",
              "<style scoped>\n",
              "    .dataframe tbody tr th:only-of-type {\n",
              "        vertical-align: middle;\n",
              "    }\n",
              "\n",
              "    .dataframe tbody tr th {\n",
              "        vertical-align: top;\n",
              "    }\n",
              "\n",
              "    .dataframe thead th {\n",
              "        text-align: right;\n",
              "    }\n",
              "</style>\n",
              "<table border=\"1\" class=\"dataframe\">\n",
              "  <thead>\n",
              "    <tr style=\"text-align: right;\">\n",
              "      <th></th>\n",
              "      <th>SUBSTANCIA</th>\n",
              "      <th>CNPJ</th>\n",
              "      <th>LABORATORIO</th>\n",
              "      <th>APRESENTACAO</th>\n",
              "      <th>REGIME_DE_PRECO</th>\n",
              "      <th>PRECO_SEM_IMPOSTOS</th>\n",
              "      <th>TARJA</th>\n",
              "    </tr>\n",
              "  </thead>\n",
              "  <tbody>\n",
              "    <tr>\n",
              "      <th>14584</th>\n",
              "      <td>HALOPERIDOL</td>\n",
              "      <td>51.780.468/0001-87</td>\n",
              "      <td>JANSSEN-CILAG FARMAC_UTICA LTDA</td>\n",
              "      <td>1 MG COM CT BL AL PLAS INC X 20</td>\n",
              "      <td>Regulado</td>\n",
              "      <td>3.93</td>\n",
              "      <td>Tarja Vermelha</td>\n",
              "    </tr>\n",
              "  </tbody>\n",
              "</table>\n",
              "</div>"
            ],
            "text/plain": [
              "        SUBSTANCIA                CNPJ  ... PRECO_SEM_IMPOSTOS           TARJA\n",
              "14584  HALOPERIDOL  51.780.468/0001-87  ...               3.93  Tarja Vermelha\n",
              "\n",
              "[1 rows x 7 columns]"
            ]
          },
          "metadata": {
            "tags": []
          },
          "execution_count": 28
        }
      ]
    }
  ]
}